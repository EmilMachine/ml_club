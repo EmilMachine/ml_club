{
 "cells": [
  {
   "cell_type": "markdown",
   "metadata": {},
   "source": [
    "# Purpose\n",
    "- Do a regression competition: \n",
    "    - https://www.kaggle.com/c/house-prices-advanced-regression-techniques\n",
    "    \n",
    "\n",
    "- Inspiration (clasification notebooks)\n",
    "https://github.com/EmilMachine/ml_club/blob/master/05_intro_ml/notebooks/"
   ]
  },
  {
   "cell_type": "markdown",
   "metadata": {},
   "source": [
    "## Import libs"
   ]
  },
  {
   "cell_type": "code",
   "execution_count": 65,
   "metadata": {},
   "outputs": [
    {
     "data": {
      "text/plain": [
       "'0.24.1'"
      ]
     },
     "execution_count": 65,
     "metadata": {},
     "output_type": "execute_result"
    }
   ],
   "source": [
    "sklearn.__version__"
   ]
  },
  {
   "cell_type": "code",
   "execution_count": 67,
   "metadata": {},
   "outputs": [],
   "source": [
    "# misc\n",
    "from IPython.display import display, HTML\n",
    "import numpy as np\n",
    "\n",
    "# DATA - prep\n",
    "#kaggle\n",
    "import pandas as pd\n",
    "import sklearn.model_selection\n",
    "\n",
    "# ML - models \n",
    "from sklearn.linear_model import LinearRegression\n",
    "# ML - accuracy\n",
    "import sklearn.metrics"
   ]
  },
  {
   "cell_type": "markdown",
   "metadata": {},
   "source": [
    "# helper"
   ]
  },
  {
   "cell_type": "code",
   "execution_count": 94,
   "metadata": {},
   "outputs": [],
   "source": [
    "\n",
    "def ds_explore(df_src,target,cols_rm=[],col_id=[],**kwargs):\n",
    "    unique_lim = kwargs.get(\"unique_lim\",50)\n",
    "    target=[target]\n",
    "    \n",
    "    remove = cols_rm + col_id + target\n",
    "    cols_num = [i for i in df_src._get_numeric_data().columns if i not in remove]\n",
    "    cols_str = [i for i in df_src.columns if i not in cols_num + remove]\n",
    "\n",
    "    unique_count = df_src[cols_str].nunique()\n",
    "    \n",
    "\n",
    "    cols_str_cat = list(unique_count[unique_count<unique_lim].index)\n",
    "    cols_str_nlp = [i for i in cols_str if i not in cols_str_cat]\n",
    "\n",
    "    meta = {\n",
    "        \"cols_str_cat\" : cols_str_cat\n",
    "        ,\"cols_str_nlp\" : cols_str_nlp\n",
    "        ,\"cols_num\" : cols_num\n",
    "        ,\"col_id\": col_id\n",
    "        ,\"target\" : target\n",
    "    }\n",
    "    # we now have split the dataset in 3 categories\n",
    "    # num_cols = numeric columns\n",
    "    # str_cat = string columns that can be treated as categorical\n",
    "    # str_nlp = string columns that can be treated as nlp\n",
    "\n",
    "    return meta"
   ]
  },
  {
   "cell_type": "markdown",
   "metadata": {},
   "source": [
    "## Get data"
   ]
  },
  {
   "cell_type": "code",
   "execution_count": 16,
   "metadata": {},
   "outputs": [],
   "source": [
    "\n",
    "metadata = {\n",
    "    'dataset':'house-prices-advanced-regression-techniques',\n",
    "    'train' : 'train.csv',\n",
    "    'test' : 'test.csv'}"
   ]
  },
  {
   "cell_type": "code",
   "execution_count": 15,
   "metadata": {},
   "outputs": [
    {
     "name": "stdout",
     "output_type": "stream",
     "text": [
      "Downloading house-prices-advanced-regression-techniques.zip to /Users/emil/hack/ml_club/11_house_regression\n",
      "  0%|                                                | 0.00/199k [00:00<?, ?B/s]\n",
      "100%|████████████████████████████████████████| 199k/199k [00:00<00:00, 3.61MB/s]\n",
      "Archive:  house-prices-advanced-regression-techniques.zip\n",
      "  inflating: house-prices-advanced-regression-techniques/data_description.txt  \n",
      "  inflating: house-prices-advanced-regression-techniques/sample_submission.csv  \n",
      "  inflating: house-prices-advanced-regression-techniques/test.csv  \n",
      "  inflating: house-prices-advanced-regression-techniques/train.csv  \n"
     ]
    }
   ],
   "source": [
    "#!mkdir -p {metadata['basepath']}\n",
    "!kaggle competitions download -c dataset {metadata['dataset']}\n",
    "!unzip -o {metadata['dataset']}.zip -d {metadata['dataset']}/\n",
    "!rm {metadata['dataset']}.zip\n"
   ]
  },
  {
   "cell_type": "code",
   "execution_count": 18,
   "metadata": {},
   "outputs": [],
   "source": [
    "\n",
    "# load\n",
    "train = pd.read_csv(\"{dataset}/{train}\".format(**metadata))\n",
    "test = pd.read_csv(\"{dataset}/{test}\".format(**metadata))"
   ]
  },
  {
   "cell_type": "code",
   "execution_count": 39,
   "metadata": {},
   "outputs": [],
   "source": [
    "# na_check\n",
    "train.columns\n",
    "# with pd.option_context('display.max_rows', None):\n",
    "#     display(pd.DataFrame(test.isna().mean() ,columns=[\"is na fraction\"]))\n",
    "\n",
    "pd.DataFrame(test.isna().mean() ,columns=[\"is_na_fraction\"])\n",
    "\n",
    "# remove all coulmns with any na\n",
    "# ---\n",
    "# tmp = pd.DataFrame(test.isna().mean(),columns=[\"na_frac\"])\n",
    "# rm_columns_na = list(tmp[tmp[\"na_frac\"]>0].index.values)\n",
    "#tmp[tmp[\"na_frac\"]>0]\n",
    "                "
   ]
  },
  {
   "cell_type": "code",
   "execution_count": 96,
   "metadata": {},
   "outputs": [
    {
     "data": {
      "text/plain": [
       "{'cols_str_cat': ['Street',\n",
       "  'LotShape',\n",
       "  'LandContour',\n",
       "  'LotConfig',\n",
       "  'LandSlope',\n",
       "  'Neighborhood',\n",
       "  'Condition1',\n",
       "  'Condition2',\n",
       "  'BldgType',\n",
       "  'HouseStyle',\n",
       "  'RoofStyle',\n",
       "  'RoofMatl',\n",
       "  'ExterQual',\n",
       "  'ExterCond',\n",
       "  'Foundation',\n",
       "  'Heating',\n",
       "  'HeatingQC',\n",
       "  'CentralAir',\n",
       "  'Electrical',\n",
       "  'PavedDrive',\n",
       "  'SaleCondition'],\n",
       " 'cols_str_nlp': [],\n",
       " 'cols_num': ['MSSubClass',\n",
       "  'LotArea',\n",
       "  'OverallQual',\n",
       "  'OverallCond',\n",
       "  'YearBuilt',\n",
       "  'YearRemodAdd',\n",
       "  '1stFlrSF',\n",
       "  '2ndFlrSF',\n",
       "  'LowQualFinSF',\n",
       "  'GrLivArea',\n",
       "  'FullBath',\n",
       "  'HalfBath',\n",
       "  'BedroomAbvGr',\n",
       "  'KitchenAbvGr',\n",
       "  'TotRmsAbvGrd',\n",
       "  'Fireplaces',\n",
       "  'WoodDeckSF',\n",
       "  'OpenPorchSF',\n",
       "  'EnclosedPorch',\n",
       "  '3SsnPorch',\n",
       "  'ScreenPorch',\n",
       "  'PoolArea',\n",
       "  'MiscVal',\n",
       "  'MoSold',\n",
       "  'YrSold'],\n",
       " 'col_id': ['Id'],\n",
       " 'target': ['SalePrice']}"
      ]
     },
     "execution_count": 96,
     "metadata": {},
     "output_type": "execute_result"
    }
   ],
   "source": [
    "# remove all coulmns with any na\n",
    "tmp = pd.DataFrame(test.isna().mean(),columns=[\"na_frac\"])\n",
    "rm_columns_na = list(tmp[tmp[\"na_frac\"]>0].index.values)\n",
    "\n",
    "meta = ds_explore(train\n",
    "                  ,target=\"SalePrice\"\n",
    "                  ,cols_rm=rm_columns_na\n",
    "                  ,col_id=[\"Id\"])\n",
    "meta"
   ]
  },
  {
   "cell_type": "code",
   "execution_count": 68,
   "metadata": {},
   "outputs": [],
   "source": [
    "target = meta[\"target\"]\n",
    "# keep numeric features without missing vals\n",
    "keep_features = meta[\"cols_num\"]\n",
    "seed = 42\n",
    "test_size = 0.7\n",
    "\n",
    "\n",
    "y = train[target]\n",
    "X = train[keep_features]\n",
    "\n",
    "\n",
    "X_train, X_val, y_train, y_val = sklearn.model_selection.train_test_split(\n",
    "    X,\n",
    "    y,\n",
    "    random_state = seed,\n",
    "    test_size = test_size)"
   ]
  },
  {
   "cell_type": "markdown",
   "metadata": {},
   "source": [
    "# ML "
   ]
  },
  {
   "cell_type": "code",
   "execution_count": 90,
   "metadata": {},
   "outputs": [],
   "source": [
    "# Linear regression\n",
    "model_lin = sklearn.linear_model.LinearRegression()\n",
    "model_lin.fit(X_train, y_train);"
   ]
  },
  {
   "cell_type": "code",
   "execution_count": 89,
   "metadata": {},
   "outputs": [],
   "source": [
    "# naive baseline\n",
    "class naive():\n",
    "    def __init__(self,avg):\n",
    "        self.avg = avg\n",
    "        \n",
    "    def predict(self, df):\n",
    "        return self.avg*np.ones(df.shape[0])\n",
    "\n",
    "model_naive = naive(avg=np.mean(y_train.values))\n",
    "\n"
   ]
  },
  {
   "cell_type": "markdown",
   "metadata": {},
   "source": [
    "# eval"
   ]
  },
  {
   "cell_type": "code",
   "execution_count": 93,
   "metadata": {},
   "outputs": [
    {
     "name": "stdout",
     "output_type": "stream",
     "text": [
      "model_naive 82205.6264\n",
      "model_lin 40988.6077\n"
     ]
    }
   ],
   "source": [
    "models = {\n",
    "    \"model_naive\" : model_naive,\n",
    "    \"model_lin\" : model_lin\n",
    "}\n",
    "\n",
    "for name,model in zip(models.keys(),models.values()):\n",
    "    mse = sklearn.metrics.mean_squared_error(\n",
    "     y_true = y_val,\n",
    "     y_pred = model.predict(X_val)\n",
    "    )\n",
    "    # root mean squared error\n",
    "    rmse = np.power(mse,0.5)\n",
    "    \n",
    "    print(name,round(rmse,4))"
   ]
  },
  {
   "cell_type": "markdown",
   "metadata": {},
   "source": [
    "# predict and submit"
   ]
  },
  {
   "cell_type": "code",
   "execution_count": 98,
   "metadata": {},
   "outputs": [],
   "source": [
    "# passengerid\n",
    "id = meta[\"col_id\"][0]\n",
    "out = pd.DataFrame(data = test[id], columns = [id])\n",
    "\n",
    "# target\n",
    "out_target = model_logreg.predict(test[keep_features])\n",
    "out[target] = pd.DataFrame(out_target\n",
    "                          ,columns = [target]\n",
    "                          ,dtype=np.int32\n",
    "                          )\n",
    "\n",
    "\n",
    "# put them out\n",
    "outfile = \"output.csv\"\n",
    "out.to_csv(path_or_buf = outfile,\n",
    "           index = False)"
   ]
  },
  {
   "cell_type": "code",
   "execution_count": 99,
   "metadata": {},
   "outputs": [
    {
     "name": "stdout",
     "output_type": "stream",
     "text": [
      "100%|██████████████████████████████████████| 17.0k/17.0k [00:02<00:00, 6.25kB/s]\n",
      "Successfully submitted to House Prices - Advanced Regression Techniques"
     ]
    }
   ],
   "source": [
    "# Submit\n",
    "#!kaggle competitions submit {metadata['dataset']} -f {outfile} -m \"minimal model\""
   ]
  },
  {
   "cell_type": "code",
   "execution_count": 100,
   "metadata": {},
   "outputs": [
    {
     "name": "stdout",
     "output_type": "stream",
     "text": [
      "fileName    date                 description    status    publicScore  privateScore  \n",
      "----------  -------------------  -------------  --------  -----------  ------------  \n",
      "output.csv  2021-03-30 22:28:30  minimal model  complete  0.20947      None          \n"
     ]
    }
   ],
   "source": [
    "#submit\n",
    "!kaggle competitions submissions \"{metadata['dataset']}\""
   ]
  },
  {
   "cell_type": "code",
   "execution_count": null,
   "metadata": {},
   "outputs": [],
   "source": []
  }
 ],
 "metadata": {
  "kernelspec": {
   "display_name": "Python 3",
   "language": "python",
   "name": "python3"
  },
  "language_info": {
   "codemirror_mode": {
    "name": "ipython",
    "version": 3
   },
   "file_extension": ".py",
   "mimetype": "text/x-python",
   "name": "python",
   "nbconvert_exporter": "python",
   "pygments_lexer": "ipython3",
   "version": "3.9.0"
  }
 },
 "nbformat": 4,
 "nbformat_minor": 4
}
