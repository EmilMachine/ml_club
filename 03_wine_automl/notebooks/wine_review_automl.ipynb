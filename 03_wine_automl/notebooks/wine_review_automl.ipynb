{
 "cells": [
  {
   "cell_type": "markdown",
   "metadata": {
    "toc": true
   },
   "source": [
    "<h1>Table of Contents<span class=\"tocSkip\"></span></h1>\n",
    "<div class=\"toc\"><ul class=\"toc-item\"><li><span><a href=\"#Init\" data-toc-modified-id=\"Init-1\"><span class=\"toc-item-num\">1&nbsp;&nbsp;</span>Init</a></span></li><li><span><a href=\"#Notes\" data-toc-modified-id=\"Notes-2\"><span class=\"toc-item-num\">2&nbsp;&nbsp;</span>Notes</a></span></li><li><span><a href=\"#Systematic-go-through-stuff\" data-toc-modified-id=\"Systematic-go-through-stuff-3\"><span class=\"toc-item-num\">3&nbsp;&nbsp;</span>Systematic go through stuff</a></span><ul class=\"toc-item\"><li><span><a href=\"#Meta-analysis\" data-toc-modified-id=\"Meta-analysis-3.1\"><span class=\"toc-item-num\">3.1&nbsp;&nbsp;</span>Meta analysis</a></span></li><li><span><a href=\"#Split-data\" data-toc-modified-id=\"Split-data-3.2\"><span class=\"toc-item-num\">3.2&nbsp;&nbsp;</span>Split data</a></span></li><li><span><a href=\"#Transformer\" data-toc-modified-id=\"Transformer-3.3\"><span class=\"toc-item-num\">3.3&nbsp;&nbsp;</span>Transformer</a></span></li></ul></li></ul></div>"
   ]
  },
  {
   "cell_type": "markdown",
   "metadata": {},
   "source": [
    "# Init"
   ]
  },
  {
   "cell_type": "code",
   "execution_count": 28,
   "metadata": {
    "ExecuteTime": {
     "end_time": "2019-05-07T15:36:31.988962Z",
     "start_time": "2019-05-07T15:32:50.546483Z"
    }
   },
   "outputs": [
    {
     "name": "stderr",
     "output_type": "stream",
     "text": [
      "[nltk_data] Downloading package stopwords to /Users/emil/nltk_data...\n",
      "[nltk_data]   Package stopwords is already up-to-date!\n"
     ]
    }
   ],
   "source": [
    "# Model libs (you can use any of the models below)\n",
    "from sklearn.linear_model import LinearRegression\n",
    "from sklearn.ensemble import GradientBoostingRegressor, RandomForestRegressor\n",
    "from sklearn.neural_network import MLPRegressor\n",
    "\n",
    "# Data\n",
    "from sklearn.model_selection import train_test_split\n",
    "import pandas as pd\n",
    "import numpy as np\n",
    "import re\n",
    "import os.path\n",
    "\n",
    "# Text processing\n",
    "import nltk\n",
    "nltk.download('stopwords')\n",
    "\n",
    "# Validation/scoring\n",
    "from sklearn.metrics import mean_squared_error\n",
    "\n",
    "# Plotting\n",
    "from matplotlib import pyplot as plt\n",
    "\n",
    "# Other\n",
    "from IPython.display import HTML, display\n",
    "\n",
    "# Config\n",
    "pd.set_option('display.max_columns', 500)\n",
    "pd.set_option('max_colwidth', 100)\n",
    "y_col = \"points\""
   ]
  },
  {
   "cell_type": "markdown",
   "metadata": {},
   "source": [
    "https://www.kaggle.com/zynicide/wine-reviews\n"
   ]
  },
  {
   "cell_type": "code",
   "execution_count": 31,
   "metadata": {
    "ExecuteTime": {
     "end_time": "2019-05-07T15:37:42.050020Z",
     "start_time": "2019-05-07T15:37:40.210447Z"
    }
   },
   "outputs": [],
   "source": [
    "\n",
    "\n",
    "if os.path.isfile(\"../data/wine.csv\"):\n",
    "    df_src = pd.read_csv(\"../data/wine.csv\", encoding=\"utf-8\", sep=\";\")\n",
    "elif os.path.isfile(\"../data/winemag-data_first150k.json\"): \n",
    "    df_src = pd.read_json(\"../data/winemag-data_first150k.json\", encoding=\"utf-8\")\n",
    "\n",
    "#(\"\"../data/winemag-data_first150k.json\")\n",
    "\n",
    "#https://www.kaggle.com/zynicide/wine-reviews#winemag-data-130k-v2.csv"
   ]
  },
  {
   "cell_type": "code",
   "execution_count": 32,
   "metadata": {},
   "outputs": [
    {
     "data": {
      "text/html": [
       "<div>\n",
       "<style scoped>\n",
       "    .dataframe tbody tr th:only-of-type {\n",
       "        vertical-align: middle;\n",
       "    }\n",
       "\n",
       "    .dataframe tbody tr th {\n",
       "        vertical-align: top;\n",
       "    }\n",
       "\n",
       "    .dataframe thead th {\n",
       "        text-align: right;\n",
       "    }\n",
       "</style>\n",
       "<table border=\"1\" class=\"dataframe\">\n",
       "  <thead>\n",
       "    <tr style=\"text-align: right;\">\n",
       "      <th></th>\n",
       "      <th>country</th>\n",
       "      <th>description</th>\n",
       "      <th>designation</th>\n",
       "      <th>points</th>\n",
       "      <th>price</th>\n",
       "      <th>province</th>\n",
       "      <th>region_1</th>\n",
       "      <th>region_2</th>\n",
       "      <th>variety</th>\n",
       "      <th>winery</th>\n",
       "    </tr>\n",
       "  </thead>\n",
       "  <tbody>\n",
       "    <tr>\n",
       "      <th>0</th>\n",
       "      <td>US</td>\n",
       "      <td>This tremendous 100% varietal wine hails from Oakville and was aged over three years in oak. Jui...</td>\n",
       "      <td>Martha's Vineyard</td>\n",
       "      <td>96</td>\n",
       "      <td>235.0</td>\n",
       "      <td>California</td>\n",
       "      <td>Napa Valley</td>\n",
       "      <td>Napa</td>\n",
       "      <td>Cabernet Sauvignon</td>\n",
       "      <td>Heitz</td>\n",
       "    </tr>\n",
       "    <tr>\n",
       "      <th>1</th>\n",
       "      <td>Spain</td>\n",
       "      <td>Ripe aromas of fig, blackberry and cassis are softened and sweetened by a slathering of oaky cho...</td>\n",
       "      <td>Carodorum Selección Especial Reserva</td>\n",
       "      <td>96</td>\n",
       "      <td>110.0</td>\n",
       "      <td>Northern Spain</td>\n",
       "      <td>Toro</td>\n",
       "      <td>None</td>\n",
       "      <td>Tinta de Toro</td>\n",
       "      <td>Bodega Carmen Rodríguez</td>\n",
       "    </tr>\n",
       "    <tr>\n",
       "      <th>2</th>\n",
       "      <td>US</td>\n",
       "      <td>Mac Watson honors the memory of a wine once made by his mother in this tremendously delicious, b...</td>\n",
       "      <td>Special Selected Late Harvest</td>\n",
       "      <td>96</td>\n",
       "      <td>90.0</td>\n",
       "      <td>California</td>\n",
       "      <td>Knights Valley</td>\n",
       "      <td>Sonoma</td>\n",
       "      <td>Sauvignon Blanc</td>\n",
       "      <td>Macauley</td>\n",
       "    </tr>\n",
       "    <tr>\n",
       "      <th>3</th>\n",
       "      <td>US</td>\n",
       "      <td>This spent 20 months in 30% new French oak, and incorporates fruit from Ponzi's Aurora, Abetina ...</td>\n",
       "      <td>Reserve</td>\n",
       "      <td>96</td>\n",
       "      <td>65.0</td>\n",
       "      <td>Oregon</td>\n",
       "      <td>Willamette Valley</td>\n",
       "      <td>Willamette Valley</td>\n",
       "      <td>Pinot Noir</td>\n",
       "      <td>Ponzi</td>\n",
       "    </tr>\n",
       "    <tr>\n",
       "      <th>4</th>\n",
       "      <td>France</td>\n",
       "      <td>This is the top wine from La Bégude, named after the highest point in the vineyard at 1200 feet....</td>\n",
       "      <td>La Brûlade</td>\n",
       "      <td>95</td>\n",
       "      <td>66.0</td>\n",
       "      <td>Provence</td>\n",
       "      <td>Bandol</td>\n",
       "      <td>None</td>\n",
       "      <td>Provence red blend</td>\n",
       "      <td>Domaine de la Bégude</td>\n",
       "    </tr>\n",
       "  </tbody>\n",
       "</table>\n",
       "</div>"
      ],
      "text/plain": [
       "  country  \\\n",
       "0      US   \n",
       "1   Spain   \n",
       "2      US   \n",
       "3      US   \n",
       "4  France   \n",
       "\n",
       "                                                                                           description  \\\n",
       "0  This tremendous 100% varietal wine hails from Oakville and was aged over three years in oak. Jui...   \n",
       "1  Ripe aromas of fig, blackberry and cassis are softened and sweetened by a slathering of oaky cho...   \n",
       "2  Mac Watson honors the memory of a wine once made by his mother in this tremendously delicious, b...   \n",
       "3  This spent 20 months in 30% new French oak, and incorporates fruit from Ponzi's Aurora, Abetina ...   \n",
       "4  This is the top wine from La Bégude, named after the highest point in the vineyard at 1200 feet....   \n",
       "\n",
       "                            designation  points  price        province  \\\n",
       "0                     Martha's Vineyard      96  235.0      California   \n",
       "1  Carodorum Selección Especial Reserva      96  110.0  Northern Spain   \n",
       "2         Special Selected Late Harvest      96   90.0      California   \n",
       "3                               Reserve      96   65.0          Oregon   \n",
       "4                            La Brûlade      95   66.0        Provence   \n",
       "\n",
       "            region_1           region_2             variety  \\\n",
       "0        Napa Valley               Napa  Cabernet Sauvignon   \n",
       "1               Toro               None       Tinta de Toro   \n",
       "2     Knights Valley             Sonoma     Sauvignon Blanc   \n",
       "3  Willamette Valley  Willamette Valley          Pinot Noir   \n",
       "4             Bandol               None  Provence red blend   \n",
       "\n",
       "                    winery  \n",
       "0                    Heitz  \n",
       "1  Bodega Carmen Rodríguez  \n",
       "2                 Macauley  \n",
       "3                    Ponzi  \n",
       "4     Domaine de la Bégude  "
      ]
     },
     "execution_count": 32,
     "metadata": {},
     "output_type": "execute_result"
    }
   ],
   "source": [
    "df_src.head()"
   ]
  },
  {
   "cell_type": "markdown",
   "metadata": {},
   "source": [
    "## DS explore\n",
    "- \"meta analysis\"\n",
    "- What pipelines to build, for which coloumns\n"
   ]
  },
  {
   "cell_type": "code",
   "execution_count": 33,
   "metadata": {
    "ExecuteTime": {
     "end_time": "2019-05-07T15:37:53.833917Z",
     "start_time": "2019-05-07T15:37:42.053230Z"
    }
   },
   "outputs": [],
   "source": [
    "\n",
    "def ds_explore(df_src,target,cols_rm):\n",
    "\n",
    "\n",
    "    cols_num = [i for i in df_src._get_numeric_data().columns if i not in cols_rm + target]\n",
    "    cols_str = [i for i in df_src.columns if i not in cols_num + cols_rm + target]\n",
    "\n",
    "    unique_count = df_src[cols_str].nunique()\n",
    "    unique_lim = 50\n",
    "\n",
    "    cols_str_cat = list(unique_count[unique_count<unique_lim].index)\n",
    "    cols_str_nlp = [i for i in cols_str if i not in cols_str_cat]\n",
    "\n",
    "    meta = {\n",
    "        \"cols_str_cat\" : cols_str_cat\n",
    "        ,\"cols_str_nlp\" : cols_str_nlp\n",
    "        ,\"cols_num\" : cols_num\n",
    "    }\n",
    "    # we now have split the dataset in 3 categories\n",
    "    # num_cols = numeric columns\n",
    "    # str_cat = string columns that can be treated as categorical\n",
    "    # str_nlp = string columns that can be treated as nlp\n",
    "\n",
    "    return meta\n",
    "    \n",
    "# Auto categorize columns\n",
    "target = [\"points\"]\n",
    "cols_rm = [\"id\"]\n",
    "\n",
    "meta = ds_explore(df_src=df_src\n",
    "           ,target =target\n",
    "           ,cols_rm = cols_rm)"
   ]
  },
  {
   "cell_type": "code",
   "execution_count": 46,
   "metadata": {},
   "outputs": [
    {
     "data": {
      "text/plain": [
       "{'cols_str_cat': ['country', 'region_2'],\n",
       " 'cols_str_nlp': ['description',\n",
       "  'designation',\n",
       "  'province',\n",
       "  'region_1',\n",
       "  'variety',\n",
       "  'winery'],\n",
       " 'cols_num': ['price'],\n",
       " 'trans_num': Pipeline(memory=None,\n",
       "      steps=[('imputer', SimpleImputer(copy=True, fill_value=None, missing_values=nan,\n",
       "        strategy='median', verbose=0)), ('scaler', StandardScaler(copy=True, with_mean=True, with_std=True))]),\n",
       " 'trans_str_cat': Pipeline(memory=None,\n",
       "      steps=[('imputer', SimpleImputer(copy=True, fill_value='missing', missing_values=nan,\n",
       "        strategy='constant', verbose=0)), ('onehot', OneHotEncoder(categorical_features=None, categories=None,\n",
       "        dtype=<class 'numpy.float64'>, handle_unknown='ignore',\n",
       "        n_values=None, sparse=True))])}"
      ]
     },
     "execution_count": 46,
     "metadata": {},
     "output_type": "execute_result"
    }
   ],
   "source": [
    "meta"
   ]
  },
  {
   "cell_type": "code",
   "execution_count": 55,
   "metadata": {
    "ExecuteTime": {
     "end_time": "2019-05-07T15:37:55.375268Z",
     "start_time": "2019-05-07T15:37:53.836363Z"
    }
   },
   "outputs": [
    {
     "data": {
      "text/plain": [
       "country        0.000033\n",
       "description    0.000000\n",
       "designation    0.303021\n",
       "points         0.000000\n",
       "price          0.090737\n",
       "province       0.000033\n",
       "region_1       0.166037\n",
       "region_2       0.596151\n",
       "variety        0.000000\n",
       "winery         0.000000\n",
       "dtype: float64"
      ]
     },
     "execution_count": 55,
     "metadata": {},
     "output_type": "execute_result"
    }
   ],
   "source": [
    "df_src.isnull().sum()/len(df_src.index)"
   ]
  },
  {
   "cell_type": "markdown",
   "metadata": {},
   "source": [
    "## Split data"
   ]
  },
  {
   "cell_type": "code",
   "execution_count": 62,
   "metadata": {
    "ExecuteTime": {
     "end_time": "2019-05-07T15:38:30.708481Z",
     "start_time": "2019-05-07T15:37:55.377623Z"
    }
   },
   "outputs": [],
   "source": [
    "import scipy\n",
    "test_size = 0.3\n",
    "random_state = 1\n",
    "\n",
    "X_train, X_test, y_train, y_test = train_test_split(\n",
    "        df_src[meta[\"cols_num\"] + meta[\"cols_str_cat\"] + meta[\"cols_str_nlp\"]],\n",
    "        df_src[target].values.ravel(),\n",
    "        test_size = test_size, \n",
    "        random_state = random_state\n",
    "    )\n",
    "\n",
    "X_train_clean = X_train.dropna()\n",
    "\n"
   ]
  },
  {
   "cell_type": "code",
   "execution_count": 75,
   "metadata": {},
   "outputs": [
    {
     "data": {
      "text/plain": [
       "0"
      ]
     },
     "execution_count": 75,
     "metadata": {},
     "output_type": "execute_result"
    }
   ],
   "source": []
  },
  {
   "cell_type": "code",
   "execution_count": 73,
   "metadata": {},
   "outputs": [
    {
     "data": {
      "text/plain": [
       "2"
      ]
     },
     "execution_count": 73,
     "metadata": {},
     "output_type": "execute_result"
    }
   ],
   "source": []
  },
  {
   "cell_type": "markdown",
   "metadata": {},
   "source": [
    "## Transformer"
   ]
  },
  {
   "cell_type": "code",
   "execution_count": 77,
   "metadata": {
    "ExecuteTime": {
     "end_time": "2019-05-07T15:38:30.870634Z",
     "start_time": "2019-05-07T15:38:30.712187Z"
    }
   },
   "outputs": [],
   "source": [
    "# https://stackoverflow.com/questions/54160370/how-to-use-sklearn-column-transformer\n",
    "# https://medium.com/vickdata/a-simple-guide-to-scikit-learn-pipelines-4ac0d974bdcf\n",
    "\n",
    "from sklearn.compose import ColumnTransformer\n",
    "from sklearn.pipeline import Pipeline\n",
    "from sklearn.impute import SimpleImputer\n",
    "from sklearn.preprocessing import StandardScaler, OneHotEncoder\n",
    "\n",
    "meta[\"trans_num\"] = Pipeline(steps=[\n",
    "    ('imputer', SimpleImputer(strategy='median')),\n",
    "    ('scaler', StandardScaler())])\n",
    "\n",
    "meta[\"trans_str_cat\"] = Pipeline(steps=[\n",
    "    ('imputer', SimpleImputer(missing_values=None,strategy='constant', fill_value='missing')),\n",
    "    ('onehot', OneHotEncoder(handle_unknown='ignore'))])\n",
    "\n",
    "preprocessor = ColumnTransformer(\n",
    "    transformers=[\n",
    "        ('num', meta[\"trans_num\"], meta[\"cols_num\"]),\n",
    "        ('cat', meta[\"trans_str_cat\"], meta[\"cols_str_cat\"])\n",
    "    ])\n",
    "\n",
    "\n",
    "X_train_prep = preprocessor.fit_transform(X_train.copy())"
   ]
  },
  {
   "cell_type": "code",
   "execution_count": 78,
   "metadata": {},
   "outputs": [
    {
     "data": {
      "text/plain": [
       "{'cols_str_cat': ['country', 'region_2'],\n",
       " 'cols_str_nlp': ['description',\n",
       "  'designation',\n",
       "  'province',\n",
       "  'region_1',\n",
       "  'variety',\n",
       "  'winery'],\n",
       " 'cols_num': ['price'],\n",
       " 'trans_num': Pipeline(memory=None,\n",
       "      steps=[('imputer', SimpleImputer(copy=True, fill_value=None, missing_values=nan,\n",
       "        strategy='median', verbose=0)), ('scaler', StandardScaler(copy=True, with_mean=True, with_std=True))]),\n",
       " 'trans_str_cat': Pipeline(memory=None,\n",
       "      steps=[('imputer', SimpleImputer(copy=True, fill_value='missing', missing_values=None,\n",
       "        strategy='constant', verbose=0)), ('onehot', OneHotEncoder(categorical_features=None, categories=None,\n",
       "        dtype=<class 'numpy.float64'>, handle_unknown='ignore',\n",
       "        n_values=None, sparse=True))])}"
      ]
     },
     "execution_count": 78,
     "metadata": {},
     "output_type": "execute_result"
    }
   ],
   "source": [
    "meta"
   ]
  },
  {
   "cell_type": "code",
   "execution_count": 79,
   "metadata": {
    "ExecuteTime": {
     "end_time": "2019-05-07T15:23:36.199228Z",
     "start_time": "2019-05-07T15:21:06.441Z"
    }
   },
   "outputs": [
    {
     "data": {
      "text/plain": [
       "RandomForestRegressor(bootstrap=True, criterion='mse', max_depth=None,\n",
       "           max_features='auto', max_leaf_nodes=None,\n",
       "           min_impurity_decrease=0.0, min_impurity_split=None,\n",
       "           min_samples_leaf=1, min_samples_split=2,\n",
       "           min_weight_fraction_leaf=0.0, n_estimators=10, n_jobs=None,\n",
       "           oob_score=False, random_state=None, verbose=0, warm_start=False)"
      ]
     },
     "execution_count": 79,
     "metadata": {},
     "output_type": "execute_result"
    }
   ],
   "source": [
    "#GradientBoostingRegressor\n",
    "model = RandomForestRegressor(n_estimators=10)\n",
    "\n",
    "\n",
    "model.fit(X_train_prep,y_train.ravel())"
   ]
  },
  {
   "cell_type": "code",
   "execution_count": 80,
   "metadata": {},
   "outputs": [
    {
     "data": {
      "text/plain": [
       "6.166789993038349"
      ]
     },
     "execution_count": 80,
     "metadata": {},
     "output_type": "execute_result"
    }
   ],
   "source": [
    "X_test_prep = preprocessor.transform(X_test)\n",
    "\n",
    "y_test_model = model.predict(X_test_prep)\n",
    "\n",
    "mse = mean_squared_error(y_test, y_test_model)\n",
    "mse\n"
   ]
  },
  {
   "cell_type": "code",
   "execution_count": null,
   "metadata": {},
   "outputs": [],
   "source": []
  }
 ],
 "metadata": {
  "kernelspec": {
   "display_name": "Python 3",
   "language": "python",
   "name": "python3"
  },
  "language_info": {
   "codemirror_mode": {
    "name": "ipython",
    "version": 3
   },
   "file_extension": ".py",
   "mimetype": "text/x-python",
   "name": "python",
   "nbconvert_exporter": "python",
   "pygments_lexer": "ipython3",
   "version": "3.7.1"
  },
  "toc": {
   "base_numbering": 1,
   "nav_menu": {},
   "number_sections": true,
   "sideBar": true,
   "skip_h1_title": false,
   "title_cell": "Table of Contents",
   "title_sidebar": "Contents",
   "toc_cell": true,
   "toc_position": {},
   "toc_section_display": true,
   "toc_window_display": false
  }
 },
 "nbformat": 4,
 "nbformat_minor": 2
}
