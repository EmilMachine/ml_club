{
 "cells": [
  {
   "cell_type": "markdown",
   "metadata": {
    "toc": true
   },
   "source": [
    "<h1>Table of Contents<span class=\"tocSkip\"></span></h1>\n",
    "<div class=\"toc\"><ul class=\"toc-item\"><li><span><a href=\"#Init\" data-toc-modified-id=\"Init-1\"><span class=\"toc-item-num\">1&nbsp;&nbsp;</span>Init</a></span></li><li><span><a href=\"#Notes\" data-toc-modified-id=\"Notes-2\"><span class=\"toc-item-num\">2&nbsp;&nbsp;</span>Notes</a></span></li><li><span><a href=\"#Systematic-go-through-stuff\" data-toc-modified-id=\"Systematic-go-through-stuff-3\"><span class=\"toc-item-num\">3&nbsp;&nbsp;</span>Systematic go through stuff</a></span><ul class=\"toc-item\"><li><span><a href=\"#Meta-analysis\" data-toc-modified-id=\"Meta-analysis-3.1\"><span class=\"toc-item-num\">3.1&nbsp;&nbsp;</span>Meta analysis</a></span></li><li><span><a href=\"#Split-data\" data-toc-modified-id=\"Split-data-3.2\"><span class=\"toc-item-num\">3.2&nbsp;&nbsp;</span>Split data</a></span></li><li><span><a href=\"#Transformer\" data-toc-modified-id=\"Transformer-3.3\"><span class=\"toc-item-num\">3.3&nbsp;&nbsp;</span>Transformer</a></span></li></ul></li></ul></div>"
   ]
  },
  {
   "cell_type": "markdown",
   "metadata": {},
   "source": [
    "# Init"
   ]
  },
  {
   "cell_type": "code",
   "execution_count": 2,
   "metadata": {
    "ExecuteTime": {
     "end_time": "2019-05-07T15:36:31.988962Z",
     "start_time": "2019-05-07T15:32:50.546483Z"
    }
   },
   "outputs": [
    {
     "name": "stderr",
     "output_type": "stream",
     "text": [
      "[nltk_data] Downloading package stopwords to\n",
      "[nltk_data]     /Users/epedersen/nltk_data...\n",
      "[nltk_data]   Package stopwords is already up-to-date!\n"
     ]
    }
   ],
   "source": [
    "# Model libs (you can use any of the models below)\n",
    "from sklearn.linear_model import LinearRegression\n",
    "from sklearn.ensemble import GradientBoostingRegressor, RandomForestRegressor\n",
    "from sklearn.neural_network import MLPRegressor\n",
    "\n",
    "# Data\n",
    "from sklearn.model_selection import train_test_split\n",
    "import pandas as pd\n",
    "import numpy as np\n",
    "import re\n",
    "\n",
    "# Text processing\n",
    "import nltk\n",
    "nltk.download('stopwords')\n",
    "\n",
    "# Validation/scoring\n",
    "from sklearn.metrics import mean_squared_error\n",
    "\n",
    "# Plotting\n",
    "from matplotlib import pyplot as plt\n",
    "\n",
    "# Other\n",
    "from IPython.display import HTML, display\n",
    "\n",
    "# Config\n",
    "pd.set_option('display.max_columns', 500)\n",
    "pd.set_option('max_colwidth', 100)\n",
    "y_col = \"points\""
   ]
  },
  {
   "cell_type": "markdown",
   "metadata": {},
   "source": [
    "https://www.kaggle.com/zynicide/wine-reviews\n"
   ]
  },
  {
   "cell_type": "code",
   "execution_count": 4,
   "metadata": {
    "ExecuteTime": {
     "end_time": "2019-05-07T15:37:42.050020Z",
     "start_time": "2019-05-07T15:37:40.210447Z"
    }
   },
   "outputs": [],
   "source": [
    "df_src = pd.read_csv(\"../data/wine.csv\", encoding=\"utf-8\", sep=\";\")\n"
   ]
  },
  {
   "cell_type": "markdown",
   "metadata": {},
   "source": [
    "## DS explore\n",
    "- \"meta analysis\"\n",
    "- What pipelines to build, for which coloumns\n"
   ]
  },
  {
   "cell_type": "code",
   "execution_count": 22,
   "metadata": {
    "ExecuteTime": {
     "end_time": "2019-05-07T15:37:53.833917Z",
     "start_time": "2019-05-07T15:37:42.053230Z"
    }
   },
   "outputs": [],
   "source": [
    "\n",
    "def ds_explore(df_src,target,cols_rm):\n",
    "\n",
    "\n",
    "    cols_num = [i for i in df_src._get_numeric_data().columns if i not in cols_rm + target]\n",
    "    cols_str = [i for i in df_src.columns if i not in cols_num + cols_rm + target]\n",
    "\n",
    "    unique_count = df_src[cols_str].nunique()\n",
    "    unique_lim = 50\n",
    "\n",
    "    cols_str_cat = list(unique_count[unique_count<unique_lim].index)\n",
    "    cols_str_nlp = [i for i in cols_str if i not in cols_str_cat]\n",
    "\n",
    "    meta = {\n",
    "        \"cols_str_cat\" : cols_str_cat\n",
    "        ,\"cols_str_nlp\" : cols_str_nlp\n",
    "        ,\"cols_num\" : cols_num\n",
    "    }\n",
    "    # we now have split the dataset in 3 categories\n",
    "    # num_cols = numeric columns\n",
    "    # str_cat = string columns that can be treated as categorical\n",
    "    # str_nlp = string columns that can be treated as nlp\n",
    "\n",
    "    return meta\n",
    "    \n",
    "# Auto categorize columns\n",
    "target = [\"points\"]\n",
    "cols_rm = [\"id\"]\n",
    "\n",
    "meta = ds_explore(df_src=df_src\n",
    "           ,target =target\n",
    "           ,cols_rm = cols_rm)"
   ]
  },
  {
   "cell_type": "code",
   "execution_count": 21,
   "metadata": {
    "ExecuteTime": {
     "end_time": "2019-05-07T15:37:55.375268Z",
     "start_time": "2019-05-07T15:37:53.836363Z"
    }
   },
   "outputs": [
    {
     "data": {
      "text/plain": [
       "{'cols_str_cat': ['country',\n",
       "  'region_2',\n",
       "  'taster_name',\n",
       "  'taster_twitter_handle'],\n",
       " 'cols_str_nlp': ['description',\n",
       "  'designation',\n",
       "  'province',\n",
       "  'region_1',\n",
       "  'title',\n",
       "  'variety',\n",
       "  'winery'],\n",
       " 'cols_num': ['price']}"
      ]
     },
     "execution_count": 21,
     "metadata": {},
     "output_type": "execute_result"
    }
   ],
   "source": [
    "meta"
   ]
  },
  {
   "cell_type": "markdown",
   "metadata": {},
   "source": [
    "## Split data"
   ]
  },
  {
   "cell_type": "code",
   "execution_count": 8,
   "metadata": {
    "ExecuteTime": {
     "end_time": "2019-05-07T15:38:30.708481Z",
     "start_time": "2019-05-07T15:37:55.377623Z"
    }
   },
   "outputs": [],
   "source": [
    "import scipy\n",
    "test_size = 0.3\n",
    "random_state = 1\n",
    "\n",
    "X_train, X_test, y_train, y_test = train_test_split(\n",
    "        df_src[cols_num+cols_str],\n",
    "        df_src[target].values.ravel(),\n",
    "        test_size = test_size, \n",
    "        random_state = random_state\n",
    "    )\n",
    "\n"
   ]
  },
  {
   "cell_type": "markdown",
   "metadata": {},
   "source": [
    "## Transformer"
   ]
  },
  {
   "cell_type": "code",
   "execution_count": 9,
   "metadata": {
    "ExecuteTime": {
     "end_time": "2019-05-07T15:38:30.870634Z",
     "start_time": "2019-05-07T15:38:30.712187Z"
    }
   },
   "outputs": [],
   "source": [
    "# https://stackoverflow.com/questions/54160370/how-to-use-sklearn-column-transformer\n",
    "# https://medium.com/vickdata/a-simple-guide-to-scikit-learn-pipelines-4ac0d974bdcf\n",
    "\n",
    "from sklearn.compose import ColumnTransformer\n",
    "from sklearn.pipeline import Pipeline\n",
    "from sklearn.impute import SimpleImputer\n",
    "from sklearn.preprocessing import StandardScaler, OneHotEncoder\n",
    "\n",
    "meta[\"trans_num\"] = Pipeline(steps=[\n",
    "    ('imputer', SimpleImputer(strategy='median')),\n",
    "    ('scaler', StandardScaler())])\n",
    "\n",
    "meta[\"trans_str_cat\"] = Pipeline(steps=[\n",
    "    ('imputer', SimpleImputer(strategy='constant', fill_value='missing')),\n",
    "    ('onehot', OneHotEncoder(handle_unknown='ignore'))])\n",
    "\n",
    "preprocessor = ColumnTransformer(\n",
    "    transformers=[\n",
    "        ('num', meta[\"trans_num\"], meta[\"cols_num\"]),\n",
    "        ('cat', meta[\"trans_str_cat\"], meta[\"cols_str_cat\"])])\n",
    "\n",
    "\n",
    "\n",
    "X_train_prep = preprocessor.fit_transform(X_train.copy())"
   ]
  },
  {
   "cell_type": "code",
   "execution_count": 15,
   "metadata": {},
   "outputs": [
    {
     "data": {
      "text/plain": [
       "{'cols_str_cat': ['country',\n",
       "  'region_2',\n",
       "  'taster_name',\n",
       "  'taster_twitter_handle'],\n",
       " 'cols_str_nlp': ['description',\n",
       "  'designation',\n",
       "  'province',\n",
       "  'region_1',\n",
       "  'title',\n",
       "  'variety',\n",
       "  'winery'],\n",
       " 'cols_num': ['price'],\n",
       " 'trans_num': Pipeline(memory=None,\n",
       "      steps=[('imputer', SimpleImputer(copy=True, fill_value=None, missing_values=nan,\n",
       "        strategy='median', verbose=0)), ('scaler', StandardScaler(copy=True, with_mean=True, with_std=True))]),\n",
       " 'trans_str_cat': Pipeline(memory=None,\n",
       "      steps=[('imputer', SimpleImputer(copy=True, fill_value='missing', missing_values=nan,\n",
       "        strategy='constant', verbose=0)), ('onehot', OneHotEncoder(categorical_features=None, categories=None,\n",
       "        dtype=<class 'numpy.float64'>, handle_unknown='ignore',\n",
       "        n_values=None, sparse=True))])}"
      ]
     },
     "execution_count": 15,
     "metadata": {},
     "output_type": "execute_result"
    }
   ],
   "source": [
    "meta"
   ]
  },
  {
   "cell_type": "code",
   "execution_count": 11,
   "metadata": {
    "ExecuteTime": {
     "end_time": "2019-05-07T15:23:36.199228Z",
     "start_time": "2019-05-07T15:21:06.441Z"
    }
   },
   "outputs": [
    {
     "data": {
      "text/plain": [
       "RandomForestRegressor(bootstrap=True, criterion='mse', max_depth=None,\n",
       "           max_features='auto', max_leaf_nodes=None,\n",
       "           min_impurity_decrease=0.0, min_impurity_split=None,\n",
       "           min_samples_leaf=1, min_samples_split=2,\n",
       "           min_weight_fraction_leaf=0.0, n_estimators=10, n_jobs=None,\n",
       "           oob_score=False, random_state=None, verbose=0, warm_start=False)"
      ]
     },
     "execution_count": 11,
     "metadata": {},
     "output_type": "execute_result"
    }
   ],
   "source": [
    "#GradientBoostingRegressor\n",
    "model = RandomForestRegressor(n_estimators=10)\n",
    "\n",
    "\n",
    "model.fit(X_train_prep,y_train.ravel())"
   ]
  },
  {
   "cell_type": "code",
   "execution_count": 19,
   "metadata": {},
   "outputs": [
    {
     "data": {
      "text/plain": [
       "5.4652023256787725"
      ]
     },
     "execution_count": 19,
     "metadata": {},
     "output_type": "execute_result"
    }
   ],
   "source": [
    "X_test_prep = preprocessor.transform(X_test)\n",
    "\n",
    "y_test_model = model.predict(X_test_prep)\n",
    "\n",
    "mse = mean_squared_error(y_test, y_test_model)\n",
    "mse\n"
   ]
  },
  {
   "cell_type": "code",
   "execution_count": 18,
   "metadata": {},
   "outputs": [
    {
     "data": {
      "text/plain": [
       "5.4652023256787725"
      ]
     },
     "execution_count": 18,
     "metadata": {},
     "output_type": "execute_result"
    }
   ],
   "source": []
  },
  {
   "cell_type": "code",
   "execution_count": null,
   "metadata": {},
   "outputs": [],
   "source": []
  }
 ],
 "metadata": {
  "kernelspec": {
   "display_name": "Python 3",
   "language": "python",
   "name": "python3"
  },
  "language_info": {
   "codemirror_mode": {
    "name": "ipython",
    "version": 3
   },
   "file_extension": ".py",
   "mimetype": "text/x-python",
   "name": "python",
   "nbconvert_exporter": "python",
   "pygments_lexer": "ipython3",
   "version": "3.7.0"
  },
  "toc": {
   "base_numbering": 1,
   "nav_menu": {},
   "number_sections": true,
   "sideBar": true,
   "skip_h1_title": false,
   "title_cell": "Table of Contents",
   "title_sidebar": "Contents",
   "toc_cell": true,
   "toc_position": {},
   "toc_section_display": true,
   "toc_window_display": false
  }
 },
 "nbformat": 4,
 "nbformat_minor": 2
}
