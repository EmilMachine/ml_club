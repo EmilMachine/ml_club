{
 "cells": [
  {
   "cell_type": "code",
   "execution_count": 1,
   "metadata": {},
   "outputs": [],
   "source": [
    "from automl import runner"
   ]
  },
  {
   "cell_type": "code",
   "execution_count": 2,
   "metadata": {},
   "outputs": [],
   "source": [
    "import pandas as pd\n",
    "import numpy as np\n",
    "import re\n",
    "import os.path\n",
    "\n",
    "if os.path.isfile(\"../data/wine.csv\"):\n",
    "    df_src = pd.read_csv(\"../data/wine.csv\", encoding=\"utf-8\", sep=\";\")\n",
    "elif os.path.isfile(\"../data/winemag-data_first150k.json\"): \n",
    "    df_src = pd.read_json(\"../data/winemag-data_first150k.json\", encoding=\"utf-8\")\n"
   ]
  },
  {
   "cell_type": "code",
   "execution_count": 4,
   "metadata": {},
   "outputs": [],
   "source": [
    "summary = runner.naive_runner(df_src,target=\"points\")"
   ]
  },
  {
   "cell_type": "code",
   "execution_count": 5,
   "metadata": {},
   "outputs": [
    {
     "data": {
      "text/plain": [
       "{'meta': {'cols_str_cat': ['country',\n",
       "   'region_2',\n",
       "   'taster_name',\n",
       "   'taster_twitter_handle'],\n",
       "  'cols_str_nlp': ['description',\n",
       "   'designation',\n",
       "   'province',\n",
       "   'region_1',\n",
       "   'title',\n",
       "   'variety',\n",
       "   'winery'],\n",
       "  'cols_num': ['id', 'price'],\n",
       "  'target': ['points'],\n",
       "  'trans_num': Pipeline(memory=None,\n",
       "           steps=[('imputer',\n",
       "                   SimpleImputer(add_indicator=False, copy=True, fill_value=None,\n",
       "                                 missing_values=nan, strategy='median',\n",
       "                                 verbose=0)),\n",
       "                  ('scaler',\n",
       "                   StandardScaler(copy=True, with_mean=True, with_std=True))],\n",
       "           verbose=False),\n",
       "  'trans_str_cat': Pipeline(memory=None,\n",
       "           steps=[('imputer',\n",
       "                   SimpleImputer(add_indicator=False, copy=True,\n",
       "                                 fill_value='missing', missing_values=nan,\n",
       "                                 strategy='constant', verbose=0)),\n",
       "                  ('imputer_none',\n",
       "                   SimpleImputer(add_indicator=False, copy=True,\n",
       "                                 fill_value='missing', missing_values=None,\n",
       "                                 strategy='constant', verbose=0)),\n",
       "                  ('onehot',\n",
       "                   OneHotEncoder(categorical_features=None, categories=None,\n",
       "                                 drop=None, dtype=<class 'numpy.float64'>,\n",
       "                                 handle_unknown='ignore', n_values=None,\n",
       "                                 sparse=True))],\n",
       "           verbose=False)},\n",
       " 'pipe': ColumnTransformer(n_jobs=None, remainder='drop', sparse_threshold=0.3,\n",
       "                   transformer_weights=None,\n",
       "                   transformers=[('num',\n",
       "                                  Pipeline(memory=None,\n",
       "                                           steps=[('imputer',\n",
       "                                                   SimpleImputer(add_indicator=False,\n",
       "                                                                 copy=True,\n",
       "                                                                 fill_value=None,\n",
       "                                                                 missing_values=nan,\n",
       "                                                                 strategy='median',\n",
       "                                                                 verbose=0)),\n",
       "                                                  ('scaler',\n",
       "                                                   StandardScaler(copy=True,\n",
       "                                                                  with_mean=True,\n",
       "                                                                  with_std=True))],\n",
       "                                           verbose=False),\n",
       "                                  ['id',...\n",
       "                                                   SimpleImputer(add_indicator=False,\n",
       "                                                                 copy=True,\n",
       "                                                                 fill_value='missing',\n",
       "                                                                 missing_values=None,\n",
       "                                                                 strategy='constant',\n",
       "                                                                 verbose=0)),\n",
       "                                                  ('onehot',\n",
       "                                                   OneHotEncoder(categorical_features=None,\n",
       "                                                                 categories=None,\n",
       "                                                                 drop=None,\n",
       "                                                                 dtype=<class 'numpy.float64'>,\n",
       "                                                                 handle_unknown='ignore',\n",
       "                                                                 n_values=None,\n",
       "                                                                 sparse=True))],\n",
       "                                           verbose=False),\n",
       "                                  ['country', 'region_2', 'taster_name',\n",
       "                                   'taster_twitter_handle'])],\n",
       "                   verbose=False),\n",
       " 'model': RandomForestRegressor(bootstrap=True, criterion='mse', max_depth=None,\n",
       "                       max_features='auto', max_leaf_nodes=None,\n",
       "                       min_impurity_decrease=0.0, min_impurity_split=None,\n",
       "                       min_samples_leaf=1, min_samples_split=2,\n",
       "                       min_weight_fraction_leaf=0.0, n_estimators=10,\n",
       "                       n_jobs=None, oob_score=False, random_state=None,\n",
       "                       verbose=0, warm_start=False),\n",
       " 'metric': 5.839046}"
      ]
     },
     "execution_count": 5,
     "metadata": {},
     "output_type": "execute_result"
    }
   ],
   "source": [
    "summary"
   ]
  },
  {
   "cell_type": "code",
   "execution_count": null,
   "metadata": {},
   "outputs": [],
   "source": [
    "summary\n",
    "\n"
   ]
  }
 ],
 "metadata": {
  "kernelspec": {
   "display_name": "Python 3",
   "language": "python",
   "name": "python3"
  },
  "language_info": {
   "codemirror_mode": {
    "name": "ipython",
    "version": 3
   },
   "file_extension": ".py",
   "mimetype": "text/x-python",
   "name": "python",
   "nbconvert_exporter": "python",
   "pygments_lexer": "ipython3",
   "version": "3.7.0"
  }
 },
 "nbformat": 4,
 "nbformat_minor": 2
}
