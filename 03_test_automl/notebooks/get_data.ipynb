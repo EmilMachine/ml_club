{
 "cells": [
  {
   "cell_type": "markdown",
   "metadata": {},
   "source": [
    "Setup:\n",
    "- follow \"API credential step\" listed here: https://github.com/Kaggle/kaggle-api\n",
    "- install kaggle\n",
    "- download data\n",
    "- profit!!!"
   ]
  },
  {
   "cell_type": "code",
   "execution_count": 1,
   "metadata": {},
   "outputs": [
    {
     "name": "stdout",
     "output_type": "stream",
     "text": [
      "\u001b[33mWARNING: You are using pip version 19.2.3, however version 19.3.1 is available.\r\n",
      "You should consider upgrading via the 'pip install --upgrade pip' command.\u001b[0m\r\n"
     ]
    }
   ],
   "source": [
    "!pip3 install kaggle -q"
   ]
  },
  {
   "cell_type": "code",
   "execution_count": null,
   "metadata": {},
   "outputs": [],
   "source": []
  },
  {
   "cell_type": "code",
   "execution_count": 25,
   "metadata": {},
   "outputs": [],
   "source": [
    "downloads =[{'dataset':'titanic',\n",
    "'files':['train.csv','test.csv','gender_submission.csv']},\n",
    "           {'dataset':'test',\n",
    "'files':['train.csv','test.csv','gender_submission.csv']}]"
   ]
  },
  {
   "cell_type": "code",
   "execution_count": 27,
   "metadata": {},
   "outputs": [
    {
     "name": "stdout",
     "output_type": "stream",
     "text": [
      "titanic.zip: Skipping, found more recently modified local copy (use --force to force download)\n",
      "Traceback (most recent call last):\n",
      "  File \"/Users/epedersen/.pyenv/versions/3.7.0/bin/kaggle\", line 10, in <module>\n",
      "    sys.exit(main())\n",
      "  File \"/Users/epedersen/.pyenv/versions/3.7.0/lib/python3.7/site-packages/kaggle/cli.py\", line 51, in main\n",
      "    out = args.func(**command_args)\n",
      "  File \"/Users/epedersen/.pyenv/versions/3.7.0/lib/python3.7/site-packages/kaggle/api/kaggle_api_extended.py\", line 741, in competition_download_cli\n",
      "    quiet)\n",
      "  File \"/Users/epedersen/.pyenv/versions/3.7.0/lib/python3.7/site-packages/kaggle/api/kaggle_api_extended.py\", line 708, in competition_download_files\n",
      "    self.download_file(response, outfile, quiet)\n",
      "  File \"/Users/epedersen/.pyenv/versions/3.7.0/lib/python3.7/site-packages/kaggle/api/kaggle_api_extended.py\", line 1567, in download_file\n",
      "    size = int(response.headers['Content-Length'])\n",
      "  File \"/Users/epedersen/.pyenv/versions/3.7.0/lib/python3.7/site-packages/urllib3/_collections.py\", line 152, in __getitem__\n",
      "    val = self._container[key.lower()]\n",
      "KeyError: 'content-length'\n"
     ]
    }
   ],
   "source": [
    "for i in downloads:\n",
    "    !kaggle competitions download -c dataset {i['dataset']} -p ../data/\n"
   ]
  },
  {
   "cell_type": "code",
   "execution_count": 22,
   "metadata": {},
   "outputs": [
    {
     "name": "stdout",
     "output_type": "stream",
     "text": [
      "$a\n"
     ]
    }
   ],
   "source": [
    "%%bash -s $a \n",
    "echo $1\n"
   ]
  },
  {
   "cell_type": "code",
   "execution_count": 10,
   "metadata": {},
   "outputs": [
    {
     "name": "stdout",
     "output_type": "stream",
     "text": [
      "404 - Not Found\n",
      "Archive:  ../data/titanic.zip\n",
      "replace train.csv? [y]es, [n]o, [A]ll, [N]one, [r]ename: ^C\n"
     ]
    }
   ],
   "source": [
    "kaggle competitions download -c downloads[0]['dataset']  -p ../data/\n",
    "#unzip ../data/titanic.zip\n"
   ]
  },
  {
   "cell_type": "code",
   "execution_count": null,
   "metadata": {},
   "outputs": [],
   "source": []
  }
 ],
 "metadata": {
  "kernelspec": {
   "display_name": "Python 3",
   "language": "python",
   "name": "python3"
  },
  "language_info": {
   "codemirror_mode": {
    "name": "ipython",
    "version": 3
   },
   "file_extension": ".py",
   "mimetype": "text/x-python",
   "name": "python",
   "nbconvert_exporter": "python",
   "pygments_lexer": "ipython3",
   "version": "3.7.1"
  }
 },
 "nbformat": 4,
 "nbformat_minor": 2
}
