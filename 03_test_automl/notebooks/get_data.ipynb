{
 "cells": [
  {
   "cell_type": "markdown",
   "metadata": {},
   "source": [
    "Setup:\n",
    "- follow \"API credential step\" listed here: https://github.com/Kaggle/kaggle-api\n",
    "- install kaggle\n",
    "- download data\n",
    "- profit!!!"
   ]
  },
  {
   "cell_type": "code",
   "execution_count": 2,
   "metadata": {},
   "outputs": [
    {
     "name": "stdout",
     "output_type": "stream",
     "text": [
      "Looking in indexes: https://pypi.org/simple, https://artifactory.spotify.net/artifactory/api/pypi/pypi/simple/\n",
      "Collecting kaggle\n",
      "  Using cached https://files.pythonhosted.org/packages/62/ab/bb20f9b9e24f9a6250f95a432f8d9a7d745f8d24039d7a5a6eaadb7783ba/kaggle-1.5.6.tar.gz\n",
      "Requirement already satisfied: urllib3<1.25,>=1.21.1 in /Users/epedersen/.pyenv/versions/3.7.0/lib/python3.7/site-packages (from kaggle) (1.24.1)\n",
      "Requirement already satisfied: six>=1.10 in /Users/epedersen/.pyenv/versions/3.7.0/lib/python3.7/site-packages (from kaggle) (1.12.0)\n",
      "Requirement already satisfied: certifi in /Users/epedersen/.pyenv/versions/3.7.0/lib/python3.7/site-packages (from kaggle) (2018.11.29)\n",
      "Requirement already satisfied: python-dateutil in /Users/epedersen/.pyenv/versions/3.7.0/lib/python3.7/site-packages (from kaggle) (2.7.5)\n",
      "Requirement already satisfied: requests in /Users/epedersen/.pyenv/versions/3.7.0/lib/python3.7/site-packages (from kaggle) (2.21.0)\n",
      "Requirement already satisfied: tqdm in /Users/epedersen/.pyenv/versions/3.7.0/lib/python3.7/site-packages (from kaggle) (4.31.1)\n",
      "Collecting python-slugify (from kaggle)\n",
      "  Downloading https://files.pythonhosted.org/packages/92/5f/7b84a0bba8a0fdd50c046f8b57dcf179dc16237ad33446079b7c484de04c/python-slugify-4.0.0.tar.gz\n",
      "Requirement already satisfied: chardet<3.1.0,>=3.0.2 in /Users/epedersen/.pyenv/versions/3.7.0/lib/python3.7/site-packages (from requests->kaggle) (3.0.4)\n",
      "Requirement already satisfied: idna<2.9,>=2.5 in /Users/epedersen/.pyenv/versions/3.7.0/lib/python3.7/site-packages (from requests->kaggle) (2.8)\n",
      "Collecting text-unidecode>=1.3 (from python-slugify->kaggle)\n",
      "  Using cached https://files.pythonhosted.org/packages/a6/a5/c0b6468d3824fe3fde30dbb5e1f687b291608f9473681bbf7dabbf5a87d7/text_unidecode-1.3-py2.py3-none-any.whl\n",
      "Building wheels for collected packages: kaggle, python-slugify\n",
      "  Building wheel for kaggle (setup.py) ... \u001b[?25ldone\n",
      "\u001b[?25h  Created wheel for kaggle: filename=kaggle-1.5.6-cp37-none-any.whl size=72860 sha256=1bd05be734dceb102f53f2dd9dbeadaff6d7ac9d59f056b2602c9d758a57ab46\n",
      "  Stored in directory: /Users/epedersen/Library/Caches/pip/wheels/57/4e/e8/bb28d035162fb8f17f8ca5d42c3230e284c6aa565b42b72674\n",
      "  Building wheel for python-slugify (setup.py) ... \u001b[?25ldone\n",
      "\u001b[?25h  Created wheel for python-slugify: filename=python_slugify-4.0.0-py2.py3-none-any.whl size=5487 sha256=2ea8d148bfaf469622e2d800ea195d59c20bf21216e561b0b12f668e44a68fc1\n",
      "  Stored in directory: /Users/epedersen/Library/Caches/pip/wheels/11/94/81/312969455540cb0e6a773e5d68a73c14128bfdfd4a7969bb4f\n",
      "Successfully built kaggle python-slugify\n",
      "Installing collected packages: text-unidecode, python-slugify, kaggle\n",
      "Successfully installed kaggle-1.5.6 python-slugify-4.0.0 text-unidecode-1.3\n",
      "\u001b[33mWARNING: You are using pip version 19.2.3, however version 19.3.1 is available.\n",
      "You should consider upgrading via the 'pip install --upgrade pip' command.\u001b[0m\n"
     ]
    }
   ],
   "source": [
    "!pip3 install kaggle"
   ]
  },
  {
   "cell_type": "code",
   "execution_count": null,
   "metadata": {},
   "outputs": [],
   "source": []
  },
  {
   "cell_type": "code",
   "execution_count": 25,
   "metadata": {},
   "outputs": [],
   "source": [
    "downloads =[{'dataset':'titanic',\n",
    "'files':['train.csv','test.csv','gender_submission.csv']},\n",
    "           {'dataset':'test',\n",
    "'files':['train.csv','test.csv','gender_submission.csv']}]"
   ]
  },
  {
   "cell_type": "code",
   "execution_count": 27,
   "metadata": {},
   "outputs": [
    {
     "name": "stdout",
     "output_type": "stream",
     "text": [
      "titanic.zip: Skipping, found more recently modified local copy (use --force to force download)\n",
      "Traceback (most recent call last):\n",
      "  File \"/Users/epedersen/.pyenv/versions/3.7.0/bin/kaggle\", line 10, in <module>\n",
      "    sys.exit(main())\n",
      "  File \"/Users/epedersen/.pyenv/versions/3.7.0/lib/python3.7/site-packages/kaggle/cli.py\", line 51, in main\n",
      "    out = args.func(**command_args)\n",
      "  File \"/Users/epedersen/.pyenv/versions/3.7.0/lib/python3.7/site-packages/kaggle/api/kaggle_api_extended.py\", line 741, in competition_download_cli\n",
      "    quiet)\n",
      "  File \"/Users/epedersen/.pyenv/versions/3.7.0/lib/python3.7/site-packages/kaggle/api/kaggle_api_extended.py\", line 708, in competition_download_files\n",
      "    self.download_file(response, outfile, quiet)\n",
      "  File \"/Users/epedersen/.pyenv/versions/3.7.0/lib/python3.7/site-packages/kaggle/api/kaggle_api_extended.py\", line 1567, in download_file\n",
      "    size = int(response.headers['Content-Length'])\n",
      "  File \"/Users/epedersen/.pyenv/versions/3.7.0/lib/python3.7/site-packages/urllib3/_collections.py\", line 152, in __getitem__\n",
      "    val = self._container[key.lower()]\n",
      "KeyError: 'content-length'\n"
     ]
    }
   ],
   "source": [
    "for i in downloads:\n",
    "    !kaggle competitions download -c dataset {i['dataset']} -p ../data/\n"
   ]
  },
  {
   "cell_type": "code",
   "execution_count": 22,
   "metadata": {},
   "outputs": [
    {
     "name": "stdout",
     "output_type": "stream",
     "text": [
      "$a\n"
     ]
    }
   ],
   "source": [
    "%%bash -s $a \n",
    "echo $1\n"
   ]
  },
  {
   "cell_type": "code",
   "execution_count": 10,
   "metadata": {},
   "outputs": [
    {
     "name": "stdout",
     "output_type": "stream",
     "text": [
      "404 - Not Found\n",
      "Archive:  ../data/titanic.zip\n",
      "replace train.csv? [y]es, [n]o, [A]ll, [N]one, [r]ename: ^C\n"
     ]
    }
   ],
   "source": [
    "kaggle competitions download -c downloads[0]['dataset']  -p ../data/\n",
    "#unzip ../data/titanic.zip\n"
   ]
  },
  {
   "cell_type": "code",
   "execution_count": null,
   "metadata": {},
   "outputs": [],
   "source": []
  }
 ],
 "metadata": {
  "kernelspec": {
   "display_name": "Python 3",
   "language": "python",
   "name": "python3"
  },
  "language_info": {
   "codemirror_mode": {
    "name": "ipython",
    "version": 3
   },
   "file_extension": ".py",
   "mimetype": "text/x-python",
   "name": "python",
   "nbconvert_exporter": "python",
   "pygments_lexer": "ipython3",
   "version": "3.7.0"
  }
 },
 "nbformat": 4,
 "nbformat_minor": 2
}
