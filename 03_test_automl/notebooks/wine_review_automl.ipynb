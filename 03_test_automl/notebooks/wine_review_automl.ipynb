{
 "cells": [
  {
   "cell_type": "markdown",
   "metadata": {
    "toc": true
   },
   "source": [
    "<h1>Table of Contents<span class=\"tocSkip\"></span></h1>\n",
    "<div class=\"toc\"><ul class=\"toc-item\"><li><span><a href=\"#Init\" data-toc-modified-id=\"Init-1\"><span class=\"toc-item-num\">1&nbsp;&nbsp;</span>Init</a></span></li><li><span><a href=\"#Notes\" data-toc-modified-id=\"Notes-2\"><span class=\"toc-item-num\">2&nbsp;&nbsp;</span>Notes</a></span></li><li><span><a href=\"#Systematic-go-through-stuff\" data-toc-modified-id=\"Systematic-go-through-stuff-3\"><span class=\"toc-item-num\">3&nbsp;&nbsp;</span>Systematic go through stuff</a></span><ul class=\"toc-item\"><li><span><a href=\"#Meta-analysis\" data-toc-modified-id=\"Meta-analysis-3.1\"><span class=\"toc-item-num\">3.1&nbsp;&nbsp;</span>Meta analysis</a></span></li><li><span><a href=\"#Split-data\" data-toc-modified-id=\"Split-data-3.2\"><span class=\"toc-item-num\">3.2&nbsp;&nbsp;</span>Split data</a></span></li><li><span><a href=\"#Transformer\" data-toc-modified-id=\"Transformer-3.3\"><span class=\"toc-item-num\">3.3&nbsp;&nbsp;</span>Transformer</a></span></li></ul></li></ul></div>"
   ]
  },
  {
   "cell_type": "markdown",
   "metadata": {},
   "source": [
    "# Init"
   ]
  },
  {
   "cell_type": "code",
   "execution_count": 2,
   "metadata": {
    "ExecuteTime": {
     "end_time": "2019-05-07T15:36:31.988962Z",
     "start_time": "2019-05-07T15:32:50.546483Z"
    }
   },
   "outputs": [],
   "source": [
    "# Model libs (you can use any of the models below)\n",
    "from sklearn.linear_model import LinearRegression\n",
    "from sklearn.ensemble import GradientBoostingRegressor, RandomForestRegressor\n",
    "from sklearn.neural_network import MLPRegressor\n",
    "\n",
    "# Data\n",
    "from sklearn.model_selection import train_test_split\n",
    "import pandas as pd\n",
    "import numpy as np\n",
    "import re\n",
    "import os.path\n",
    "\n",
    "# Text processing\n",
    "# import nltk\n",
    "# nltk.download('stopwords')\n",
    "\n",
    "# Validation/scoring\n",
    "from sklearn.metrics import mean_squared_error\n",
    "\n",
    "# Plotting\n",
    "from matplotlib import pyplot as plt\n",
    "\n",
    "# Other\n",
    "from IPython.display import HTML, display\n",
    "\n",
    "# Config\n",
    "pd.set_option('display.max_columns', 500)\n",
    "pd.set_option('max_colwidth', 100)\n",
    "y_col = \"points\""
   ]
  },
  {
   "cell_type": "markdown",
   "metadata": {},
   "source": [
    "https://www.kaggle.com/zynicide/wine-reviews\n"
   ]
  },
  {
   "cell_type": "code",
   "execution_count": 3,
   "metadata": {
    "ExecuteTime": {
     "end_time": "2019-05-07T15:37:42.050020Z",
     "start_time": "2019-05-07T15:37:40.210447Z"
    }
   },
   "outputs": [],
   "source": [
    "\n",
    "\n",
    "if os.path.isfile(\"../data/wine.csv\"):\n",
    "    df_src = pd.read_csv(\"../data/wine.csv\", encoding=\"utf-8\", sep=\";\")\n",
    "elif os.path.isfile(\"../data/winemag-data_first150k.json\"): \n",
    "    df_src = pd.read_json(\"../data/winemag-data_first150k.json\", encoding=\"utf-8\")\n",
    "\n",
    "#(\"\"../data/winemag-data_first150k.json\")\n",
    "\n",
    "#https://www.kaggle.com/zynicide/wine-reviews#winemag-data-130k-v2.csv"
   ]
  },
  {
   "cell_type": "code",
   "execution_count": 4,
   "metadata": {},
   "outputs": [
    {
     "data": {
      "text/html": [
       "<div>\n",
       "<style scoped>\n",
       "    .dataframe tbody tr th:only-of-type {\n",
       "        vertical-align: middle;\n",
       "    }\n",
       "\n",
       "    .dataframe tbody tr th {\n",
       "        vertical-align: top;\n",
       "    }\n",
       "\n",
       "    .dataframe thead th {\n",
       "        text-align: right;\n",
       "    }\n",
       "</style>\n",
       "<table border=\"1\" class=\"dataframe\">\n",
       "  <thead>\n",
       "    <tr style=\"text-align: right;\">\n",
       "      <th></th>\n",
       "      <th>id</th>\n",
       "      <th>country</th>\n",
       "      <th>description</th>\n",
       "      <th>designation</th>\n",
       "      <th>points</th>\n",
       "      <th>price</th>\n",
       "      <th>province</th>\n",
       "      <th>region_1</th>\n",
       "      <th>region_2</th>\n",
       "      <th>taster_name</th>\n",
       "      <th>taster_twitter_handle</th>\n",
       "      <th>title</th>\n",
       "      <th>variety</th>\n",
       "      <th>winery</th>\n",
       "    </tr>\n",
       "  </thead>\n",
       "  <tbody>\n",
       "    <tr>\n",
       "      <th>0</th>\n",
       "      <td>40136</td>\n",
       "      <td>US</td>\n",
       "      <td>Thickly concentrated in a rich style, this wine also possesses a balanced backbone of citrus and...</td>\n",
       "      <td>NaN</td>\n",
       "      <td>87</td>\n",
       "      <td>16.0</td>\n",
       "      <td>California</td>\n",
       "      <td>Napa Valley</td>\n",
       "      <td>Napa</td>\n",
       "      <td>Virginie Boone</td>\n",
       "      <td>@vboone</td>\n",
       "      <td>Flint &amp; Steel 2016 Sauvignon Blanc (Napa Valley)</td>\n",
       "      <td>Sauvignon Blanc</td>\n",
       "      <td>Flint &amp; Steel</td>\n",
       "    </tr>\n",
       "    <tr>\n",
       "      <th>1</th>\n",
       "      <td>25383</td>\n",
       "      <td>US</td>\n",
       "      <td>This very substantive wine carries rich and complex flavors on a firm and lively frame. It has a...</td>\n",
       "      <td>Gloria Estate</td>\n",
       "      <td>94</td>\n",
       "      <td>54.0</td>\n",
       "      <td>California</td>\n",
       "      <td>Russian River Valley</td>\n",
       "      <td>Sonoma</td>\n",
       "      <td>Jim Gordon</td>\n",
       "      <td>@gordone_cellars</td>\n",
       "      <td>Freeman 2012 Gloria Estate Pinot Noir (Russian River Valley)</td>\n",
       "      <td>Pinot Noir</td>\n",
       "      <td>Freeman</td>\n",
       "    </tr>\n",
       "    <tr>\n",
       "      <th>2</th>\n",
       "      <td>55907</td>\n",
       "      <td>South Africa</td>\n",
       "      <td>Lemon, green gooseberry and plum lead the nose and mouth of this refreshing Sauvignon Blanc. The...</td>\n",
       "      <td>NaN</td>\n",
       "      <td>87</td>\n",
       "      <td>19.0</td>\n",
       "      <td>Walker Bay</td>\n",
       "      <td>NaN</td>\n",
       "      <td>NaN</td>\n",
       "      <td>Lauren Buzzeo</td>\n",
       "      <td>@laurbuzz</td>\n",
       "      <td>Southern Right 2011 Sauvignon Blanc (Walker Bay)</td>\n",
       "      <td>Sauvignon Blanc</td>\n",
       "      <td>Southern Right</td>\n",
       "    </tr>\n",
       "    <tr>\n",
       "      <th>3</th>\n",
       "      <td>50353</td>\n",
       "      <td>US</td>\n",
       "      <td>There is an oaky toastiness to the nose of this bottling, which shows light browned butter, hone...</td>\n",
       "      <td>Reserve</td>\n",
       "      <td>92</td>\n",
       "      <td>46.0</td>\n",
       "      <td>California</td>\n",
       "      <td>Paso Robles Willow Creek District</td>\n",
       "      <td>Central Coast</td>\n",
       "      <td>Matt Kettmann</td>\n",
       "      <td>@mattkettmann</td>\n",
       "      <td>Daou 2015 Reserve Chardonnay (Paso Robles Willow Creek District)</td>\n",
       "      <td>Chardonnay</td>\n",
       "      <td>Daou</td>\n",
       "    </tr>\n",
       "    <tr>\n",
       "      <th>4</th>\n",
       "      <td>105242</td>\n",
       "      <td>Italy</td>\n",
       "      <td>Aromas of fleshy black-skinned fruit, kitchen spice and underbrush emerge from this blend of Mer...</td>\n",
       "      <td>Le Volte</td>\n",
       "      <td>90</td>\n",
       "      <td>30.0</td>\n",
       "      <td>Tuscany</td>\n",
       "      <td>Toscana</td>\n",
       "      <td>NaN</td>\n",
       "      <td>Kerin O’Keefe</td>\n",
       "      <td>@kerinokeefe</td>\n",
       "      <td>Ornellaia 2012 Le Volte Red (Toscana)</td>\n",
       "      <td>Red Blend</td>\n",
       "      <td>Ornellaia</td>\n",
       "    </tr>\n",
       "  </tbody>\n",
       "</table>\n",
       "</div>"
      ],
      "text/plain": [
       "       id       country  \\\n",
       "0   40136            US   \n",
       "1   25383            US   \n",
       "2   55907  South Africa   \n",
       "3   50353            US   \n",
       "4  105242         Italy   \n",
       "\n",
       "                                                                                           description  \\\n",
       "0  Thickly concentrated in a rich style, this wine also possesses a balanced backbone of citrus and...   \n",
       "1  This very substantive wine carries rich and complex flavors on a firm and lively frame. It has a...   \n",
       "2  Lemon, green gooseberry and plum lead the nose and mouth of this refreshing Sauvignon Blanc. The...   \n",
       "3  There is an oaky toastiness to the nose of this bottling, which shows light browned butter, hone...   \n",
       "4  Aromas of fleshy black-skinned fruit, kitchen spice and underbrush emerge from this blend of Mer...   \n",
       "\n",
       "     designation  points  price    province  \\\n",
       "0            NaN      87   16.0  California   \n",
       "1  Gloria Estate      94   54.0  California   \n",
       "2            NaN      87   19.0  Walker Bay   \n",
       "3        Reserve      92   46.0  California   \n",
       "4       Le Volte      90   30.0     Tuscany   \n",
       "\n",
       "                            region_1       region_2     taster_name  \\\n",
       "0                        Napa Valley           Napa  Virginie Boone   \n",
       "1               Russian River Valley         Sonoma      Jim Gordon   \n",
       "2                                NaN            NaN   Lauren Buzzeo   \n",
       "3  Paso Robles Willow Creek District  Central Coast   Matt Kettmann   \n",
       "4                            Toscana            NaN   Kerin O’Keefe   \n",
       "\n",
       "  taster_twitter_handle  \\\n",
       "0               @vboone   \n",
       "1      @gordone_cellars   \n",
       "2             @laurbuzz   \n",
       "3         @mattkettmann   \n",
       "4          @kerinokeefe   \n",
       "\n",
       "                                                              title  \\\n",
       "0                  Flint & Steel 2016 Sauvignon Blanc (Napa Valley)   \n",
       "1      Freeman 2012 Gloria Estate Pinot Noir (Russian River Valley)   \n",
       "2                  Southern Right 2011 Sauvignon Blanc (Walker Bay)   \n",
       "3  Daou 2015 Reserve Chardonnay (Paso Robles Willow Creek District)   \n",
       "4                             Ornellaia 2012 Le Volte Red (Toscana)   \n",
       "\n",
       "           variety          winery  \n",
       "0  Sauvignon Blanc   Flint & Steel  \n",
       "1       Pinot Noir         Freeman  \n",
       "2  Sauvignon Blanc  Southern Right  \n",
       "3       Chardonnay            Daou  \n",
       "4        Red Blend       Ornellaia  "
      ]
     },
     "execution_count": 4,
     "metadata": {},
     "output_type": "execute_result"
    }
   ],
   "source": [
    "df_src.head()"
   ]
  },
  {
   "cell_type": "markdown",
   "metadata": {},
   "source": [
    "## DS explore\n",
    "- \"meta analysis\"\n",
    "- What pipelines to build, for which coloumns\n"
   ]
  },
  {
   "cell_type": "code",
   "execution_count": 5,
   "metadata": {
    "ExecuteTime": {
     "end_time": "2019-05-07T15:37:53.833917Z",
     "start_time": "2019-05-07T15:37:42.053230Z"
    }
   },
   "outputs": [],
   "source": [
    "\n",
    "def ds_explore(df_src,target,cols_rm,**kwargs):\n",
    "    unique_lim = kwargs.get(\"unique_lim\",50)\n",
    "    \n",
    "    target=[target]\n",
    "    \n",
    "    cols_num = [i for i in df_src._get_numeric_data().columns if i not in cols_rm + target]\n",
    "    cols_str = [i for i in df_src.columns if i not in cols_num + cols_rm + target]\n",
    "\n",
    "    unique_count = df_src[cols_str].nunique()\n",
    "    \n",
    "\n",
    "    cols_str_cat = list(unique_count[unique_count<unique_lim].index)\n",
    "    cols_str_nlp = [i for i in cols_str if i not in cols_str_cat]\n",
    "\n",
    "    meta = {\n",
    "        \"cols_str_cat\" : cols_str_cat\n",
    "        ,\"cols_str_nlp\" : cols_str_nlp\n",
    "        ,\"cols_num\" : cols_num\n",
    "        ,\"target\" : target\n",
    "    }\n",
    "    # we now have split the dataset in 3 categories\n",
    "    # num_cols = numeric columns\n",
    "    # str_cat = string columns that can be treated as categorical\n",
    "    # str_nlp = string columns that can be treated as nlp\n",
    "\n",
    "    return meta\n",
    "    \n",
    "# Auto categorize columns\n",
    "target = [\"points\"]\n",
    "cols_rm = [\"id\"]\n",
    "\n",
    "meta = ds_explore(df_src=df_src\n",
    "           ,target =target\n",
    "           ,cols_rm = cols_rm)"
   ]
  },
  {
   "cell_type": "code",
   "execution_count": 6,
   "metadata": {},
   "outputs": [
    {
     "data": {
      "text/plain": [
       "{'cols_num': [u'price'],\n",
       " 'cols_str_cat': [u'country',\n",
       "  u'region_2',\n",
       "  u'taster_name',\n",
       "  u'taster_twitter_handle'],\n",
       " 'cols_str_nlp': [u'description',\n",
       "  u'designation',\n",
       "  u'province',\n",
       "  u'region_1',\n",
       "  u'title',\n",
       "  u'variety',\n",
       "  u'winery']}"
      ]
     },
     "execution_count": 6,
     "metadata": {},
     "output_type": "execute_result"
    }
   ],
   "source": [
    "meta"
   ]
  },
  {
   "cell_type": "code",
   "execution_count": 7,
   "metadata": {
    "ExecuteTime": {
     "end_time": "2019-05-07T15:37:55.375268Z",
     "start_time": "2019-05-07T15:37:53.836363Z"
    }
   },
   "outputs": [
    {
     "data": {
      "text/plain": [
       "id                       0.00000\n",
       "country                  0.00050\n",
       "description              0.00000\n",
       "designation              0.28767\n",
       "points                   0.00000\n",
       "price                    0.06982\n",
       "province                 0.00050\n",
       "region_1                 0.16412\n",
       "region_2                 0.61133\n",
       "taster_name              0.20253\n",
       "taster_twitter_handle    0.24088\n",
       "title                    0.00000\n",
       "variety                  0.00000\n",
       "winery                   0.00000\n",
       "dtype: float64"
      ]
     },
     "execution_count": 7,
     "metadata": {},
     "output_type": "execute_result"
    }
   ],
   "source": [
    "df_src.isnull().sum()/len(df_src.index)"
   ]
  },
  {
   "cell_type": "markdown",
   "metadata": {},
   "source": [
    "## Split data"
   ]
  },
  {
   "cell_type": "code",
   "execution_count": 8,
   "metadata": {
    "ExecuteTime": {
     "end_time": "2019-05-07T15:38:30.708481Z",
     "start_time": "2019-05-07T15:37:55.377623Z"
    }
   },
   "outputs": [],
   "source": [
    "import scipy\n",
    "test_size = 0.3\n",
    "random_state = 1\n",
    "\n",
    "X_train, X_test, y_train, y_test = train_test_split(\n",
    "        df_src[meta[\"cols_num\"] + meta[\"cols_str_cat\"] + meta[\"cols_str_nlp\"]],\n",
    "        df_src[target].values.ravel(),\n",
    "        test_size = test_size, \n",
    "        random_state = random_state\n",
    "    )\n",
    "\n",
    "X_train_clean = X_train.dropna()\n",
    "\n"
   ]
  },
  {
   "cell_type": "code",
   "execution_count": 75,
   "metadata": {},
   "outputs": [
    {
     "data": {
      "text/plain": [
       "0"
      ]
     },
     "execution_count": 75,
     "metadata": {},
     "output_type": "execute_result"
    }
   ],
   "source": []
  },
  {
   "cell_type": "code",
   "execution_count": 73,
   "metadata": {},
   "outputs": [
    {
     "data": {
      "text/plain": [
       "2"
      ]
     },
     "execution_count": 73,
     "metadata": {},
     "output_type": "execute_result"
    }
   ],
   "source": []
  },
  {
   "cell_type": "markdown",
   "metadata": {},
   "source": [
    "## Transformer"
   ]
  },
  {
   "cell_type": "code",
   "execution_count": 12,
   "metadata": {
    "ExecuteTime": {
     "end_time": "2019-05-07T15:38:30.870634Z",
     "start_time": "2019-05-07T15:38:30.712187Z"
    }
   },
   "outputs": [],
   "source": [
    "# https://stackoverflow.com/questions/54160370/how-to-use-sklearn-column-transformer\n",
    "# https://medium.com/vickdata/a-simple-guide-to-scikit-learn-pipelines-4ac0d974bdcf\n",
    "\n",
    "from sklearn.compose import ColumnTransformer\n",
    "from sklearn.pipeline import Pipeline\n",
    "from sklearn.impute import SimpleImputer\n",
    "from sklearn.preprocessing import StandardScaler, OneHotEncoder\n",
    "\n",
    "meta[\"trans_num\"] = Pipeline(steps=[\n",
    "    ('imputer', SimpleImputer(strategy='median')),\n",
    "    ('scaler', StandardScaler())])\n",
    "\n",
    "meta[\"trans_str_cat\"] = Pipeline(steps=[\n",
    "    #('imputer', SimpleImputer(missing_values=[None,float('nan')],strategy='constant', fill_value='missing')),\n",
    "    ('imputer', SimpleImputer(strategy='constant', fill_value='missing')),\n",
    "    ('onehot', OneHotEncoder(handle_unknown='ignore'))])\n",
    "\n",
    "preprocessor = ColumnTransformer(\n",
    "    transformers=[\n",
    "        ('num', meta[\"trans_num\"], meta[\"cols_num\"]),\n",
    "        ('cat', meta[\"trans_str_cat\"], meta[\"cols_str_cat\"])\n",
    "    ])\n",
    "\n",
    "\n",
    "X_train_prep = preprocessor.fit_transform(X_train.copy())"
   ]
  },
  {
   "cell_type": "code",
   "execution_count": 13,
   "metadata": {},
   "outputs": [
    {
     "data": {
      "text/plain": [
       "{'cols_num': [u'price'],\n",
       " 'cols_str_cat': [u'country',\n",
       "  u'region_2',\n",
       "  u'taster_name',\n",
       "  u'taster_twitter_handle'],\n",
       " 'cols_str_nlp': [u'description',\n",
       "  u'designation',\n",
       "  u'province',\n",
       "  u'region_1',\n",
       "  u'title',\n",
       "  u'variety',\n",
       "  u'winery'],\n",
       " 'trans_num': Pipeline(memory=None,\n",
       "      steps=[('imputer', SimpleImputer(copy=True, fill_value=None, missing_values=nan,\n",
       "        strategy='median', verbose=0)), ('scaler', StandardScaler(copy=True, with_mean=True, with_std=True))]),\n",
       " 'trans_str_cat': Pipeline(memory=None,\n",
       "      steps=[('imputer', SimpleImputer(copy=True, fill_value='missing', missing_values=nan,\n",
       "        strategy='constant', verbose=0)), ('onehot', OneHotEncoder(categorical_features=None, categories=None,\n",
       "        dtype=<type 'numpy.float64'>, handle_unknown='ignore',\n",
       "        n_values=None, sparse=True))])}"
      ]
     },
     "execution_count": 13,
     "metadata": {},
     "output_type": "execute_result"
    }
   ],
   "source": [
    "meta"
   ]
  },
  {
   "cell_type": "code",
   "execution_count": 14,
   "metadata": {
    "ExecuteTime": {
     "end_time": "2019-05-07T15:23:36.199228Z",
     "start_time": "2019-05-07T15:21:06.441Z"
    }
   },
   "outputs": [
    {
     "data": {
      "text/plain": [
       "RandomForestRegressor(bootstrap=True, criterion='mse', max_depth=None,\n",
       "           max_features='auto', max_leaf_nodes=None,\n",
       "           min_impurity_decrease=0.0, min_impurity_split=None,\n",
       "           min_samples_leaf=1, min_samples_split=2,\n",
       "           min_weight_fraction_leaf=0.0, n_estimators=10, n_jobs=None,\n",
       "           oob_score=False, random_state=None, verbose=0, warm_start=False)"
      ]
     },
     "execution_count": 14,
     "metadata": {},
     "output_type": "execute_result"
    }
   ],
   "source": [
    "#GradientBoostingRegressor\n",
    "model = RandomForestRegressor(n_estimators=10)\n",
    "\n",
    "\n",
    "model.fit(X_train_prep,y_train.ravel())"
   ]
  },
  {
   "cell_type": "code",
   "execution_count": 15,
   "metadata": {},
   "outputs": [
    {
     "data": {
      "text/plain": [
       "5.468532583863232"
      ]
     },
     "execution_count": 15,
     "metadata": {},
     "output_type": "execute_result"
    }
   ],
   "source": [
    "X_test_prep = preprocessor.transform(X_test)\n",
    "\n",
    "y_test_model = model.predict(X_test_prep)\n",
    "\n",
    "mse = mean_squared_error(y_test, y_test_model)\n",
    "mse\n"
   ]
  },
  {
   "cell_type": "code",
   "execution_count": 18,
   "metadata": {},
   "outputs": [],
   "source": [
    "df = pd.DataFrame({\"target\":[1,0,1,0], \"a\":[1,2,3,4],\"b\":[\"a\",\"a\",\"b\",\"b\"]})\n",
    "\n"
   ]
  },
  {
   "cell_type": "code",
   "execution_count": 26,
   "metadata": {},
   "outputs": [
    {
     "data": {
      "text/html": [
       "<div>\n",
       "<style scoped>\n",
       "    .dataframe tbody tr th:only-of-type {\n",
       "        vertical-align: middle;\n",
       "    }\n",
       "\n",
       "    .dataframe tbody tr th {\n",
       "        vertical-align: top;\n",
       "    }\n",
       "\n",
       "    .dataframe thead th {\n",
       "        text-align: right;\n",
       "    }\n",
       "</style>\n",
       "<table border=\"1\" class=\"dataframe\">\n",
       "  <thead>\n",
       "    <tr style=\"text-align: right;\">\n",
       "      <th></th>\n",
       "    </tr>\n",
       "  </thead>\n",
       "  <tbody>\n",
       "    <tr>\n",
       "      <th>0</th>\n",
       "    </tr>\n",
       "    <tr>\n",
       "      <th>1</th>\n",
       "    </tr>\n",
       "    <tr>\n",
       "      <th>2</th>\n",
       "    </tr>\n",
       "    <tr>\n",
       "      <th>3</th>\n",
       "    </tr>\n",
       "  </tbody>\n",
       "</table>\n",
       "</div>"
      ],
      "text/plain": [
       "Empty DataFrame\n",
       "Columns: []\n",
       "Index: [0, 1, 2, 3]"
      ]
     },
     "execution_count": 26,
     "metadata": {},
     "output_type": "execute_result"
    }
   ],
   "source": [
    "df[[]].nunique()"
   ]
  },
  {
   "cell_type": "code",
   "execution_count": 28,
   "metadata": {},
   "outputs": [
    {
     "name": "stdout",
     "output_type": "stream",
     "text": [
      "True\n"
     ]
    }
   ],
   "source": [
    "if not []:\n",
    "    print(True)"
   ]
  },
  {
   "cell_type": "code",
   "execution_count": null,
   "metadata": {},
   "outputs": [],
   "source": []
  }
 ],
 "metadata": {
  "kernelspec": {
   "display_name": "Python 3",
   "language": "python",
   "name": "python3"
  },
  "language_info": {
   "codemirror_mode": {
    "name": "ipython",
    "version": 3
   },
   "file_extension": ".py",
   "mimetype": "text/x-python",
   "name": "python",
   "nbconvert_exporter": "python",
   "pygments_lexer": "ipython3",
   "version": "3.7.0"
  },
  "toc": {
   "base_numbering": 1,
   "nav_menu": {},
   "number_sections": true,
   "sideBar": true,
   "skip_h1_title": false,
   "title_cell": "Table of Contents",
   "title_sidebar": "Contents",
   "toc_cell": true,
   "toc_position": {},
   "toc_section_display": true,
   "toc_window_display": false
  }
 },
 "nbformat": 4,
 "nbformat_minor": 2
}
