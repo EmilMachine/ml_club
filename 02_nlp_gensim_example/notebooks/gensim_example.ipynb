{
 "cells": [
  {
   "cell_type": "markdown",
   "metadata": {},
   "source": [
    "# following this tutorial...\n",
    "- https://rstudio-pubs-static.s3.amazonaws.com/79360_850b2a69980c4488b1db95987a24867a.html"
   ]
  },
  {
   "cell_type": "code",
   "execution_count": 17,
   "metadata": {},
   "outputs": [],
   "source": [
    "### COMMON\n",
    "import pandas as pd\n",
    "\n",
    "\n",
    "### LDA\n",
    "from nltk.tokenize import RegexpTokenizer\n",
    "from nltk.corpus import stopwords\n",
    "from nltk.stem.snowball import SnowballStemmer\n",
    "from gensim import corpora, models\n",
    "import gensim, logging, cython, os\n"
   ]
  },
  {
   "cell_type": "code",
   "execution_count": 64,
   "metadata": {},
   "outputs": [],
   "source": [
    "## SETTINGS\n",
    "\n",
    "lang = \"english\"\n",
    "inpath = \"\"\n",
    "save = False\n",
    "outpath = \"../out/\"\n",
    "save_vis = True\n",
    "outpath_vis = \"../plots/\"\n"
   ]
  },
  {
   "cell_type": "markdown",
   "metadata": {},
   "source": [
    "# Load data"
   ]
  },
  {
   "cell_type": "code",
   "execution_count": 28,
   "metadata": {},
   "outputs": [
    {
     "data": {
      "text/html": [
       "<div>\n",
       "<style scoped>\n",
       "    .dataframe tbody tr th:only-of-type {\n",
       "        vertical-align: middle;\n",
       "    }\n",
       "\n",
       "    .dataframe tbody tr th {\n",
       "        vertical-align: top;\n",
       "    }\n",
       "\n",
       "    .dataframe thead th {\n",
       "        text-align: right;\n",
       "    }\n",
       "</style>\n",
       "<table border=\"1\" class=\"dataframe\">\n",
       "  <thead>\n",
       "    <tr style=\"text-align: right;\">\n",
       "      <th></th>\n",
       "      <th>text</th>\n",
       "    </tr>\n",
       "  </thead>\n",
       "  <tbody>\n",
       "    <tr>\n",
       "      <th>0</th>\n",
       "      <td>Brocolli is good to eat. My brother likes to e...</td>\n",
       "    </tr>\n",
       "    <tr>\n",
       "      <th>1</th>\n",
       "      <td>My mother spends a lot of time driving my brot...</td>\n",
       "    </tr>\n",
       "    <tr>\n",
       "      <th>2</th>\n",
       "      <td>Some health experts suggest that driving may c...</td>\n",
       "    </tr>\n",
       "    <tr>\n",
       "      <th>3</th>\n",
       "      <td>I often feel pressure to perform well at schoo...</td>\n",
       "    </tr>\n",
       "    <tr>\n",
       "      <th>4</th>\n",
       "      <td>Health professionals say that brocolli is good...</td>\n",
       "    </tr>\n",
       "  </tbody>\n",
       "</table>\n",
       "</div>"
      ],
      "text/plain": [
       "                                                text\n",
       "0  Brocolli is good to eat. My brother likes to e...\n",
       "1  My mother spends a lot of time driving my brot...\n",
       "2  Some health experts suggest that driving may c...\n",
       "3  I often feel pressure to perform well at schoo...\n",
       "4  Health professionals say that brocolli is good..."
      ]
     },
     "metadata": {},
     "output_type": "display_data"
    },
    {
     "data": {
      "text/plain": [
       "5"
      ]
     },
     "execution_count": 28,
     "metadata": {},
     "output_type": "execute_result"
    }
   ],
   "source": [
    "### LOAD DATA\n",
    "\n",
    "## DUMMY DATA\n",
    "doc_a = \"Brocolli is good to eat. My brother likes to eat good brocolli, but not my mother.\"\n",
    "doc_b = \"My mother spends a lot of time driving my brother around to baseball practice.\"\n",
    "doc_c = \"Some health experts suggest that driving may cause increased tension and blood pressure.\"\n",
    "doc_d = \"I often feel pressure to perform well at school, but my mother never seems to drive my brother to do better.\"\n",
    "doc_e = \"Health professionals say that brocolli is good for your health.\"\n",
    "\n",
    "# compile sample documents into a list\n",
    "doc_set = [doc_a, doc_b, doc_c, doc_d, doc_e]\n",
    "\n",
    "df_raw = pd.DataFrame(data = {\"text\":doc_set})\n",
    "\n",
    "## READ CSV\n",
    "#df_raw = pd.read_csv(inpath,sep=\";\")\n",
    "\n",
    "\n",
    "### quick view\n",
    "display(df_raw.head())\n",
    "len(df_raw)"
   ]
  },
  {
   "cell_type": "code",
   "execution_count": 13,
   "metadata": {},
   "outputs": [],
   "source": [
    "# Data frame cleaning\n",
    "# TODO any other cleaning <--\n",
    "\n",
    "txt = df_raw[\"text\"].tolist();\n"
   ]
  },
  {
   "cell_type": "markdown",
   "metadata": {},
   "source": [
    "# LDA model"
   ]
  },
  {
   "cell_type": "markdown",
   "metadata": {},
   "source": [
    "## Prep data"
   ]
  },
  {
   "cell_type": "code",
   "execution_count": 19,
   "metadata": {},
   "outputs": [],
   "source": [
    "\n",
    "stop = set(stopwords.words(lang))\n",
    "stemmer = SnowballStemmer(lang) \n",
    "\n",
    "### Matches all alphanumeric\n",
    "# tokenizer = RegexpTokenizer(r'\\w+')\n",
    "### Matches all chars but not numbers (not (NonAlphanumeric or numeric))\n",
    "tokenizer = RegexpTokenizer(r'[^\\W\\d]+')\n"
   ]
  },
  {
   "cell_type": "code",
   "execution_count": 22,
   "metadata": {},
   "outputs": [],
   "source": [
    "texts = []\n",
    "for i in txt:\n",
    "   # clean and tokenize document string\n",
    "    raw = i.lower() #.decode('utf-8','ignore')\n",
    "    tokens = tokenizer.tokenize(raw)\n",
    "\n",
    "    # remove stop words from tokens and words shorter than 2 chars\n",
    "    stopped_tokens = [i for i in tokens if not i in stop and len(i)>2]\n",
    "    \n",
    "    # stem tokens\n",
    "    stemmed_tokens = [stemmer.stem(i) for i in stopped_tokens]\n",
    "    \n",
    "    # add tokens to list\n",
    "    texts.append(stemmed_tokens)    \n",
    "    "
   ]
  },
  {
   "cell_type": "code",
   "execution_count": 24,
   "metadata": {},
   "outputs": [],
   "source": [
    "# turn our tokenized documents into a id <-> term dictionary\n",
    "dictionary = corpora.Dictionary(texts)"
   ]
  },
  {
   "cell_type": "code",
   "execution_count": 25,
   "metadata": {},
   "outputs": [],
   "source": [
    "# convert tokenized documents into a document-term matrix\n",
    "corpus = [dictionary.doc2bow(text) for text in texts]"
   ]
  },
  {
   "cell_type": "markdown",
   "metadata": {},
   "source": [
    "## model"
   ]
  },
  {
   "cell_type": "code",
   "execution_count": 27,
   "metadata": {},
   "outputs": [],
   "source": [
    "# generate LDA model\n",
    "ldamodel = gensim.models.ldamodel.LdaModel(\n",
    "    corpus\n",
    "    , num_topics=20\n",
    "    , id2word = dictionary\n",
    "    , passes=20) \n",
    "\n",
    "# ngrams / bigrams...\n",
    "# http://www.mimno.org/articles/phrases/"
   ]
  },
  {
   "cell_type": "markdown",
   "metadata": {},
   "source": [
    "## Save model"
   ]
  },
  {
   "cell_type": "code",
   "execution_count": 32,
   "metadata": {},
   "outputs": [],
   "source": [
    "# Save dict, corpus and model\n",
    "if save:\n",
    "    dictionary.save(outpath+\"v1.dict\")\n",
    "    corpora.MmCorpus.serialize(outpath+\"v1.mm\",corpus)\n",
    "    ldamodel.save(outpath+\"v1.model\")"
   ]
  },
  {
   "cell_type": "markdown",
   "metadata": {},
   "source": [
    "# Visualize"
   ]
  },
  {
   "cell_type": "code",
   "execution_count": 61,
   "metadata": {},
   "outputs": [],
   "source": [
    "## VISUALIZE\n",
    "# https://github.com/bmabey/pyLDAvis\n",
    "import pyLDAvis\n",
    "import pyLDAvis.gensim\n",
    "model_prep = pyLDAvis.gensim.prepare(\n",
    "    ldamodel\n",
    "    , corpus\n",
    "    , dictionary\n",
    "    , mds='mmds')\n"
   ]
  },
  {
   "cell_type": "code",
   "execution_count": 63,
   "metadata": {},
   "outputs": [
    {
     "data": {
      "text/html": [
       "\n",
       "<link rel=\"stylesheet\" type=\"text/css\" href=\"https://cdn.rawgit.com/bmabey/pyLDAvis/files/ldavis.v1.0.0.css\">\n",
       "\n",
       "\n",
       "<div id=\"ldavis_el1024747973653682598612497\"></div>\n",
       "<script type=\"text/javascript\">\n",
       "\n",
       "var ldavis_el1024747973653682598612497_data = {\"mdsDat\": {\"x\": [-0.18076505305098323, -0.1252357913985581, 0.24138631895695886, -0.023403402962845016, 0.1805103024794885, -0.0061661582682707135, -0.0061661582682707135, -0.0061661582682707135, -0.0061661582682707135, -0.0061661582682707135, -0.0061661582682707135, -0.0061661582682707135, -0.0061661582682707135, -0.0061661582682707135, -0.0061661582682707135, -0.0061661582682707135, -0.0061661582682707135, -0.0061661582682707135, -0.0061661582682707135, -0.0061661582682707135], \"y\": [-0.07994154648149837, 0.18069781403077645, -0.11119591498710264, -0.21568970467613113, 0.17227861176389084, 0.0035900493566710053, 0.0035900493566710053, 0.0035900493566710053, 0.0035900493566710053, 0.0035900493566710053, 0.0035900493566710053, 0.0035900493566710053, 0.0035900493566710053, 0.0035900493566710053, 0.0035900493566710053, 0.0035900493566710053, 0.0035900493566710053, 0.0035900493566710053, 0.0035900493566710053, 0.0035900493566710053], \"topics\": [1, 2, 3, 4, 5, 6, 7, 8, 9, 10, 11, 12, 13, 14, 15, 16, 17, 18, 19, 20], \"cluster\": [1, 1, 1, 1, 1, 1, 1, 1, 1, 1, 1, 1, 1, 1, 1, 1, 1, 1, 1, 1], \"Freq\": [24.568233489990234, 20.250810623168945, 18.09666633605957, 18.096660614013672, 11.6680908203125, 0.4879694879055023, 0.4879694879055023, 0.4879694879055023, 0.4879694879055023, 0.4879694879055023, 0.4879694879055023, 0.4879694879055023, 0.4879694879055023, 0.4879694879055023, 0.4879694879055023, 0.4879694879055023, 0.4879694879055023, 0.4879694879055023, 0.4879694879055023, 0.4879694879055023]}, \"tinfo\": {\"Category\": [\"Default\", \"Default\", \"Default\", \"Default\", \"Default\", \"Default\", \"Default\", \"Default\", \"Default\", \"Default\", \"Default\", \"Default\", \"Default\", \"Default\", \"Default\", \"Default\", \"Default\", \"Default\", \"Default\", \"Default\", \"Default\", \"Default\", \"Default\", \"Default\", \"Default\", \"Default\", \"Default\", \"Default\", \"Default\", \"Default\", \"Topic1\", \"Topic1\", \"Topic1\", \"Topic1\", \"Topic1\", \"Topic1\", \"Topic1\", \"Topic1\", \"Topic1\", \"Topic1\", \"Topic1\", \"Topic1\", \"Topic1\", \"Topic1\", \"Topic1\", \"Topic1\", \"Topic1\", \"Topic1\", \"Topic1\", \"Topic1\", \"Topic1\", \"Topic1\", \"Topic1\", \"Topic1\", \"Topic1\", \"Topic1\", \"Topic1\", \"Topic1\", \"Topic1\", \"Topic1\", \"Topic1\", \"Topic2\", \"Topic2\", \"Topic2\", \"Topic2\", \"Topic2\", \"Topic2\", \"Topic2\", \"Topic2\", \"Topic2\", \"Topic2\", \"Topic2\", \"Topic2\", \"Topic2\", \"Topic2\", \"Topic2\", \"Topic2\", \"Topic2\", \"Topic2\", \"Topic2\", \"Topic2\", \"Topic2\", \"Topic2\", \"Topic2\", \"Topic2\", \"Topic2\", \"Topic2\", \"Topic2\", \"Topic2\", \"Topic2\", \"Topic2\", \"Topic2\", \"Topic2\", \"Topic3\", \"Topic3\", \"Topic3\", \"Topic3\", \"Topic3\", \"Topic3\", \"Topic3\", \"Topic3\", \"Topic3\", \"Topic3\", \"Topic3\", \"Topic3\", \"Topic3\", \"Topic3\", \"Topic3\", \"Topic3\", \"Topic3\", \"Topic3\", \"Topic3\", \"Topic3\", \"Topic3\", \"Topic3\", \"Topic3\", \"Topic3\", \"Topic3\", \"Topic3\", \"Topic3\", \"Topic3\", \"Topic3\", \"Topic3\", \"Topic3\", \"Topic3\", \"Topic4\", \"Topic4\", \"Topic4\", \"Topic4\", \"Topic4\", \"Topic4\", \"Topic4\", \"Topic4\", \"Topic4\", \"Topic4\", \"Topic4\", \"Topic4\", \"Topic4\", \"Topic4\", \"Topic4\", \"Topic4\", \"Topic4\", \"Topic4\", \"Topic4\", \"Topic4\", \"Topic4\", \"Topic4\", \"Topic4\", \"Topic4\", \"Topic4\", \"Topic4\", \"Topic4\", \"Topic4\", \"Topic4\", \"Topic4\", \"Topic4\", \"Topic5\", \"Topic5\", \"Topic5\", \"Topic5\", \"Topic5\", \"Topic5\", \"Topic5\", \"Topic5\", \"Topic5\", \"Topic5\", \"Topic5\", \"Topic5\", \"Topic5\", \"Topic5\", \"Topic5\", \"Topic5\", \"Topic5\", \"Topic5\", \"Topic5\", \"Topic5\", \"Topic5\", \"Topic5\", \"Topic5\", \"Topic5\", \"Topic5\", \"Topic5\", \"Topic5\", \"Topic5\", \"Topic5\", \"Topic5\", \"Topic5\", \"Topic5\", \"Topic6\", \"Topic6\", \"Topic6\", \"Topic6\", \"Topic6\", \"Topic6\", \"Topic6\", \"Topic6\", \"Topic6\", \"Topic6\", \"Topic6\", \"Topic6\", \"Topic6\", \"Topic6\", \"Topic6\", \"Topic6\", \"Topic6\", \"Topic6\", \"Topic6\", \"Topic6\", \"Topic6\", \"Topic6\", \"Topic6\", \"Topic6\", \"Topic6\", \"Topic6\", \"Topic6\", \"Topic6\", \"Topic6\", \"Topic6\", \"Topic6\", \"Topic6\", \"Topic7\", \"Topic7\", \"Topic7\", \"Topic7\", \"Topic7\", \"Topic7\", \"Topic7\", \"Topic7\", \"Topic7\", \"Topic7\", \"Topic7\", \"Topic7\", \"Topic7\", \"Topic7\", \"Topic7\", \"Topic7\", \"Topic7\", \"Topic7\", \"Topic7\", \"Topic7\", \"Topic7\", \"Topic7\", \"Topic7\", \"Topic7\", \"Topic7\", \"Topic7\", \"Topic7\", \"Topic7\", \"Topic7\", \"Topic7\", \"Topic7\", \"Topic7\", \"Topic8\", \"Topic8\", \"Topic8\", \"Topic8\", \"Topic8\", \"Topic8\", \"Topic8\", \"Topic8\", \"Topic8\", \"Topic8\", \"Topic8\", \"Topic8\", \"Topic8\", \"Topic8\", \"Topic8\", \"Topic8\", \"Topic8\", \"Topic8\", \"Topic8\", \"Topic8\", \"Topic8\", \"Topic8\", \"Topic8\", \"Topic8\", \"Topic8\", \"Topic8\", \"Topic8\", \"Topic8\", \"Topic8\", \"Topic8\", \"Topic8\", \"Topic8\", \"Topic9\", \"Topic9\", \"Topic9\", \"Topic9\", \"Topic9\", \"Topic9\", \"Topic9\", \"Topic9\", \"Topic9\", \"Topic9\", \"Topic9\", \"Topic9\", \"Topic9\", \"Topic9\", \"Topic9\", \"Topic9\", \"Topic9\", \"Topic9\", \"Topic9\", \"Topic9\", \"Topic9\", \"Topic9\", \"Topic9\", \"Topic9\", \"Topic9\", \"Topic9\", \"Topic9\", \"Topic9\", \"Topic9\", \"Topic9\", \"Topic9\", \"Topic9\", \"Topic10\", \"Topic10\", \"Topic10\", \"Topic10\", \"Topic10\", \"Topic10\", \"Topic10\", \"Topic10\", \"Topic10\", \"Topic10\", \"Topic10\", \"Topic10\", \"Topic10\", \"Topic10\", \"Topic10\", \"Topic10\", \"Topic10\", \"Topic10\", \"Topic10\", \"Topic10\", \"Topic10\", \"Topic10\", \"Topic10\", \"Topic10\", \"Topic10\", \"Topic10\", \"Topic10\", \"Topic10\", \"Topic10\", \"Topic10\", \"Topic10\", \"Topic10\", \"Topic11\", \"Topic11\", \"Topic11\", \"Topic11\", \"Topic11\", \"Topic11\", \"Topic11\", \"Topic11\", \"Topic11\", \"Topic11\", \"Topic11\", \"Topic11\", \"Topic11\", \"Topic11\", \"Topic11\", \"Topic11\", \"Topic11\", \"Topic11\", \"Topic11\", \"Topic11\", \"Topic11\", \"Topic11\", \"Topic11\", \"Topic11\", \"Topic11\", \"Topic11\", \"Topic11\", \"Topic11\", \"Topic11\", \"Topic11\", \"Topic11\", \"Topic11\", \"Topic12\", \"Topic12\", \"Topic12\", \"Topic12\", \"Topic12\", \"Topic12\", \"Topic12\", \"Topic12\", \"Topic12\", \"Topic12\", \"Topic12\", \"Topic12\", \"Topic12\", \"Topic12\", \"Topic12\", \"Topic12\", \"Topic12\", \"Topic12\", \"Topic12\", \"Topic12\", \"Topic12\", \"Topic12\", \"Topic12\", \"Topic12\", \"Topic12\", \"Topic12\", \"Topic12\", \"Topic12\", \"Topic12\", \"Topic12\", \"Topic12\", \"Topic12\", \"Topic13\", \"Topic13\", \"Topic13\", \"Topic13\", \"Topic13\", \"Topic13\", \"Topic13\", \"Topic13\", \"Topic13\", \"Topic13\", \"Topic13\", \"Topic13\", \"Topic13\", \"Topic13\", \"Topic13\", \"Topic13\", \"Topic13\", \"Topic13\", \"Topic13\", \"Topic13\", \"Topic13\", \"Topic13\", \"Topic13\", \"Topic13\", \"Topic13\", \"Topic13\", \"Topic13\", \"Topic13\", \"Topic13\", \"Topic13\", \"Topic13\", \"Topic13\", \"Topic14\", \"Topic14\", \"Topic14\", \"Topic14\", \"Topic14\", \"Topic14\", \"Topic14\", \"Topic14\", \"Topic14\", \"Topic14\", \"Topic14\", \"Topic14\", \"Topic14\", \"Topic14\", \"Topic14\", \"Topic14\", \"Topic14\", \"Topic14\", \"Topic14\", \"Topic14\", \"Topic14\", \"Topic14\", \"Topic14\", \"Topic14\", \"Topic14\", \"Topic14\", \"Topic14\", \"Topic14\", \"Topic14\", \"Topic14\", \"Topic14\", \"Topic14\", \"Topic15\", \"Topic15\", \"Topic15\", \"Topic15\", \"Topic15\", \"Topic15\", \"Topic15\", \"Topic15\", \"Topic15\", \"Topic15\", \"Topic15\", \"Topic15\", \"Topic15\", \"Topic15\", \"Topic15\", \"Topic15\", \"Topic15\", \"Topic15\", \"Topic15\", \"Topic15\", \"Topic15\", \"Topic15\", \"Topic15\", \"Topic15\", \"Topic15\", \"Topic15\", \"Topic15\", \"Topic15\", \"Topic15\", \"Topic15\", \"Topic15\", \"Topic15\", \"Topic16\", \"Topic16\", \"Topic16\", \"Topic16\", \"Topic16\", \"Topic16\", \"Topic16\", \"Topic16\", \"Topic16\", \"Topic16\", \"Topic16\", \"Topic16\", \"Topic16\", \"Topic16\", \"Topic16\", \"Topic16\", \"Topic16\", \"Topic16\", \"Topic16\", \"Topic16\", \"Topic16\", \"Topic16\", \"Topic16\", \"Topic16\", \"Topic16\", \"Topic16\", \"Topic16\", \"Topic16\", \"Topic16\", \"Topic16\", \"Topic16\", \"Topic16\", \"Topic17\", \"Topic17\", \"Topic17\", \"Topic17\", \"Topic17\", \"Topic17\", \"Topic17\", \"Topic17\", \"Topic17\", \"Topic17\", \"Topic17\", \"Topic17\", \"Topic17\", \"Topic17\", \"Topic17\", \"Topic17\", \"Topic17\", \"Topic17\", \"Topic17\", \"Topic17\", \"Topic17\", \"Topic17\", \"Topic17\", \"Topic17\", \"Topic17\", \"Topic17\", \"Topic17\", \"Topic17\", \"Topic17\", \"Topic17\", \"Topic17\", \"Topic17\", \"Topic18\", \"Topic18\", \"Topic18\", \"Topic18\", \"Topic18\", \"Topic18\", \"Topic18\", \"Topic18\", \"Topic18\", \"Topic18\", \"Topic18\", \"Topic18\", \"Topic18\", \"Topic18\", \"Topic18\", \"Topic18\", \"Topic18\", \"Topic18\", \"Topic18\", \"Topic18\", \"Topic18\", \"Topic18\", \"Topic18\", \"Topic18\", \"Topic18\", \"Topic18\", \"Topic18\", \"Topic18\", \"Topic18\", \"Topic18\", \"Topic18\", \"Topic18\", \"Topic19\", \"Topic19\", \"Topic19\", \"Topic19\", \"Topic19\", \"Topic19\", \"Topic19\", \"Topic19\", \"Topic19\", \"Topic19\", \"Topic19\", \"Topic19\", \"Topic19\", \"Topic19\", \"Topic19\", \"Topic19\", \"Topic19\", \"Topic19\", \"Topic19\", \"Topic19\", \"Topic19\", \"Topic19\", \"Topic19\", \"Topic19\", \"Topic19\", \"Topic19\", \"Topic19\", \"Topic19\", \"Topic19\", \"Topic19\", \"Topic19\", \"Topic19\", \"Topic20\", \"Topic20\", \"Topic20\", \"Topic20\", \"Topic20\", \"Topic20\", \"Topic20\", \"Topic20\", \"Topic20\", \"Topic20\", \"Topic20\", \"Topic20\", \"Topic20\", \"Topic20\", \"Topic20\", \"Topic20\", \"Topic20\", \"Topic20\", \"Topic20\", \"Topic20\", \"Topic20\", \"Topic20\", \"Topic20\", \"Topic20\", \"Topic20\", \"Topic20\", \"Topic20\", \"Topic20\", \"Topic20\", \"Topic20\", \"Topic20\", \"Topic20\"], \"Freq\": [2.0, 2.0, 2.0, 2.0, 2.0, 2.0, 1.0, 1.0, 1.0, 1.0, 1.0, 1.0, 1.0, 1.0, 1.0, 1.0, 1.0, 1.0, 1.0, 1.0, 1.0, 1.0, 1.0, 1.0, 1.0, 1.0, 1.0, 1.0, 1.0, 1.0, 0.8725334405899048, 0.8725334405899048, 0.8725334405899048, 0.8725334405899048, 0.8725334405899048, 0.8725334405899048, 0.8725334405899048, 0.8725334405899048, 0.8725334405899048, 0.8725334405899048, 0.8725334405899048, 0.8725334405899048, 0.041549328714609146, 0.041549328714609146, 0.041549328714609146, 0.041549328714609146, 0.041549328714609146, 0.041549328714609146, 0.041549328714609146, 0.041549328714609146, 0.041549328714609146, 0.041549328714609146, 0.041549328714609146, 0.041549328714609146, 0.041549328714609146, 0.041549328714609146, 0.041549328714609146, 0.041549328714609146, 0.041549328714609146, 0.041549328714609146, 0.041549328714609146, 0.8432016968727112, 0.8432016968727112, 0.8432016968727112, 0.8432016968727112, 0.8432016968727112, 0.8432016968727112, 0.8432016968727112, 0.8432016968727112, 0.8432016968727112, 0.8432016968727112, 0.04015255719423294, 0.04015255719423294, 0.04015255719423294, 0.04015255719423294, 0.04015255719423294, 0.04015255719423294, 0.04015255719423294, 0.04015255719423294, 0.04015255719423294, 0.04015255719423294, 0.04015255719423294, 0.04015255719423294, 0.04015255719423294, 0.04015255719423294, 0.04015255719423294, 0.04015255719423294, 0.04015255719423294, 0.04015255719423294, 0.04015255719423294, 0.04015255719423294, 0.04015255719423294, 0.04015255719423294, 1.609920859336853, 0.8245924711227417, 1.609920859336853, 1.609920859336853, 0.8245924711227417, 0.8245924711227417, 0.039266396313905716, 0.039266396313905716, 0.039266396313905716, 0.039266396313905716, 0.039266396313905716, 0.039266396313905716, 0.039266396313905716, 0.039266396313905716, 0.039266396313905716, 0.039266396313905716, 0.039266396313905716, 0.039266396313905716, 0.039266396313905716, 0.039266396313905716, 0.039266396313905716, 0.039266396313905716, 0.039266396313905716, 0.039266396313905716, 0.039266396313905716, 0.039266396313905716, 0.039266396313905716, 0.039266396313905716, 0.039266396313905716, 0.039266396313905716, 0.039266396313905716, 0.039266396313905716, 0.8245929479598999, 0.8245929479598999, 0.8245929479598999, 0.8245929479598999, 0.8245929479598999, 0.8245929479598999, 0.8245929479598999, 0.8245929479598999, 0.8245929479598999, 0.039266426116228104, 0.039266426116228104, 0.039266426116228104, 0.039266426116228104, 0.039266426116228104, 0.039266426116228104, 0.039266426116228104, 0.039266426116228104, 0.039266426116228104, 0.039266426116228104, 0.039266426116228104, 0.039266426116228104, 0.039266426116228104, 0.039266426116228104, 0.039266426116228104, 0.039266426116228104, 0.039266426116228104, 0.039266426116228104, 0.039266426116228104, 0.039266426116228104, 0.039266426116228104, 0.039266426116228104, 0.7415373921394348, 0.7415373921394348, 1.4477648735046387, 0.7415373921394348, 0.7415373921394348, 0.03531136363744736, 0.03531136363744736, 0.03531136363744736, 0.03531136363744736, 0.03531136363744736, 0.03531136363744736, 0.03531136363744736, 0.03531136363744736, 0.03531136363744736, 0.03531136363744736, 0.03531136363744736, 0.03531136363744736, 0.03531136363744736, 0.03531136363744736, 0.03531136363744736, 0.03531136363744736, 0.03531136363744736, 0.03531136363744736, 0.03531136363744736, 0.03531136363744736, 0.03531136363744736, 0.03531136363744736, 0.03531136363744736, 0.03531136363744736, 0.03531136363744736, 0.03531136363744736, 0.03531136363744736, 0.007014560978859663, 0.007014560978859663, 0.007014560978859663, 0.007014560978859663, 0.007014560978859663, 0.007014560978859663, 0.007014560978859663, 0.007014560978859663, 0.007014560978859663, 0.007014560978859663, 0.007014560978859663, 0.007014560978859663, 0.007014560978859663, 0.007014560978859663, 0.007014560978859663, 0.007014560978859663, 0.007014560978859663, 0.007014560978859663, 0.007014560978859663, 0.007014560978859663, 0.007014560978859663, 0.007014560978859663, 0.007014560978859663, 0.007014560978859663, 0.007014560978859663, 0.007014560978859663, 0.007014560978859663, 0.007014560978859663, 0.007014560978859663, 0.007014560978859663, 0.007014560978859663, 0.007014560978859663, 0.007014560978859663, 0.007014560978859663, 0.007014560978859663, 0.007014560978859663, 0.007014560978859663, 0.007014560978859663, 0.007014560978859663, 0.007014560978859663, 0.007014560978859663, 0.007014560978859663, 0.007014560978859663, 0.007014560978859663, 0.007014560978859663, 0.007014560978859663, 0.007014560978859663, 0.007014560978859663, 0.007014560978859663, 0.007014560978859663, 0.007014560978859663, 0.007014560978859663, 0.007014560978859663, 0.007014560978859663, 0.007014560978859663, 0.007014560978859663, 0.007014560978859663, 0.007014560978859663, 0.007014560978859663, 0.007014560978859663, 0.007014560978859663, 0.007014560978859663, 0.007014560978859663, 0.007014560978859663, 0.007014560978859663, 0.007014560978859663, 0.007014560978859663, 0.007014560978859663, 0.007014560978859663, 0.007014560978859663, 0.007014560978859663, 0.007014560978859663, 0.007014560978859663, 0.007014560978859663, 0.007014560978859663, 0.007014560978859663, 0.007014560978859663, 0.007014560978859663, 0.007014560978859663, 0.007014560978859663, 0.007014560978859663, 0.007014560978859663, 0.007014560978859663, 0.007014560978859663, 0.007014560978859663, 0.007014560978859663, 0.007014560978859663, 0.007014560978859663, 0.007014560978859663, 0.007014560978859663, 0.007014560978859663, 0.007014560978859663, 0.007014560978859663, 0.007014560978859663, 0.007014560978859663, 0.007014560978859663, 0.007014560978859663, 0.007014560978859663, 0.007014560978859663, 0.007014560978859663, 0.007014560978859663, 0.007014560978859663, 0.007014560978859663, 0.007014560978859663, 0.007014560978859663, 0.007014560978859663, 0.007014560978859663, 0.007014560978859663, 0.007014560978859663, 0.007014560978859663, 0.007014560978859663, 0.007014560978859663, 0.007014560978859663, 0.007014560978859663, 0.007014560978859663, 0.007014560978859663, 0.007014560978859663, 0.007014560978859663, 0.007014560978859663, 0.007014560978859663, 0.007014560978859663, 0.007014560978859663, 0.007014560978859663, 0.007014560978859663, 0.007014560978859663, 0.007014560978859663, 0.007014560978859663, 0.007014560978859663, 0.007014560978859663, 0.007014560978859663, 0.007014560978859663, 0.007014560978859663, 0.007014560978859663, 0.007014560978859663, 0.007014560978859663, 0.007014560978859663, 0.007014560978859663, 0.007014560978859663, 0.007014560978859663, 0.007014560978859663, 0.007014560978859663, 0.007014560978859663, 0.007014560978859663, 0.007014560978859663, 0.007014560978859663, 0.007014560978859663, 0.007014560978859663, 0.007014560978859663, 0.007014560978859663, 0.007014560978859663, 0.007014560978859663, 0.007014560978859663, 0.007014560978859663, 0.007014560978859663, 0.007014560978859663, 0.007014560978859663, 0.007014560978859663, 0.007014560978859663, 0.007014560978859663, 0.007014560978859663, 0.007014560978859663, 0.007014560978859663, 0.007014560978859663, 0.007014560978859663, 0.007014560978859663, 0.007014560978859663, 0.007014560978859663, 0.007014560978859663, 0.007014560978859663, 0.007014560978859663, 0.007014560978859663, 0.007014560978859663, 0.007014560978859663, 0.007014560978859663, 0.007014560978859663, 0.007014560978859663, 0.007014560978859663, 0.007014560978859663, 0.007014560978859663, 0.007014560978859663, 0.007014560978859663, 0.007014560978859663, 0.007014560978859663, 0.007014560978859663, 0.007014560978859663, 0.007014560978859663, 0.007014560978859663, 0.007014560978859663, 0.007014560978859663, 0.007014560978859663, 0.007014560978859663, 0.007014560978859663, 0.007014560978859663, 0.007014560978859663, 0.007014560978859663, 0.007014560978859663, 0.007014560978859663, 0.007014560978859663, 0.007014560978859663, 0.007014560978859663, 0.007014560978859663, 0.007014560978859663, 0.007014560978859663, 0.007014560978859663, 0.007014560978859663, 0.007014560978859663, 0.007014560978859663, 0.007014560978859663, 0.007014560978859663, 0.007014560978859663, 0.007014560978859663, 0.007014560978859663, 0.007014560978859663, 0.007014560978859663, 0.007014560978859663, 0.007014560978859663, 0.007014560978859663, 0.007014560978859663, 0.007014560978859663, 0.007014560978859663, 0.007014560978859663, 0.007014560978859663, 0.007014560978859663, 0.007014560978859663, 0.007014560978859663, 0.007014560978859663, 0.007014560978859663, 0.007014560978859663, 0.007014560978859663, 0.007014560978859663, 0.007014560978859663, 0.007014560978859663, 0.007014560978859663, 0.007014560978859663, 0.007014560978859663, 0.007014560978859663, 0.007014560978859663, 0.007014560978859663, 0.007014560978859663, 0.007014560978859663, 0.007014560978859663, 0.007014560978859663, 0.007014560978859663, 0.007014560978859663, 0.007014560978859663, 0.007014560978859663, 0.007014560978859663, 0.007014560978859663, 0.007014560978859663, 0.007014560978859663, 0.007014560978859663, 0.007014560978859663, 0.007014560978859663, 0.007014560978859663, 0.007014560978859663, 0.007014560978859663, 0.007014560978859663, 0.007014560978859663, 0.007014560978859663, 0.007014560978859663, 0.007014560978859663, 0.007014560978859663, 0.007014560978859663, 0.007014560978859663, 0.007014560978859663, 0.007014560978859663, 0.007014560978859663, 0.007014560978859663, 0.007014560978859663, 0.007014560978859663, 0.007014560978859663, 0.007014560978859663, 0.007014560978859663, 0.007014560978859663, 0.007014560978859663, 0.007014560978859663, 0.007014560978859663, 0.007014560978859663, 0.007014560978859663, 0.007014560978859663, 0.007014560978859663, 0.007014560978859663, 0.007014560978859663, 0.007014560978859663, 0.007014560978859663, 0.007014560978859663, 0.007014560978859663, 0.007014560978859663, 0.007014560978859663, 0.007014560978859663, 0.007014560978859663, 0.007014560978859663, 0.007014560978859663, 0.007014560978859663, 0.007014560978859663, 0.007014560978859663, 0.007014560978859663, 0.007014560978859663, 0.007014560978859663, 0.007014560978859663, 0.007014560978859663, 0.007014560978859663, 0.007014560978859663, 0.007014560978859663, 0.007014560978859663, 0.007014560978859663, 0.007014560978859663, 0.007014560978859663, 0.007014560978859663, 0.007014560978859663, 0.007014560978859663, 0.007014560978859663, 0.007014560978859663, 0.007014560978859663, 0.007014560978859663, 0.007014560978859663, 0.007014560978859663, 0.007014560978859663, 0.007014560978859663, 0.007014560978859663, 0.007014560978859663, 0.007014560978859663, 0.007014560978859663, 0.007014560978859663, 0.007014560978859663, 0.007014560978859663, 0.007014560978859663, 0.007014560978859663, 0.007014560978859663, 0.007014560978859663, 0.007014560978859663, 0.007014560978859663, 0.007014560978859663, 0.007014560978859663, 0.007014560978859663, 0.007014560978859663, 0.007014560978859663, 0.007014560978859663, 0.007014560978859663, 0.007014560978859663, 0.007014560978859663, 0.007014560978859663, 0.007014560978859663, 0.007014560978859663, 0.007014560978859663, 0.007014560978859663, 0.007014560978859663, 0.007014560978859663, 0.007014560978859663, 0.007014560978859663, 0.007014560978859663, 0.007014560978859663, 0.007014560978859663, 0.007014560978859663, 0.007014560978859663, 0.007014560978859663, 0.007014560978859663, 0.007014560978859663, 0.007014560978859663, 0.007014560978859663, 0.007014560978859663, 0.007014560978859663, 0.007014560978859663, 0.007014560978859663, 0.007014560978859663, 0.007014560978859663, 0.007014560978859663, 0.007014560978859663, 0.007014560978859663, 0.007014560978859663, 0.007014560978859663, 0.007014560978859663, 0.007014560978859663, 0.007014560978859663, 0.007014560978859663, 0.007014560978859663, 0.007014560978859663, 0.007014560978859663, 0.007014560978859663, 0.007014560978859663, 0.007014560978859663, 0.007014560978859663, 0.007014560978859663, 0.007014560978859663, 0.007014560978859663, 0.007014560978859663, 0.007014560978859663, 0.007014560978859663, 0.007014560978859663, 0.007014560978859663, 0.007014560978859663, 0.007014560978859663, 0.007014560978859663, 0.007014560978859663, 0.007014560978859663, 0.007014560978859663, 0.007014560978859663, 0.007014560978859663, 0.007014560978859663, 0.007014560978859663, 0.007014560978859663, 0.007014560978859663, 0.007014560978859663, 0.007014560978859663, 0.007014560978859663, 0.007014560978859663, 0.007014560978859663, 0.007014560978859663, 0.007014560978859663, 0.007014560978859663, 0.007014560978859663, 0.007014560978859663, 0.007014560978859663, 0.007014560978859663, 0.007014560978859663, 0.007014560978859663, 0.007014560978859663, 0.007014560978859663, 0.007014560978859663, 0.007014560978859663, 0.007014560978859663, 0.007014560978859663, 0.007014560978859663, 0.007014560978859663, 0.007014560978859663, 0.007014560978859663, 0.007014560978859663, 0.007014560978859663, 0.007014560978859663, 0.007014560978859663, 0.007014560978859663, 0.007014560978859663, 0.007014560978859663, 0.007014560978859663, 0.007014560978859663, 0.007014560978859663, 0.007014560978859663, 0.007014560978859663, 0.007014560978859663, 0.007014560978859663, 0.007014560978859663, 0.007014560978859663, 0.007014560978859663, 0.007014560978859663, 0.007014560978859663, 0.007014560978859663, 0.007014560978859663, 0.007014560978859663, 0.007014560978859663, 0.007014560978859663, 0.007014560978859663, 0.007014560978859663, 0.007014560978859663, 0.007014560978859663, 0.007014560978859663, 0.007014560978859663, 0.007014560978859663, 0.007014560978859663, 0.007014560978859663, 0.007014560978859663, 0.007014560978859663, 0.007014560978859663, 0.007014560978859663, 0.007014560978859663, 0.007014560978859663, 0.007014560978859663, 0.007014560978859663, 0.007014560978859663, 0.007014560978859663, 0.007014560978859663, 0.007014560978859663, 0.007014560978859663, 0.007014560978859663, 0.007014560978859663, 0.007014560978859663, 0.007014560978859663, 0.007014560978859663, 0.007014560978859663, 0.007014560978859663, 0.007014560978859663], \"Term\": [\"health\", \"good\", \"brocolli\", \"drive\", \"mother\", \"brother\", \"eat\", \"pressur\", \"well\", \"seem\", \"school\", \"perform\", \"often\", \"never\", \"feel\", \"better\", \"tension\", \"suggest\", \"increas\", \"may\", \"expert\", \"caus\", \"blood\", \"time\", \"spend\", \"practic\", \"lot\", \"basebal\", \"around\", \"like\", \"well\", \"seem\", \"school\", \"perform\", \"often\", \"never\", \"feel\", \"better\", \"pressur\", \"brother\", \"mother\", \"drive\", \"profession\", \"say\", \"like\", \"around\", \"basebal\", \"practic\", \"lot\", \"time\", \"spend\", \"expert\", \"blood\", \"caus\", \"increas\", \"may\", \"suggest\", \"tension\", \"eat\", \"health\", \"good\", \"expert\", \"suggest\", \"blood\", \"caus\", \"increas\", \"may\", \"tension\", \"pressur\", \"health\", \"drive\", \"profession\", \"say\", \"like\", \"lot\", \"practic\", \"around\", \"basebal\", \"time\", \"spend\", \"well\", \"feel\", \"better\", \"seem\", \"school\", \"perform\", \"often\", \"never\", \"eat\", \"good\", \"brocolli\", \"mother\", \"brother\", \"eat\", \"like\", \"brocolli\", \"good\", \"brother\", \"mother\", \"profession\", \"say\", \"spend\", \"around\", \"basebal\", \"lot\", \"practic\", \"time\", \"caus\", \"blood\", \"expert\", \"increas\", \"may\", \"suggest\", \"tension\", \"never\", \"better\", \"often\", \"perform\", \"school\", \"seem\", \"well\", \"feel\", \"pressur\", \"drive\", \"health\", \"around\", \"basebal\", \"lot\", \"practic\", \"spend\", \"time\", \"brother\", \"mother\", \"drive\", \"say\", \"profession\", \"like\", \"blood\", \"caus\", \"expert\", \"may\", \"suggest\", \"tension\", \"increas\", \"never\", \"better\", \"feel\", \"often\", \"perform\", \"school\", \"seem\", \"well\", \"eat\", \"pressur\", \"health\", \"good\", \"say\", \"profession\", \"health\", \"good\", \"brocolli\", \"like\", \"around\", \"basebal\", \"lot\", \"practic\", \"spend\", \"time\", \"blood\", \"caus\", \"expert\", \"increas\", \"may\", \"suggest\", \"tension\", \"school\", \"better\", \"well\", \"never\", \"feel\", \"perform\", \"seem\", \"often\", \"eat\", \"pressur\", \"mother\", \"brother\", \"drive\", \"say\", \"profession\", \"like\", \"around\", \"basebal\", \"lot\", \"practic\", \"spend\", \"time\", \"may\", \"blood\", \"caus\", \"increas\", \"expert\", \"suggest\", \"tension\", \"better\", \"feel\", \"never\", \"often\", \"perform\", \"school\", \"seem\", \"well\", \"eat\", \"pressur\", \"health\", \"good\", \"brocolli\", \"mother\", \"brother\", \"drive\", \"say\", \"profession\", \"like\", \"around\", \"basebal\", \"lot\", \"practic\", \"spend\", \"time\", \"may\", \"blood\", \"caus\", \"increas\", \"expert\", \"suggest\", \"tension\", \"better\", \"feel\", \"never\", \"often\", \"perform\", \"school\", \"seem\", \"well\", \"eat\", \"pressur\", \"health\", \"good\", \"brocolli\", \"mother\", \"brother\", \"drive\", \"say\", \"profession\", \"like\", \"around\", \"basebal\", \"lot\", \"practic\", \"spend\", \"time\", \"may\", \"blood\", \"caus\", \"increas\", \"expert\", \"suggest\", \"tension\", \"better\", \"feel\", \"never\", \"often\", \"perform\", \"school\", \"seem\", \"well\", \"eat\", \"pressur\", \"health\", \"good\", \"brocolli\", \"mother\", \"brother\", \"drive\", \"say\", \"profession\", \"like\", \"around\", \"basebal\", \"lot\", \"practic\", \"spend\", \"time\", \"may\", \"blood\", \"caus\", \"increas\", \"expert\", \"suggest\", \"tension\", \"better\", \"feel\", \"never\", \"often\", \"perform\", \"school\", \"seem\", \"well\", \"eat\", \"pressur\", \"health\", \"good\", \"brocolli\", \"mother\", \"brother\", \"drive\", \"say\", \"profession\", \"like\", \"around\", \"basebal\", \"lot\", \"practic\", \"spend\", \"time\", \"may\", \"blood\", \"caus\", \"increas\", \"expert\", \"suggest\", \"tension\", \"better\", \"feel\", \"never\", \"often\", \"perform\", \"school\", \"seem\", \"well\", \"eat\", \"pressur\", \"health\", \"good\", \"brocolli\", \"mother\", \"brother\", \"drive\", \"say\", \"profession\", \"like\", \"around\", \"basebal\", \"lot\", \"practic\", \"spend\", \"time\", \"may\", \"blood\", \"caus\", \"increas\", \"expert\", \"suggest\", \"tension\", \"better\", \"feel\", \"never\", \"often\", \"perform\", \"school\", \"seem\", \"well\", \"eat\", \"pressur\", \"health\", \"good\", \"brocolli\", \"mother\", \"brother\", \"drive\", \"say\", \"profession\", \"like\", \"around\", \"basebal\", \"lot\", \"practic\", \"spend\", \"time\", \"may\", \"blood\", \"caus\", \"increas\", \"expert\", \"suggest\", \"tension\", \"better\", \"feel\", \"never\", \"often\", \"perform\", \"school\", \"seem\", \"well\", \"eat\", \"pressur\", \"health\", \"good\", \"brocolli\", \"mother\", \"brother\", \"drive\", \"say\", \"profession\", \"like\", \"around\", \"basebal\", \"lot\", \"practic\", \"spend\", \"time\", \"may\", \"blood\", \"caus\", \"increas\", \"expert\", \"suggest\", \"tension\", \"better\", \"feel\", \"never\", \"often\", \"perform\", \"school\", \"seem\", \"well\", \"eat\", \"pressur\", \"health\", \"good\", \"brocolli\", \"mother\", \"brother\", \"drive\", \"say\", \"profession\", \"like\", \"around\", \"basebal\", \"lot\", \"practic\", \"spend\", \"time\", \"may\", \"blood\", \"caus\", \"increas\", \"expert\", \"suggest\", \"tension\", \"better\", \"feel\", \"never\", \"often\", \"perform\", \"school\", \"seem\", \"well\", \"eat\", \"pressur\", \"health\", \"good\", \"brocolli\", \"mother\", \"brother\", \"drive\", \"say\", \"profession\", \"like\", \"around\", \"basebal\", \"lot\", \"practic\", \"spend\", \"time\", \"may\", \"blood\", \"caus\", \"increas\", \"expert\", \"suggest\", \"tension\", \"better\", \"feel\", \"never\", \"often\", \"perform\", \"school\", \"seem\", \"well\", \"eat\", \"pressur\", \"health\", \"good\", \"brocolli\", \"mother\", \"brother\", \"drive\", \"say\", \"profession\", \"like\", \"around\", \"basebal\", \"lot\", \"practic\", \"spend\", \"time\", \"may\", \"blood\", \"caus\", \"increas\", \"expert\", \"suggest\", \"tension\", \"better\", \"feel\", \"never\", \"often\", \"perform\", \"school\", \"seem\", \"well\", \"eat\", \"pressur\", \"health\", \"good\", \"brocolli\", \"mother\", \"brother\", \"drive\", \"say\", \"profession\", \"like\", \"around\", \"basebal\", \"lot\", \"practic\", \"spend\", \"time\", \"may\", \"blood\", \"caus\", \"increas\", \"expert\", \"suggest\", \"tension\", \"better\", \"feel\", \"never\", \"often\", \"perform\", \"school\", \"seem\", \"well\", \"eat\", \"pressur\", \"health\", \"good\", \"brocolli\", \"mother\", \"brother\", \"drive\", \"say\", \"profession\", \"like\", \"around\", \"basebal\", \"lot\", \"practic\", \"spend\", \"time\", \"may\", \"blood\", \"caus\", \"increas\", \"expert\", \"suggest\", \"tension\", \"better\", \"feel\", \"never\", \"often\", \"perform\", \"school\", \"seem\", \"well\", \"eat\", \"pressur\", \"health\", \"good\", \"brocolli\", \"mother\", \"brother\", \"drive\", \"say\", \"profession\", \"like\", \"around\", \"basebal\", \"lot\", \"practic\", \"spend\", \"time\", \"may\", \"blood\", \"caus\", \"increas\", \"expert\", \"suggest\", \"tension\", \"better\", \"feel\", \"never\", \"often\", \"perform\", \"school\", \"seem\", \"well\", \"eat\", \"pressur\", \"health\", \"good\", \"brocolli\", \"mother\", \"brother\", \"drive\", \"say\", \"profession\", \"like\", \"around\", \"basebal\", \"lot\", \"practic\", \"spend\", \"time\", \"may\", \"blood\", \"caus\", \"increas\", \"expert\", \"suggest\", \"tension\", \"better\", \"feel\", \"never\", \"often\", \"perform\", \"school\", \"seem\", \"well\", \"eat\", \"pressur\", \"health\", \"good\", \"brocolli\", \"mother\", \"brother\", \"drive\"], \"Total\": [2.0, 2.0, 2.0, 2.0, 2.0, 2.0, 1.0, 1.0, 1.0, 1.0, 1.0, 1.0, 1.0, 1.0, 1.0, 1.0, 1.0, 1.0, 1.0, 1.0, 1.0, 1.0, 1.0, 1.0, 1.0, 1.0, 1.0, 1.0, 1.0, 1.0, 1.131747841835022, 1.131747841835022, 1.131747841835022, 1.131747841835022, 1.131747841835022, 1.131747841835022, 1.131747841835022, 1.131747841835022, 1.9347970485687256, 2.7024006843566895, 2.7024006843566895, 2.720123767852783, 1.006990671157837, 1.006990671157837, 1.0860899686813354, 1.0860904455184937, 1.0860904455184937, 1.0860904455184937, 1.0860904455184937, 1.0860904455184937, 1.0860904455184937, 1.1038129329681396, 1.1038129329681396, 1.1038129329681396, 1.1038129329681396, 1.1038129329681396, 1.1038129329681396, 1.1038129329681396, 1.8714182376861572, 2.516266345977783, 2.5776443481445312, 1.1038129329681396, 1.1038129329681396, 1.1038129329681396, 1.1038129329681396, 1.1038129329681396, 1.1038129329681396, 1.1038129329681396, 1.9347970485687256, 2.516266345977783, 2.720123767852783, 1.006990671157837, 1.006990671157837, 1.0860899686813354, 1.0860904455184937, 1.0860904455184937, 1.0860904455184937, 1.0860904455184937, 1.0860904455184937, 1.0860904455184937, 1.131747841835022, 1.131747841835022, 1.131747841835022, 1.131747841835022, 1.131747841835022, 1.131747841835022, 1.131747841835022, 1.131747841835022, 1.8714182376861572, 2.5776443481445312, 2.5776443481445312, 2.7024006843566895, 2.7024006843566895, 1.8714182376861572, 1.0860899686813354, 2.5776443481445312, 2.5776443481445312, 2.7024006843566895, 2.7024006843566895, 1.006990671157837, 1.006990671157837, 1.0860904455184937, 1.0860904455184937, 1.0860904455184937, 1.0860904455184937, 1.0860904455184937, 1.0860904455184937, 1.1038129329681396, 1.1038129329681396, 1.1038129329681396, 1.1038129329681396, 1.1038129329681396, 1.1038129329681396, 1.1038129329681396, 1.131747841835022, 1.131747841835022, 1.131747841835022, 1.131747841835022, 1.131747841835022, 1.131747841835022, 1.131747841835022, 1.131747841835022, 1.9347970485687256, 2.720123767852783, 2.516266345977783, 1.0860904455184937, 1.0860904455184937, 1.0860904455184937, 1.0860904455184937, 1.0860904455184937, 1.0860904455184937, 2.7024006843566895, 2.7024006843566895, 2.720123767852783, 1.006990671157837, 1.006990671157837, 1.0860899686813354, 1.1038129329681396, 1.1038129329681396, 1.1038129329681396, 1.1038129329681396, 1.1038129329681396, 1.1038129329681396, 1.1038129329681396, 1.131747841835022, 1.131747841835022, 1.131747841835022, 1.131747841835022, 1.131747841835022, 1.131747841835022, 1.131747841835022, 1.131747841835022, 1.8714182376861572, 1.9347970485687256, 2.516266345977783, 2.5776443481445312, 1.006990671157837, 1.006990671157837, 2.516266345977783, 2.5776443481445312, 2.5776443481445312, 1.0860899686813354, 1.0860904455184937, 1.0860904455184937, 1.0860904455184937, 1.0860904455184937, 1.0860904455184937, 1.0860904455184937, 1.1038129329681396, 1.1038129329681396, 1.1038129329681396, 1.1038129329681396, 1.1038129329681396, 1.1038129329681396, 1.1038129329681396, 1.131747841835022, 1.131747841835022, 1.131747841835022, 1.131747841835022, 1.131747841835022, 1.131747841835022, 1.131747841835022, 1.131747841835022, 1.8714182376861572, 1.9347970485687256, 2.7024006843566895, 2.7024006843566895, 2.720123767852783, 1.006990671157837, 1.006990671157837, 1.0860899686813354, 1.0860904455184937, 1.0860904455184937, 1.0860904455184937, 1.0860904455184937, 1.0860904455184937, 1.0860904455184937, 1.1038129329681396, 1.1038129329681396, 1.1038129329681396, 1.1038129329681396, 1.1038129329681396, 1.1038129329681396, 1.1038129329681396, 1.131747841835022, 1.131747841835022, 1.131747841835022, 1.131747841835022, 1.131747841835022, 1.131747841835022, 1.131747841835022, 1.131747841835022, 1.8714182376861572, 1.9347970485687256, 2.516266345977783, 2.5776443481445312, 2.5776443481445312, 2.7024006843566895, 2.7024006843566895, 2.720123767852783, 1.006990671157837, 1.006990671157837, 1.0860899686813354, 1.0860904455184937, 1.0860904455184937, 1.0860904455184937, 1.0860904455184937, 1.0860904455184937, 1.0860904455184937, 1.1038129329681396, 1.1038129329681396, 1.1038129329681396, 1.1038129329681396, 1.1038129329681396, 1.1038129329681396, 1.1038129329681396, 1.131747841835022, 1.131747841835022, 1.131747841835022, 1.131747841835022, 1.131747841835022, 1.131747841835022, 1.131747841835022, 1.131747841835022, 1.8714182376861572, 1.9347970485687256, 2.516266345977783, 2.5776443481445312, 2.5776443481445312, 2.7024006843566895, 2.7024006843566895, 2.720123767852783, 1.006990671157837, 1.006990671157837, 1.0860899686813354, 1.0860904455184937, 1.0860904455184937, 1.0860904455184937, 1.0860904455184937, 1.0860904455184937, 1.0860904455184937, 1.1038129329681396, 1.1038129329681396, 1.1038129329681396, 1.1038129329681396, 1.1038129329681396, 1.1038129329681396, 1.1038129329681396, 1.131747841835022, 1.131747841835022, 1.131747841835022, 1.131747841835022, 1.131747841835022, 1.131747841835022, 1.131747841835022, 1.131747841835022, 1.8714182376861572, 1.9347970485687256, 2.516266345977783, 2.5776443481445312, 2.5776443481445312, 2.7024006843566895, 2.7024006843566895, 2.720123767852783, 1.006990671157837, 1.006990671157837, 1.0860899686813354, 1.0860904455184937, 1.0860904455184937, 1.0860904455184937, 1.0860904455184937, 1.0860904455184937, 1.0860904455184937, 1.1038129329681396, 1.1038129329681396, 1.1038129329681396, 1.1038129329681396, 1.1038129329681396, 1.1038129329681396, 1.1038129329681396, 1.131747841835022, 1.131747841835022, 1.131747841835022, 1.131747841835022, 1.131747841835022, 1.131747841835022, 1.131747841835022, 1.131747841835022, 1.8714182376861572, 1.9347970485687256, 2.516266345977783, 2.5776443481445312, 2.5776443481445312, 2.7024006843566895, 2.7024006843566895, 2.720123767852783, 1.006990671157837, 1.006990671157837, 1.0860899686813354, 1.0860904455184937, 1.0860904455184937, 1.0860904455184937, 1.0860904455184937, 1.0860904455184937, 1.0860904455184937, 1.1038129329681396, 1.1038129329681396, 1.1038129329681396, 1.1038129329681396, 1.1038129329681396, 1.1038129329681396, 1.1038129329681396, 1.131747841835022, 1.131747841835022, 1.131747841835022, 1.131747841835022, 1.131747841835022, 1.131747841835022, 1.131747841835022, 1.131747841835022, 1.8714182376861572, 1.9347970485687256, 2.516266345977783, 2.5776443481445312, 2.5776443481445312, 2.7024006843566895, 2.7024006843566895, 2.720123767852783, 1.006990671157837, 1.006990671157837, 1.0860899686813354, 1.0860904455184937, 1.0860904455184937, 1.0860904455184937, 1.0860904455184937, 1.0860904455184937, 1.0860904455184937, 1.1038129329681396, 1.1038129329681396, 1.1038129329681396, 1.1038129329681396, 1.1038129329681396, 1.1038129329681396, 1.1038129329681396, 1.131747841835022, 1.131747841835022, 1.131747841835022, 1.131747841835022, 1.131747841835022, 1.131747841835022, 1.131747841835022, 1.131747841835022, 1.8714182376861572, 1.9347970485687256, 2.516266345977783, 2.5776443481445312, 2.5776443481445312, 2.7024006843566895, 2.7024006843566895, 2.720123767852783, 1.006990671157837, 1.006990671157837, 1.0860899686813354, 1.0860904455184937, 1.0860904455184937, 1.0860904455184937, 1.0860904455184937, 1.0860904455184937, 1.0860904455184937, 1.1038129329681396, 1.1038129329681396, 1.1038129329681396, 1.1038129329681396, 1.1038129329681396, 1.1038129329681396, 1.1038129329681396, 1.131747841835022, 1.131747841835022, 1.131747841835022, 1.131747841835022, 1.131747841835022, 1.131747841835022, 1.131747841835022, 1.131747841835022, 1.8714182376861572, 1.9347970485687256, 2.516266345977783, 2.5776443481445312, 2.5776443481445312, 2.7024006843566895, 2.7024006843566895, 2.720123767852783, 1.006990671157837, 1.006990671157837, 1.0860899686813354, 1.0860904455184937, 1.0860904455184937, 1.0860904455184937, 1.0860904455184937, 1.0860904455184937, 1.0860904455184937, 1.1038129329681396, 1.1038129329681396, 1.1038129329681396, 1.1038129329681396, 1.1038129329681396, 1.1038129329681396, 1.1038129329681396, 1.131747841835022, 1.131747841835022, 1.131747841835022, 1.131747841835022, 1.131747841835022, 1.131747841835022, 1.131747841835022, 1.131747841835022, 1.8714182376861572, 1.9347970485687256, 2.516266345977783, 2.5776443481445312, 2.5776443481445312, 2.7024006843566895, 2.7024006843566895, 2.720123767852783, 1.006990671157837, 1.006990671157837, 1.0860899686813354, 1.0860904455184937, 1.0860904455184937, 1.0860904455184937, 1.0860904455184937, 1.0860904455184937, 1.0860904455184937, 1.1038129329681396, 1.1038129329681396, 1.1038129329681396, 1.1038129329681396, 1.1038129329681396, 1.1038129329681396, 1.1038129329681396, 1.131747841835022, 1.131747841835022, 1.131747841835022, 1.131747841835022, 1.131747841835022, 1.131747841835022, 1.131747841835022, 1.131747841835022, 1.8714182376861572, 1.9347970485687256, 2.516266345977783, 2.5776443481445312, 2.5776443481445312, 2.7024006843566895, 2.7024006843566895, 2.720123767852783, 1.006990671157837, 1.006990671157837, 1.0860899686813354, 1.0860904455184937, 1.0860904455184937, 1.0860904455184937, 1.0860904455184937, 1.0860904455184937, 1.0860904455184937, 1.1038129329681396, 1.1038129329681396, 1.1038129329681396, 1.1038129329681396, 1.1038129329681396, 1.1038129329681396, 1.1038129329681396, 1.131747841835022, 1.131747841835022, 1.131747841835022, 1.131747841835022, 1.131747841835022, 1.131747841835022, 1.131747841835022, 1.131747841835022, 1.8714182376861572, 1.9347970485687256, 2.516266345977783, 2.5776443481445312, 2.5776443481445312, 2.7024006843566895, 2.7024006843566895, 2.720123767852783, 1.006990671157837, 1.006990671157837, 1.0860899686813354, 1.0860904455184937, 1.0860904455184937, 1.0860904455184937, 1.0860904455184937, 1.0860904455184937, 1.0860904455184937, 1.1038129329681396, 1.1038129329681396, 1.1038129329681396, 1.1038129329681396, 1.1038129329681396, 1.1038129329681396, 1.1038129329681396, 1.131747841835022, 1.131747841835022, 1.131747841835022, 1.131747841835022, 1.131747841835022, 1.131747841835022, 1.131747841835022, 1.131747841835022, 1.8714182376861572, 1.9347970485687256, 2.516266345977783, 2.5776443481445312, 2.5776443481445312, 2.7024006843566895, 2.7024006843566895, 2.720123767852783, 1.006990671157837, 1.006990671157837, 1.0860899686813354, 1.0860904455184937, 1.0860904455184937, 1.0860904455184937, 1.0860904455184937, 1.0860904455184937, 1.0860904455184937, 1.1038129329681396, 1.1038129329681396, 1.1038129329681396, 1.1038129329681396, 1.1038129329681396, 1.1038129329681396, 1.1038129329681396, 1.131747841835022, 1.131747841835022, 1.131747841835022, 1.131747841835022, 1.131747841835022, 1.131747841835022, 1.131747841835022, 1.131747841835022, 1.8714182376861572, 1.9347970485687256, 2.516266345977783, 2.5776443481445312, 2.5776443481445312, 2.7024006843566895, 2.7024006843566895, 2.720123767852783, 1.006990671157837, 1.006990671157837, 1.0860899686813354, 1.0860904455184937, 1.0860904455184937, 1.0860904455184937, 1.0860904455184937, 1.0860904455184937, 1.0860904455184937, 1.1038129329681396, 1.1038129329681396, 1.1038129329681396, 1.1038129329681396, 1.1038129329681396, 1.1038129329681396, 1.1038129329681396, 1.131747841835022, 1.131747841835022, 1.131747841835022, 1.131747841835022, 1.131747841835022, 1.131747841835022, 1.131747841835022, 1.131747841835022, 1.8714182376861572, 1.9347970485687256, 2.516266345977783, 2.5776443481445312, 2.5776443481445312, 2.7024006843566895, 2.7024006843566895, 2.720123767852783, 1.006990671157837, 1.006990671157837, 1.0860899686813354, 1.0860904455184937, 1.0860904455184937, 1.0860904455184937, 1.0860904455184937, 1.0860904455184937, 1.0860904455184937, 1.1038129329681396, 1.1038129329681396, 1.1038129329681396, 1.1038129329681396, 1.1038129329681396, 1.1038129329681396, 1.1038129329681396, 1.131747841835022, 1.131747841835022, 1.131747841835022, 1.131747841835022, 1.131747841835022, 1.131747841835022, 1.131747841835022, 1.131747841835022, 1.8714182376861572, 1.9347970485687256, 2.516266345977783, 2.5776443481445312, 2.5776443481445312, 2.7024006843566895, 2.7024006843566895, 2.720123767852783, 1.006990671157837, 1.006990671157837, 1.0860899686813354, 1.0860904455184937, 1.0860904455184937, 1.0860904455184937, 1.0860904455184937, 1.0860904455184937, 1.0860904455184937, 1.1038129329681396, 1.1038129329681396, 1.1038129329681396, 1.1038129329681396, 1.1038129329681396, 1.1038129329681396, 1.1038129329681396, 1.131747841835022, 1.131747841835022, 1.131747841835022, 1.131747841835022, 1.131747841835022, 1.131747841835022, 1.131747841835022, 1.131747841835022, 1.8714182376861572, 1.9347970485687256, 2.516266345977783, 2.5776443481445312, 2.5776443481445312, 2.7024006843566895, 2.7024006843566895, 2.720123767852783], \"loglift\": [30.0, 29.0, 28.0, 27.0, 26.0, 25.0, 24.0, 23.0, 22.0, 21.0, 20.0, 19.0, 18.0, 17.0, 16.0, 15.0, 14.0, 13.0, 12.0, 11.0, 10.0, 9.0, 8.0, 7.0, 6.0, 5.0, 4.0, 3.0, 2.0, 1.0, 1.1435999870300293, 1.1435999870300293, 1.1435999870300293, 1.1435999870300293, 1.1435999870300293, 1.1435999870300293, 1.1435999870300293, 1.1435999870300293, 0.6074000000953674, 0.27320000529289246, 0.27320000529289246, 0.26669999957084656, -1.78410005569458, -1.78410005569458, -1.8596999645233154, -1.8596999645233154, -1.8596999645233154, -1.8596999645233154, -1.8596999645233154, -1.8596999645233154, -1.8596999645233154, -1.8759000301361084, -1.8759000301361084, -1.8759000301361084, -1.8759000301361084, -1.8759000301361084, -1.8759000301361084, -1.8759000301361084, -2.403899908065796, -2.699899911880493, -2.7239999771118164, 1.3277000188827515, 1.3277000188827515, 1.3277000188827515, 1.3277000188827515, 1.3277000188827515, 1.3277000188827515, 1.3277000188827515, 0.7663999795913696, 0.503600001335144, 0.42570000886917114, -1.625100016593933, -1.625100016593933, -1.700700044631958, -1.700700044631958, -1.700700044631958, -1.700700044631958, -1.700700044631958, -1.700700044631958, -1.700700044631958, -1.7418999671936035, -1.7418999671936035, -1.7418999671936035, -1.7418999671936035, -1.7418999671936035, -1.7418999671936035, -1.7418999671936035, -1.7418999671936035, -2.244800090789795, -2.565000057220459, -2.565000057220459, -2.6122000217437744, -2.6122000217437744, 1.558899998664856, 1.434000015258789, 1.238800048828125, 1.238800048828125, 0.5224000215530396, 0.5224000215530396, -1.5348999500274658, -1.5348999500274658, -1.6104999780654907, -1.6104999780654907, -1.6104999780654907, -1.6104999780654907, -1.6104999780654907, -1.6104999780654907, -1.6267000436782837, -1.6267000436782837, -1.6267000436782837, -1.6267000436782837, -1.6267000436782837, -1.6267000436782837, -1.6267000436782837, -1.6517000198364258, -1.6517000198364258, -1.6517000198364258, -1.6517000198364258, -1.6517000198364258, -1.6517000198364258, -1.6517000198364258, -1.6517000198364258, -2.1879000663757324, -2.528599977493286, -2.450700044631958, 1.434000015258789, 1.434000015258789, 1.434000015258789, 1.434000015258789, 1.434000015258789, 1.434000015258789, 0.5224000215530396, 0.5224000215530396, 0.5159000158309937, -1.5348999500274658, -1.5348999500274658, -1.6104999780654907, -1.6267000436782837, -1.6267000436782837, -1.6267000436782837, -1.6267000436782837, -1.6267000436782837, -1.6267000436782837, -1.6267000436782837, -1.6517000198364258, -1.6517000198364258, -1.6517000198364258, -1.6517000198364258, -1.6517000198364258, -1.6517000198364258, -1.6517000198364258, -1.6517000198364258, -2.154599905014038, -2.1879000663757324, -2.450700044631958, -2.4748001098632812, 1.8423000574111938, 1.8423000574111938, 1.5956000089645386, 0.902400016784668, 0.902400016784668, -1.2777999639511108, -1.2777999639511108, -1.2777999639511108, -1.2777999639511108, -1.2777999639511108, -1.2777999639511108, -1.2777999639511108, -1.2940000295639038, -1.2940000295639038, -1.2940000295639038, -1.2940000295639038, -1.2940000295639038, -1.2940000295639038, -1.2940000295639038, -1.319000005722046, -1.319000005722046, -1.319000005722046, -1.319000005722046, -1.319000005722046, -1.319000005722046, -1.319000005722046, -1.319000005722046, -1.8219000101089478, -1.8552000522613525, -2.1893999576568604, -2.1893999576568604, -2.1958999633789062, 0.35589998960494995, 0.35589998960494995, 0.28029999136924744, 0.28029999136924744, 0.28029999136924744, 0.28029999136924744, 0.28029999136924744, 0.28029999136924744, 0.28029999136924744, 0.26409998536109924, 0.26409998536109924, 0.26409998536109924, 0.26409998536109924, 0.26409998536109924, 0.26409998536109924, 0.26409998536109924, 0.23909999430179596, 0.23909999430179596, 0.23909999430179596, 0.23909999430179596, 0.23909999430179596, 0.23909999430179596, 0.23909999430179596, 0.23909999430179596, -0.2637999951839447, -0.2971000075340271, -0.5598999857902527, -0.5839999914169312, -0.5839999914169312, -0.6312000155448914, -0.6312000155448914, -0.6377999782562256, 0.35589998960494995, 0.35589998960494995, 0.28029999136924744, 0.28029999136924744, 0.28029999136924744, 0.28029999136924744, 0.28029999136924744, 0.28029999136924744, 0.28029999136924744, 0.26409998536109924, 0.26409998536109924, 0.26409998536109924, 0.26409998536109924, 0.26409998536109924, 0.26409998536109924, 0.26409998536109924, 0.23909999430179596, 0.23909999430179596, 0.23909999430179596, 0.23909999430179596, 0.23909999430179596, 0.23909999430179596, 0.23909999430179596, 0.23909999430179596, -0.2637999951839447, -0.2971000075340271, -0.5598999857902527, -0.5839999914169312, -0.5839999914169312, -0.6312000155448914, -0.6312000155448914, -0.6377999782562256, 0.35589998960494995, 0.35589998960494995, 0.28029999136924744, 0.28029999136924744, 0.28029999136924744, 0.28029999136924744, 0.28029999136924744, 0.28029999136924744, 0.28029999136924744, 0.26409998536109924, 0.26409998536109924, 0.26409998536109924, 0.26409998536109924, 0.26409998536109924, 0.26409998536109924, 0.26409998536109924, 0.23909999430179596, 0.23909999430179596, 0.23909999430179596, 0.23909999430179596, 0.23909999430179596, 0.23909999430179596, 0.23909999430179596, 0.23909999430179596, -0.2637999951839447, -0.2971000075340271, -0.5598999857902527, -0.5839999914169312, -0.5839999914169312, -0.6312000155448914, -0.6312000155448914, -0.6377999782562256, 0.35589998960494995, 0.35589998960494995, 0.28029999136924744, 0.28029999136924744, 0.28029999136924744, 0.28029999136924744, 0.28029999136924744, 0.28029999136924744, 0.28029999136924744, 0.26409998536109924, 0.26409998536109924, 0.26409998536109924, 0.26409998536109924, 0.26409998536109924, 0.26409998536109924, 0.26409998536109924, 0.23909999430179596, 0.23909999430179596, 0.23909999430179596, 0.23909999430179596, 0.23909999430179596, 0.23909999430179596, 0.23909999430179596, 0.23909999430179596, -0.2637999951839447, -0.2971000075340271, -0.5598999857902527, -0.5839999914169312, -0.5839999914169312, -0.6312000155448914, -0.6312000155448914, -0.6377999782562256, 0.35589998960494995, 0.35589998960494995, 0.28029999136924744, 0.28029999136924744, 0.28029999136924744, 0.28029999136924744, 0.28029999136924744, 0.28029999136924744, 0.28029999136924744, 0.26409998536109924, 0.26409998536109924, 0.26409998536109924, 0.26409998536109924, 0.26409998536109924, 0.26409998536109924, 0.26409998536109924, 0.23909999430179596, 0.23909999430179596, 0.23909999430179596, 0.23909999430179596, 0.23909999430179596, 0.23909999430179596, 0.23909999430179596, 0.23909999430179596, -0.2637999951839447, -0.2971000075340271, -0.5598999857902527, -0.5839999914169312, -0.5839999914169312, -0.6312000155448914, -0.6312000155448914, -0.6377999782562256, 0.35589998960494995, 0.35589998960494995, 0.28029999136924744, 0.28029999136924744, 0.28029999136924744, 0.28029999136924744, 0.28029999136924744, 0.28029999136924744, 0.28029999136924744, 0.26409998536109924, 0.26409998536109924, 0.26409998536109924, 0.26409998536109924, 0.26409998536109924, 0.26409998536109924, 0.26409998536109924, 0.23909999430179596, 0.23909999430179596, 0.23909999430179596, 0.23909999430179596, 0.23909999430179596, 0.23909999430179596, 0.23909999430179596, 0.23909999430179596, -0.2637999951839447, -0.2971000075340271, -0.5598999857902527, -0.5839999914169312, -0.5839999914169312, -0.6312000155448914, -0.6312000155448914, -0.6377999782562256, 0.35589998960494995, 0.35589998960494995, 0.28029999136924744, 0.28029999136924744, 0.28029999136924744, 0.28029999136924744, 0.28029999136924744, 0.28029999136924744, 0.28029999136924744, 0.26409998536109924, 0.26409998536109924, 0.26409998536109924, 0.26409998536109924, 0.26409998536109924, 0.26409998536109924, 0.26409998536109924, 0.23909999430179596, 0.23909999430179596, 0.23909999430179596, 0.23909999430179596, 0.23909999430179596, 0.23909999430179596, 0.23909999430179596, 0.23909999430179596, -0.2637999951839447, -0.2971000075340271, -0.5598999857902527, -0.5839999914169312, -0.5839999914169312, -0.6312000155448914, -0.6312000155448914, -0.6377999782562256, 0.35589998960494995, 0.35589998960494995, 0.28029999136924744, 0.28029999136924744, 0.28029999136924744, 0.28029999136924744, 0.28029999136924744, 0.28029999136924744, 0.28029999136924744, 0.26409998536109924, 0.26409998536109924, 0.26409998536109924, 0.26409998536109924, 0.26409998536109924, 0.26409998536109924, 0.26409998536109924, 0.23909999430179596, 0.23909999430179596, 0.23909999430179596, 0.23909999430179596, 0.23909999430179596, 0.23909999430179596, 0.23909999430179596, 0.23909999430179596, -0.2637999951839447, -0.2971000075340271, -0.5598999857902527, -0.5839999914169312, -0.5839999914169312, -0.6312000155448914, -0.6312000155448914, -0.6377999782562256, 0.35589998960494995, 0.35589998960494995, 0.28029999136924744, 0.28029999136924744, 0.28029999136924744, 0.28029999136924744, 0.28029999136924744, 0.28029999136924744, 0.28029999136924744, 0.26409998536109924, 0.26409998536109924, 0.26409998536109924, 0.26409998536109924, 0.26409998536109924, 0.26409998536109924, 0.26409998536109924, 0.23909999430179596, 0.23909999430179596, 0.23909999430179596, 0.23909999430179596, 0.23909999430179596, 0.23909999430179596, 0.23909999430179596, 0.23909999430179596, -0.2637999951839447, -0.2971000075340271, -0.5598999857902527, -0.5839999914169312, -0.5839999914169312, -0.6312000155448914, -0.6312000155448914, -0.6377999782562256, 0.35589998960494995, 0.35589998960494995, 0.28029999136924744, 0.28029999136924744, 0.28029999136924744, 0.28029999136924744, 0.28029999136924744, 0.28029999136924744, 0.28029999136924744, 0.26409998536109924, 0.26409998536109924, 0.26409998536109924, 0.26409998536109924, 0.26409998536109924, 0.26409998536109924, 0.26409998536109924, 0.23909999430179596, 0.23909999430179596, 0.23909999430179596, 0.23909999430179596, 0.23909999430179596, 0.23909999430179596, 0.23909999430179596, 0.23909999430179596, -0.2637999951839447, -0.2971000075340271, -0.5598999857902527, -0.5839999914169312, -0.5839999914169312, -0.6312000155448914, -0.6312000155448914, -0.6377999782562256, 0.35589998960494995, 0.35589998960494995, 0.28029999136924744, 0.28029999136924744, 0.28029999136924744, 0.28029999136924744, 0.28029999136924744, 0.28029999136924744, 0.28029999136924744, 0.26409998536109924, 0.26409998536109924, 0.26409998536109924, 0.26409998536109924, 0.26409998536109924, 0.26409998536109924, 0.26409998536109924, 0.23909999430179596, 0.23909999430179596, 0.23909999430179596, 0.23909999430179596, 0.23909999430179596, 0.23909999430179596, 0.23909999430179596, 0.23909999430179596, -0.2637999951839447, -0.2971000075340271, -0.5598999857902527, -0.5839999914169312, -0.5839999914169312, -0.6312000155448914, -0.6312000155448914, -0.6377999782562256, 0.35589998960494995, 0.35589998960494995, 0.28029999136924744, 0.28029999136924744, 0.28029999136924744, 0.28029999136924744, 0.28029999136924744, 0.28029999136924744, 0.28029999136924744, 0.26409998536109924, 0.26409998536109924, 0.26409998536109924, 0.26409998536109924, 0.26409998536109924, 0.26409998536109924, 0.26409998536109924, 0.23909999430179596, 0.23909999430179596, 0.23909999430179596, 0.23909999430179596, 0.23909999430179596, 0.23909999430179596, 0.23909999430179596, 0.23909999430179596, -0.2637999951839447, -0.2971000075340271, -0.5598999857902527, -0.5839999914169312, -0.5839999914169312, -0.6312000155448914, -0.6312000155448914, -0.6377999782562256, 0.35589998960494995, 0.35589998960494995, 0.28029999136924744, 0.28029999136924744, 0.28029999136924744, 0.28029999136924744, 0.28029999136924744, 0.28029999136924744, 0.28029999136924744, 0.26409998536109924, 0.26409998536109924, 0.26409998536109924, 0.26409998536109924, 0.26409998536109924, 0.26409998536109924, 0.26409998536109924, 0.23909999430179596, 0.23909999430179596, 0.23909999430179596, 0.23909999430179596, 0.23909999430179596, 0.23909999430179596, 0.23909999430179596, 0.23909999430179596, -0.2637999951839447, -0.2971000075340271, -0.5598999857902527, -0.5839999914169312, -0.5839999914169312, -0.6312000155448914, -0.6312000155448914, -0.6377999782562256, 0.35589998960494995, 0.35589998960494995, 0.28029999136924744, 0.28029999136924744, 0.28029999136924744, 0.28029999136924744, 0.28029999136924744, 0.28029999136924744, 0.28029999136924744, 0.26409998536109924, 0.26409998536109924, 0.26409998536109924, 0.26409998536109924, 0.26409998536109924, 0.26409998536109924, 0.26409998536109924, 0.23909999430179596, 0.23909999430179596, 0.23909999430179596, 0.23909999430179596, 0.23909999430179596, 0.23909999430179596, 0.23909999430179596, 0.23909999430179596, -0.2637999951839447, -0.2971000075340271, -0.5598999857902527, -0.5839999914169312, -0.5839999914169312, -0.6312000155448914, -0.6312000155448914, -0.6377999782562256, 0.35589998960494995, 0.35589998960494995, 0.28029999136924744, 0.28029999136924744, 0.28029999136924744, 0.28029999136924744, 0.28029999136924744, 0.28029999136924744, 0.28029999136924744, 0.26409998536109924, 0.26409998536109924, 0.26409998536109924, 0.26409998536109924, 0.26409998536109924, 0.26409998536109924, 0.26409998536109924, 0.23909999430179596, 0.23909999430179596, 0.23909999430179596, 0.23909999430179596, 0.23909999430179596, 0.23909999430179596, 0.23909999430179596, 0.23909999430179596, -0.2637999951839447, -0.2971000075340271, -0.5598999857902527, -0.5839999914169312, -0.5839999914169312, -0.6312000155448914, -0.6312000155448914, -0.6377999782562256], \"logprob\": [30.0, 29.0, 28.0, 27.0, 26.0, 25.0, 24.0, 23.0, 22.0, 21.0, 20.0, 19.0, 18.0, 17.0, 16.0, 15.0, 14.0, 13.0, 12.0, 11.0, 10.0, 9.0, 8.0, 7.0, 6.0, 5.0, 4.0, 3.0, 2.0, 1.0, -2.561300039291382, -2.561300039291382, -2.561300039291382, -2.561300039291382, -2.561300039291382, -2.561300039291382, -2.561300039291382, -2.561300039291382, -2.561300039291382, -2.561300039291382, -2.561300039291382, -2.561300039291382, -5.605800151824951, -5.605800151824951, -5.605800151824951, -5.605800151824951, -5.605800151824951, -5.605800151824951, -5.605800151824951, -5.605800151824951, -5.605800151824951, -5.605800151824951, -5.605800151824951, -5.605800151824951, -5.605800151824951, -5.605800151824951, -5.605800151824951, -5.605800151824951, -5.605800151824951, -5.605800151824951, -5.605800151824951, -2.4021999835968018, -2.4021999835968018, -2.4021999835968018, -2.4021999835968018, -2.4021999835968018, -2.4021999835968018, -2.4021999835968018, -2.4021999835968018, -2.4021999835968018, -2.4021999835968018, -5.446700096130371, -5.446700096130371, -5.446700096130371, -5.446700096130371, -5.446700096130371, -5.446700096130371, -5.446700096130371, -5.446700096130371, -5.446700096130371, -5.446700096130371, -5.446700096130371, -5.446700096130371, -5.446700096130371, -5.446700096130371, -5.446700096130371, -5.446700096130371, -5.446700096130371, -5.446700096130371, -5.446700096130371, -5.446700096130371, -5.446700096130371, -5.446700096130371, -1.6430000066757202, -2.3120999336242676, -1.6430000066757202, -1.6430000066757202, -2.3120999336242676, -2.3120999336242676, -5.356599807739258, -5.356599807739258, -5.356599807739258, -5.356599807739258, -5.356599807739258, -5.356599807739258, -5.356599807739258, -5.356599807739258, -5.356599807739258, -5.356599807739258, -5.356599807739258, -5.356599807739258, -5.356599807739258, -5.356599807739258, -5.356599807739258, -5.356599807739258, -5.356599807739258, -5.356599807739258, -5.356599807739258, -5.356599807739258, -5.356599807739258, -5.356599807739258, -5.356599807739258, -5.356599807739258, -5.356599807739258, -5.356599807739258, -2.3120999336242676, -2.3120999336242676, -2.3120999336242676, -2.3120999336242676, -2.3120999336242676, -2.3120999336242676, -2.3120999336242676, -2.3120999336242676, -2.3120999336242676, -5.356599807739258, -5.356599807739258, -5.356599807739258, -5.356599807739258, -5.356599807739258, -5.356599807739258, -5.356599807739258, -5.356599807739258, -5.356599807739258, -5.356599807739258, -5.356599807739258, -5.356599807739258, -5.356599807739258, -5.356599807739258, -5.356599807739258, -5.356599807739258, -5.356599807739258, -5.356599807739258, -5.356599807739258, -5.356599807739258, -5.356599807739258, -5.356599807739258, -1.9794000387191772, -1.9794000387191772, -1.3102999925613403, -1.9794000387191772, -1.9794000387191772, -5.023900032043457, -5.023900032043457, -5.023900032043457, -5.023900032043457, -5.023900032043457, -5.023900032043457, -5.023900032043457, -5.023900032043457, -5.023900032043457, -5.023900032043457, -5.023900032043457, -5.023900032043457, -5.023900032043457, -5.023900032043457, -5.023900032043457, -5.023900032043457, -5.023900032043457, -5.023900032043457, -5.023900032043457, -5.023900032043457, -5.023900032043457, -5.023900032043457, -5.023900032043457, -5.023900032043457, -5.023900032043457, -5.023900032043457, -5.023900032043457, -3.4656999111175537, -3.4656999111175537, -3.4656999111175537, -3.4656999111175537, -3.4656999111175537, -3.4656999111175537, -3.4656999111175537, -3.4656999111175537, -3.4656999111175537, -3.4656999111175537, -3.4656999111175537, -3.4656999111175537, -3.4656999111175537, -3.4656999111175537, -3.4656999111175537, -3.4656999111175537, -3.4656999111175537, -3.4656999111175537, -3.4656999111175537, -3.4656999111175537, -3.4656999111175537, -3.4656999111175537, -3.4656999111175537, -3.4656999111175537, -3.4656999111175537, -3.4656999111175537, -3.4656999111175537, -3.4656999111175537, -3.4656999111175537, -3.4656999111175537, -3.4656999111175537, -3.4656999111175537, -3.4656999111175537, -3.4656999111175537, -3.4656999111175537, -3.4656999111175537, -3.4656999111175537, -3.4656999111175537, -3.4656999111175537, -3.4656999111175537, -3.4656999111175537, -3.4656999111175537, -3.4656999111175537, -3.4656999111175537, -3.4656999111175537, -3.4656999111175537, -3.4656999111175537, -3.4656999111175537, -3.4656999111175537, -3.4656999111175537, -3.4656999111175537, -3.4656999111175537, -3.4656999111175537, -3.4656999111175537, -3.4656999111175537, -3.4656999111175537, -3.4656999111175537, -3.4656999111175537, -3.4656999111175537, -3.4656999111175537, -3.4656999111175537, -3.4656999111175537, -3.4656999111175537, -3.4656999111175537, -3.4656999111175537, -3.4656999111175537, -3.4656999111175537, -3.4656999111175537, -3.4656999111175537, -3.4656999111175537, -3.4656999111175537, -3.4656999111175537, -3.4656999111175537, -3.4656999111175537, -3.4656999111175537, -3.4656999111175537, -3.4656999111175537, -3.4656999111175537, -3.4656999111175537, -3.4656999111175537, -3.4656999111175537, -3.4656999111175537, -3.4656999111175537, -3.4656999111175537, -3.4656999111175537, -3.4656999111175537, -3.4656999111175537, -3.4656999111175537, -3.4656999111175537, -3.4656999111175537, -3.4656999111175537, -3.4656999111175537, -3.4656999111175537, -3.4656999111175537, -3.4656999111175537, -3.4656999111175537, -3.4656999111175537, -3.4656999111175537, -3.4656999111175537, -3.4656999111175537, -3.4656999111175537, -3.4656999111175537, -3.4656999111175537, -3.4656999111175537, -3.4656999111175537, -3.4656999111175537, -3.4656999111175537, -3.4656999111175537, -3.4656999111175537, -3.4656999111175537, -3.4656999111175537, -3.4656999111175537, -3.4656999111175537, -3.4656999111175537, -3.4656999111175537, -3.4656999111175537, -3.4656999111175537, -3.4656999111175537, -3.4656999111175537, -3.4656999111175537, -3.4656999111175537, -3.4656999111175537, -3.4656999111175537, -3.4656999111175537, -3.4656999111175537, -3.4656999111175537, -3.4656999111175537, -3.4656999111175537, -3.4656999111175537, -3.4656999111175537, -3.4656999111175537, -3.4656999111175537, -3.4656999111175537, -3.4656999111175537, -3.4656999111175537, -3.4656999111175537, -3.4656999111175537, -3.4656999111175537, -3.4656999111175537, -3.4656999111175537, -3.4656999111175537, -3.4656999111175537, -3.4656999111175537, -3.4656999111175537, -3.4656999111175537, -3.4656999111175537, -3.4656999111175537, -3.4656999111175537, -3.4656999111175537, -3.4656999111175537, -3.4656999111175537, -3.4656999111175537, -3.4656999111175537, -3.4656999111175537, -3.4656999111175537, -3.4656999111175537, -3.4656999111175537, -3.4656999111175537, -3.4656999111175537, -3.4656999111175537, -3.4656999111175537, -3.4656999111175537, -3.4656999111175537, -3.4656999111175537, -3.4656999111175537, -3.4656999111175537, -3.4656999111175537, -3.4656999111175537, -3.4656999111175537, -3.4656999111175537, -3.4656999111175537, -3.4656999111175537, -3.4656999111175537, -3.4656999111175537, -3.4656999111175537, -3.4656999111175537, -3.4656999111175537, -3.4656999111175537, -3.4656999111175537, -3.4656999111175537, -3.4656999111175537, -3.4656999111175537, -3.4656999111175537, -3.4656999111175537, -3.4656999111175537, -3.4656999111175537, -3.4656999111175537, -3.4656999111175537, -3.4656999111175537, -3.4656999111175537, -3.4656999111175537, -3.4656999111175537, -3.4656999111175537, -3.4656999111175537, -3.4656999111175537, -3.4656999111175537, -3.4656999111175537, -3.4656999111175537, -3.4656999111175537, -3.4656999111175537, -3.4656999111175537, -3.4656999111175537, -3.4656999111175537, -3.4656999111175537, -3.4656999111175537, -3.4656999111175537, -3.4656999111175537, -3.4656999111175537, -3.4656999111175537, -3.4656999111175537, -3.4656999111175537, -3.4656999111175537, -3.4656999111175537, -3.4656999111175537, -3.4656999111175537, -3.4656999111175537, -3.4656999111175537, -3.4656999111175537, -3.4656999111175537, -3.4656999111175537, -3.4656999111175537, -3.4656999111175537, -3.4656999111175537, -3.4656999111175537, -3.4656999111175537, -3.4656999111175537, -3.4656999111175537, -3.4656999111175537, -3.4656999111175537, -3.4656999111175537, -3.4656999111175537, -3.4656999111175537, -3.4656999111175537, -3.4656999111175537, -3.4656999111175537, -3.4656999111175537, -3.4656999111175537, -3.4656999111175537, -3.4656999111175537, -3.4656999111175537, -3.4656999111175537, -3.4656999111175537, -3.4656999111175537, -3.4656999111175537, -3.4656999111175537, -3.4656999111175537, -3.4656999111175537, -3.4656999111175537, -3.4656999111175537, -3.4656999111175537, -3.4656999111175537, -3.4656999111175537, -3.4656999111175537, -3.4656999111175537, -3.4656999111175537, -3.4656999111175537, -3.4656999111175537, -3.4656999111175537, -3.4656999111175537, -3.4656999111175537, -3.4656999111175537, -3.4656999111175537, -3.4656999111175537, -3.4656999111175537, -3.4656999111175537, -3.4656999111175537, -3.4656999111175537, -3.4656999111175537, -3.4656999111175537, -3.4656999111175537, -3.4656999111175537, -3.4656999111175537, -3.4656999111175537, -3.4656999111175537, -3.4656999111175537, -3.4656999111175537, -3.4656999111175537, -3.4656999111175537, -3.4656999111175537, -3.4656999111175537, -3.4656999111175537, -3.4656999111175537, -3.4656999111175537, -3.4656999111175537, -3.4656999111175537, -3.4656999111175537, -3.4656999111175537, -3.4656999111175537, -3.4656999111175537, -3.4656999111175537, -3.4656999111175537, -3.4656999111175537, -3.4656999111175537, -3.4656999111175537, -3.4656999111175537, -3.4656999111175537, -3.4656999111175537, -3.4656999111175537, -3.4656999111175537, -3.4656999111175537, -3.4656999111175537, -3.4656999111175537, -3.4656999111175537, -3.4656999111175537, -3.4656999111175537, -3.4656999111175537, -3.4656999111175537, -3.4656999111175537, -3.4656999111175537, -3.4656999111175537, -3.4656999111175537, -3.4656999111175537, -3.4656999111175537, -3.4656999111175537, -3.4656999111175537, -3.4656999111175537, -3.4656999111175537, -3.4656999111175537, -3.4656999111175537, -3.4656999111175537, -3.4656999111175537, -3.4656999111175537, -3.4656999111175537, -3.4656999111175537, -3.4656999111175537, -3.4656999111175537, -3.4656999111175537, -3.4656999111175537, -3.4656999111175537, -3.4656999111175537, -3.4656999111175537, -3.4656999111175537, -3.4656999111175537, -3.4656999111175537, -3.4656999111175537, -3.4656999111175537, -3.4656999111175537, -3.4656999111175537, -3.4656999111175537, -3.4656999111175537, -3.4656999111175537, -3.4656999111175537, -3.4656999111175537, -3.4656999111175537, -3.4656999111175537, -3.4656999111175537, -3.4656999111175537, -3.4656999111175537, -3.4656999111175537, -3.4656999111175537, -3.4656999111175537, -3.4656999111175537, -3.4656999111175537, -3.4656999111175537, -3.4656999111175537, -3.4656999111175537, -3.4656999111175537, -3.4656999111175537, -3.4656999111175537, -3.4656999111175537, -3.4656999111175537, -3.4656999111175537, -3.4656999111175537, -3.4656999111175537, -3.4656999111175537, -3.4656999111175537, -3.4656999111175537, -3.4656999111175537, -3.4656999111175537, -3.4656999111175537, -3.4656999111175537, -3.4656999111175537, -3.4656999111175537, -3.4656999111175537, -3.4656999111175537, -3.4656999111175537, -3.4656999111175537, -3.4656999111175537, -3.4656999111175537, -3.4656999111175537, -3.4656999111175537, -3.4656999111175537, -3.4656999111175537, -3.4656999111175537, -3.4656999111175537, -3.4656999111175537, -3.4656999111175537, -3.4656999111175537, -3.4656999111175537, -3.4656999111175537, -3.4656999111175537, -3.4656999111175537, -3.4656999111175537, -3.4656999111175537, -3.4656999111175537, -3.4656999111175537, -3.4656999111175537, -3.4656999111175537, -3.4656999111175537, -3.4656999111175537, -3.4656999111175537, -3.4656999111175537, -3.4656999111175537, -3.4656999111175537, -3.4656999111175537, -3.4656999111175537, -3.4656999111175537, -3.4656999111175537, -3.4656999111175537, -3.4656999111175537, -3.4656999111175537, -3.4656999111175537, -3.4656999111175537, -3.4656999111175537, -3.4656999111175537, -3.4656999111175537, -3.4656999111175537, -3.4656999111175537, -3.4656999111175537, -3.4656999111175537, -3.4656999111175537, -3.4656999111175537, -3.4656999111175537, -3.4656999111175537, -3.4656999111175537, -3.4656999111175537, -3.4656999111175537, -3.4656999111175537, -3.4656999111175537, -3.4656999111175537, -3.4656999111175537, -3.4656999111175537, -3.4656999111175537, -3.4656999111175537, -3.4656999111175537, -3.4656999111175537, -3.4656999111175537, -3.4656999111175537, -3.4656999111175537, -3.4656999111175537, -3.4656999111175537, -3.4656999111175537, -3.4656999111175537, -3.4656999111175537, -3.4656999111175537, -3.4656999111175537, -3.4656999111175537, -3.4656999111175537, -3.4656999111175537, -3.4656999111175537, -3.4656999111175537, -3.4656999111175537, -3.4656999111175537, -3.4656999111175537, -3.4656999111175537, -3.4656999111175537, -3.4656999111175537, -3.4656999111175537, -3.4656999111175537, -3.4656999111175537, -3.4656999111175537, -3.4656999111175537, -3.4656999111175537, -3.4656999111175537, -3.4656999111175537, -3.4656999111175537, -3.4656999111175537, -3.4656999111175537, -3.4656999111175537, -3.4656999111175537, -3.4656999111175537, -3.4656999111175537, -3.4656999111175537, -3.4656999111175537, -3.4656999111175537, -3.4656999111175537, -3.4656999111175537, -3.4656999111175537, -3.4656999111175537, -3.4656999111175537]}, \"token.table\": {\"Topic\": [4, 4, 1, 2, 3, 5, 1, 3, 4, 2, 1, 2, 4, 3, 2, 1, 3, 5, 2, 5, 2, 3, 4, 2, 1, 3, 4, 1, 1, 1, 4, 1, 2, 5, 5, 1, 1, 4, 2, 2, 4, 1], \"Freq\": [0.920733630657196, 0.920733630657196, 0.8835890293121338, 0.9059506058692932, 0.7759022116661072, 0.3879511058330536, 0.3700413405895233, 0.3700413405895233, 0.3700413405895233, 0.9059506058692932, 0.36763033270835876, 0.36763033270835876, 0.36763033270835876, 1.0687081813812256, 0.9059506058692932, 0.8835890293121338, 0.7759022116661072, 0.3879511058330536, 0.3974142074584961, 0.3974142074584961, 0.9059506058692932, 0.9207340478897095, 0.920733630657196, 0.9059506058692932, 0.3700413405895233, 0.3700413405895233, 0.3700413405895233, 0.8835890293121338, 0.8835890293121338, 0.8835890293121338, 0.920733630657196, 0.5168500542640686, 0.5168500542640686, 0.9930578470230103, 0.9930578470230103, 0.8835890293121338, 0.8835890293121338, 0.920733630657196, 0.9059506058692932, 0.9059506058692932, 0.920733630657196, 0.8835890293121338], \"Term\": [\"around\", \"basebal\", \"better\", \"blood\", \"brocolli\", \"brocolli\", \"brother\", \"brother\", \"brother\", \"caus\", \"drive\", \"drive\", \"drive\", \"eat\", \"expert\", \"feel\", \"good\", \"good\", \"health\", \"health\", \"increas\", \"like\", \"lot\", \"may\", \"mother\", \"mother\", \"mother\", \"never\", \"often\", \"perform\", \"practic\", \"pressur\", \"pressur\", \"profession\", \"say\", \"school\", \"seem\", \"spend\", \"suggest\", \"tension\", \"time\", \"well\"]}, \"R\": 30, \"lambda.step\": 0.01, \"plot.opts\": {\"xlab\": \"PC1\", \"ylab\": \"PC2\"}, \"topic.order\": [11, 9, 20, 3, 13, 2, 4, 5, 6, 7, 8, 10, 19, 12, 14, 15, 16, 17, 18, 1]};\n",
       "\n",
       "function LDAvis_load_lib(url, callback){\n",
       "  var s = document.createElement('script');\n",
       "  s.src = url;\n",
       "  s.async = true;\n",
       "  s.onreadystatechange = s.onload = callback;\n",
       "  s.onerror = function(){console.warn(\"failed to load library \" + url);};\n",
       "  document.getElementsByTagName(\"head\")[0].appendChild(s);\n",
       "}\n",
       "\n",
       "if(typeof(LDAvis) !== \"undefined\"){\n",
       "   // already loaded: just create the visualization\n",
       "   !function(LDAvis){\n",
       "       new LDAvis(\"#\" + \"ldavis_el1024747973653682598612497\", ldavis_el1024747973653682598612497_data);\n",
       "   }(LDAvis);\n",
       "}else if(typeof define === \"function\" && define.amd){\n",
       "   // require.js is available: use it to load d3/LDAvis\n",
       "   require.config({paths: {d3: \"https://cdnjs.cloudflare.com/ajax/libs/d3/3.5.5/d3.min\"}});\n",
       "   require([\"d3\"], function(d3){\n",
       "      window.d3 = d3;\n",
       "      LDAvis_load_lib(\"https://cdn.rawgit.com/bmabey/pyLDAvis/files/ldavis.v1.0.0.js\", function(){\n",
       "        new LDAvis(\"#\" + \"ldavis_el1024747973653682598612497\", ldavis_el1024747973653682598612497_data);\n",
       "      });\n",
       "    });\n",
       "}else{\n",
       "    // require.js not available: dynamically load d3 & LDAvis\n",
       "    LDAvis_load_lib(\"https://cdnjs.cloudflare.com/ajax/libs/d3/3.5.5/d3.min.js\", function(){\n",
       "         LDAvis_load_lib(\"https://cdn.rawgit.com/bmabey/pyLDAvis/files/ldavis.v1.0.0.js\", function(){\n",
       "                 new LDAvis(\"#\" + \"ldavis_el1024747973653682598612497\", ldavis_el1024747973653682598612497_data);\n",
       "            })\n",
       "         });\n",
       "}\n",
       "</script>"
      ],
      "text/plain": [
       "<IPython.core.display.HTML object>"
      ]
     },
     "execution_count": 63,
     "metadata": {},
     "output_type": "execute_result"
    }
   ],
   "source": [
    "pyLDAvis.display(model_prep)\n",
    "#pyLDAvis.show(model_prep)"
   ]
  },
  {
   "cell_type": "markdown",
   "metadata": {},
   "source": [
    "## save visualizing"
   ]
  },
  {
   "cell_type": "code",
   "execution_count": 66,
   "metadata": {},
   "outputs": [],
   "source": [
    "if save_vis:\n",
    "    pyLDAvis.save_html(model_prep,outpath_vis+\"model_vis.html\")\n"
   ]
  },
  {
   "cell_type": "markdown",
   "metadata": {},
   "source": [
    "# Appendix"
   ]
  },
  {
   "cell_type": "markdown",
   "metadata": {},
   "source": [
    "## Practical notes"
   ]
  },
  {
   "cell_type": "markdown",
   "metadata": {},
   "source": [
    "- LDA in sklearn: \n",
    "    - https://medium.com/@aneesha/topic-modeling-with-scikit-learn-e80d33668730\n",
    "- Tips and tricks: \n",
    "    - https://www.researchgate.net/publication/307303102_What_is_Wrong_with_Topic_Modeling_and_How_to_Fix_it_Using_Search-based_SE\n",
    "- Determine number of topics:\n",
    "    - https://github.com/scikit-learn/scikit-learn/issues/9134\n",
    "    - https://www.quora.com/Latent-Dirichlet-Allocation-LDA-What-is-the-best-way-to-determine-k-number-of-topics-in-topic-modeling\n"
   ]
  },
  {
   "cell_type": "markdown",
   "metadata": {},
   "source": [
    "## Theory"
   ]
  },
  {
   "cell_type": "markdown",
   "metadata": {},
   "source": [
    "- explaining LDA:\n",
    "    - Paper: http://ai.stanford.edu/~ang/papers/jair03-lda.pdf\n",
    "    - Friendly explanation: http://blog.echen.me/2011/08/22/introduction-to-latent-dirichlet-allocation/\n",
    "\n",
    "- Coherence metric:\n",
    "    - http://nbviewer.jupyter.org/github/dsquareindia/gensim/blob/a4b2629c0fdb0a7932db24dfcf06699c928d112f/docs/notebooks/topic_coherence_tutorial.ipynb\n",
    "    - explained http://qpleple.com/topic-coherence-to-evaluate-topic-models/\n",
    "    - https://rare-technologies.com/what-is-topic-coherence/"
   ]
  },
  {
   "cell_type": "code",
   "execution_count": null,
   "metadata": {},
   "outputs": [],
   "source": []
  }
 ],
 "metadata": {
  "kernelspec": {
   "display_name": "Python 3",
   "language": "python",
   "name": "python3"
  },
  "language_info": {
   "codemirror_mode": {
    "name": "ipython",
    "version": 3
   },
   "file_extension": ".py",
   "mimetype": "text/x-python",
   "name": "python",
   "nbconvert_exporter": "python",
   "pygments_lexer": "ipython3",
   "version": "3.7.1"
  }
 },
 "nbformat": 4,
 "nbformat_minor": 2
}
