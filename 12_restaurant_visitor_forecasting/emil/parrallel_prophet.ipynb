{
 "cells": [
  {
   "cell_type": "markdown",
   "metadata": {},
   "source": [
    "# Purpose\n",
    "- explore this restaurent forecasting\n",
    "    - https://www.kaggle.com/c/recruit-restaurant-visitor-forecasting/data\n",
    "    - It covers two restaurents booking systems\n",
    "        - air\n",
    "        - hpg\n",
    "    - It contains\n",
    "        - reservation data\n",
    "        - basic store info (location + genre)\n",
    "        - join table for some restaurents\n",
    "        - Actual visitor data (only air restaurents)\n",
    "        - (japanese holidays).\n",
    "    - The tasks is to predict actual visitors for a number of retaurents\n",
    "        - Parrelel: https://medium.com/spikelab/forecasting-multiples-time-series-using-prophet-in-parallel-2515abd1a245"
   ]
  },
  {
   "cell_type": "code",
   "execution_count": 25,
   "metadata": {},
   "outputs": [],
   "source": [
    "import pandas as pd\n",
    "import matplotlib\n",
    "import matplotlib.pyplot as plt\n",
    "from fbprophet import Prophet\n",
    "\n",
    "# time and timing\n",
    "from tqdm import tqdm\n",
    "import time\n",
    "\n",
    "%matplotlib inline"
   ]
  },
  {
   "cell_type": "code",
   "execution_count": 2,
   "metadata": {},
   "outputs": [
    {
     "name": "stdout",
     "output_type": "stream",
     "text": [
      "recruit-restaurant-visitor-forecasting.zip: Skipping, found more recently modified local copy (use --force to force download)\n",
      "Archive:  recruit-restaurant-visitor-forecasting.zip\n",
      "  inflating: data/air_reserve.csv.zip  \n",
      "  inflating: data/air_store_info.csv.zip  \n",
      "  inflating: data/air_visit_data.csv.zip  \n",
      "  inflating: data/date_info.csv.zip  \n",
      "  inflating: data/hpg_reserve.csv.zip  \n",
      "  inflating: data/hpg_store_info.csv.zip  \n",
      "  inflating: data/sample_submission.csv.zip  \n",
      "  inflating: data/store_id_relation.csv.zip  \n",
      "mkdir: data: File exists\n",
      "Archive:  data/air_reserve.csv.zip\n",
      "  inflating: data/air_reserve.csv    \n",
      "Archive:  data/air_store_info.csv.zip\n",
      "  inflating: data/air_store_info.csv  \n",
      "Archive:  data/air_visit_data.csv.zip\n",
      "  inflating: data/air_visit_data.csv  \n",
      "Archive:  data/date_info.csv.zip\n",
      "  inflating: data/date_info.csv      \n",
      "Archive:  data/hpg_reserve.csv.zip\n",
      "  inflating: data/hpg_reserve.csv    \n",
      "Archive:  data/hpg_store_info.csv.zip\n",
      "  inflating: data/hpg_store_info.csv  \n",
      "Archive:  data/sample_submission.csv.zip\n",
      "  inflating: data/sample_submission.csv  \n",
      "Archive:  data/store_id_relation.csv.zip\n",
      "  inflating: data/store_id_relation.csv  \n"
     ]
    }
   ],
   "source": [
    "# Get data\n",
    "!kaggle competitions download -c recruit-restaurant-visitor-forecasting\n",
    "!unzip -o recruit-restaurant-visitor-forecasting.zip -d data\n",
    "!mkdir data\n",
    "files = ['air_reserve.csv.zip','air_store_info.csv.zip','air_visit_data.csv.zip','date_info.csv.zip','hpg_reserve.csv.zip','hpg_store_info.csv.zip','sample_submission.csv.zip','store_id_relation.csv.zip']\n",
    "for file in files:\n",
    "    !unzip -o data/{file} -d data\n",
    "    !rm data/{file}"
   ]
  },
  {
   "cell_type": "code",
   "execution_count": 2,
   "metadata": {},
   "outputs": [],
   "source": [
    "data = {\n",
    "    'air_reserve': pd.read_csv('data/air_reserve.csv'),\n",
    "    'air_store_info': pd.read_csv('data/air_store_info.csv'),\n",
    "    'air_visit_data': pd.read_csv('data/air_visit_data.csv'),\n",
    "    'date_info': pd.read_csv('data/date_info.csv'),\n",
    "    'hpg_reserve': pd.read_csv('data/hpg_reserve.csv'),\n",
    "    'hpg_store_info': pd.read_csv('data/hpg_store_info.csv'),\n",
    "    'sample_submission': pd.read_csv('data/sample_submission.csv'),\n",
    "    'store_id_relation': pd.read_csv('data/store_id_relation.csv'),\n",
    "}"
   ]
  },
  {
   "cell_type": "markdown",
   "metadata": {},
   "source": [
    "# generate list of data"
   ]
  },
  {
   "cell_type": "code",
   "execution_count": 9,
   "metadata": {},
   "outputs": [],
   "source": [
    "history = data[\"air_visit_data\"]\n",
    "history.rename(columns = {'visit_date':'ds','visitors':'y'}, inplace = True)\n",
    "stores = pd.unique(history[\"air_store_id\"])\n",
    "\n",
    "\n",
    "hist_list = [(store_id,history[history[\"air_store_id\"]==store_id]) for store_id in stores]\n",
    "\n"
   ]
  },
  {
   "cell_type": "code",
   "execution_count": 32,
   "metadata": {},
   "outputs": [
    {
     "name": "stdout",
     "output_type": "stream",
     "text": [
      "829\n"
     ]
    }
   ],
   "source": [
    "print(len(stores))"
   ]
  },
  {
   "cell_type": "code",
   "execution_count": 26,
   "metadata": {},
   "outputs": [],
   "source": [
    "def run_prophet(raw_in):\n",
    "    idd = raw_in[0]\n",
    "    timeserie = raw_in[1]\n",
    "    model = Prophet(yearly_seasonality=False,daily_seasonality=False)\n",
    "    model.fit(timeserie)\n",
    "    forecast = model.make_future_dataframe(periods=90, include_history=False)\n",
    "    forecast = model.predict(forecast)\n",
    "    return (idd,forecast)\n",
    "\n"
   ]
  },
  {
   "cell_type": "code",
   "execution_count": 27,
   "metadata": {},
   "outputs": [
    {
     "data": {
      "text/html": [
       "<div>\n",
       "<style scoped>\n",
       "    .dataframe tbody tr th:only-of-type {\n",
       "        vertical-align: middle;\n",
       "    }\n",
       "\n",
       "    .dataframe tbody tr th {\n",
       "        vertical-align: top;\n",
       "    }\n",
       "\n",
       "    .dataframe thead th {\n",
       "        text-align: right;\n",
       "    }\n",
       "</style>\n",
       "<table border=\"1\" class=\"dataframe\">\n",
       "  <thead>\n",
       "    <tr style=\"text-align: right;\">\n",
       "      <th></th>\n",
       "      <th>ds</th>\n",
       "      <th>trend</th>\n",
       "      <th>yhat_lower</th>\n",
       "      <th>yhat_upper</th>\n",
       "      <th>trend_lower</th>\n",
       "      <th>trend_upper</th>\n",
       "      <th>additive_terms</th>\n",
       "      <th>additive_terms_lower</th>\n",
       "      <th>additive_terms_upper</th>\n",
       "      <th>weekly</th>\n",
       "      <th>weekly_lower</th>\n",
       "      <th>weekly_upper</th>\n",
       "      <th>multiplicative_terms</th>\n",
       "      <th>multiplicative_terms_lower</th>\n",
       "      <th>multiplicative_terms_upper</th>\n",
       "      <th>yhat</th>\n",
       "    </tr>\n",
       "  </thead>\n",
       "  <tbody>\n",
       "    <tr>\n",
       "      <th>0</th>\n",
       "      <td>2017-04-23</td>\n",
       "      <td>15.405555</td>\n",
       "      <td>-10.129902</td>\n",
       "      <td>12.092882</td>\n",
       "      <td>15.405555</td>\n",
       "      <td>15.405555</td>\n",
       "      <td>-14.610081</td>\n",
       "      <td>-14.610081</td>\n",
       "      <td>-14.610081</td>\n",
       "      <td>-14.610081</td>\n",
       "      <td>-14.610081</td>\n",
       "      <td>-14.610081</td>\n",
       "      <td>0.0</td>\n",
       "      <td>0.0</td>\n",
       "      <td>0.0</td>\n",
       "      <td>0.795474</td>\n",
       "    </tr>\n",
       "    <tr>\n",
       "      <th>1</th>\n",
       "      <td>2017-04-24</td>\n",
       "      <td>15.374386</td>\n",
       "      <td>-2.879692</td>\n",
       "      <td>19.662629</td>\n",
       "      <td>15.374386</td>\n",
       "      <td>15.374386</td>\n",
       "      <td>-7.024480</td>\n",
       "      <td>-7.024480</td>\n",
       "      <td>-7.024480</td>\n",
       "      <td>-7.024480</td>\n",
       "      <td>-7.024480</td>\n",
       "      <td>-7.024480</td>\n",
       "      <td>0.0</td>\n",
       "      <td>0.0</td>\n",
       "      <td>0.0</td>\n",
       "      <td>8.349906</td>\n",
       "    </tr>\n",
       "    <tr>\n",
       "      <th>2</th>\n",
       "      <td>2017-04-25</td>\n",
       "      <td>15.343217</td>\n",
       "      <td>2.759732</td>\n",
       "      <td>25.223538</td>\n",
       "      <td>15.343217</td>\n",
       "      <td>15.343217</td>\n",
       "      <td>-2.120749</td>\n",
       "      <td>-2.120749</td>\n",
       "      <td>-2.120749</td>\n",
       "      <td>-2.120749</td>\n",
       "      <td>-2.120749</td>\n",
       "      <td>-2.120749</td>\n",
       "      <td>0.0</td>\n",
       "      <td>0.0</td>\n",
       "      <td>0.0</td>\n",
       "      <td>13.222468</td>\n",
       "    </tr>\n",
       "    <tr>\n",
       "      <th>3</th>\n",
       "      <td>2017-04-26</td>\n",
       "      <td>15.312049</td>\n",
       "      <td>7.638902</td>\n",
       "      <td>29.769596</td>\n",
       "      <td>15.312024</td>\n",
       "      <td>15.312049</td>\n",
       "      <td>3.162548</td>\n",
       "      <td>3.162548</td>\n",
       "      <td>3.162548</td>\n",
       "      <td>3.162548</td>\n",
       "      <td>3.162548</td>\n",
       "      <td>3.162548</td>\n",
       "      <td>0.0</td>\n",
       "      <td>0.0</td>\n",
       "      <td>0.0</td>\n",
       "      <td>18.474596</td>\n",
       "    </tr>\n",
       "    <tr>\n",
       "      <th>4</th>\n",
       "      <td>2017-04-27</td>\n",
       "      <td>15.280880</td>\n",
       "      <td>4.481972</td>\n",
       "      <td>26.080419</td>\n",
       "      <td>15.280294</td>\n",
       "      <td>15.281262</td>\n",
       "      <td>-0.343313</td>\n",
       "      <td>-0.343313</td>\n",
       "      <td>-0.343313</td>\n",
       "      <td>-0.343313</td>\n",
       "      <td>-0.343313</td>\n",
       "      <td>-0.343313</td>\n",
       "      <td>0.0</td>\n",
       "      <td>0.0</td>\n",
       "      <td>0.0</td>\n",
       "      <td>14.937568</td>\n",
       "    </tr>\n",
       "  </tbody>\n",
       "</table>\n",
       "</div>"
      ],
      "text/plain": [
       "          ds      trend  yhat_lower  yhat_upper  trend_lower  trend_upper  \\\n",
       "0 2017-04-23  15.405555  -10.129902   12.092882    15.405555    15.405555   \n",
       "1 2017-04-24  15.374386   -2.879692   19.662629    15.374386    15.374386   \n",
       "2 2017-04-25  15.343217    2.759732   25.223538    15.343217    15.343217   \n",
       "3 2017-04-26  15.312049    7.638902   29.769596    15.312024    15.312049   \n",
       "4 2017-04-27  15.280880    4.481972   26.080419    15.280294    15.281262   \n",
       "\n",
       "   additive_terms  additive_terms_lower  additive_terms_upper     weekly  \\\n",
       "0      -14.610081            -14.610081            -14.610081 -14.610081   \n",
       "1       -7.024480             -7.024480             -7.024480  -7.024480   \n",
       "2       -2.120749             -2.120749             -2.120749  -2.120749   \n",
       "3        3.162548              3.162548              3.162548   3.162548   \n",
       "4       -0.343313             -0.343313             -0.343313  -0.343313   \n",
       "\n",
       "   weekly_lower  weekly_upper  multiplicative_terms  \\\n",
       "0    -14.610081    -14.610081                   0.0   \n",
       "1     -7.024480     -7.024480                   0.0   \n",
       "2     -2.120749     -2.120749                   0.0   \n",
       "3      3.162548      3.162548                   0.0   \n",
       "4     -0.343313     -0.343313                   0.0   \n",
       "\n",
       "   multiplicative_terms_lower  multiplicative_terms_upper       yhat  \n",
       "0                         0.0                         0.0   0.795474  \n",
       "1                         0.0                         0.0   8.349906  \n",
       "2                         0.0                         0.0  13.222468  \n",
       "3                         0.0                         0.0  18.474596  \n",
       "4                         0.0                         0.0  14.937568  "
      ]
     },
     "execution_count": 27,
     "metadata": {},
     "output_type": "execute_result"
    }
   ],
   "source": [
    "# test 1 \n",
    "f = run_prophet(hist_list[0])\n",
    "f[1].head()"
   ]
  },
  {
   "cell_type": "markdown",
   "metadata": {},
   "source": [
    "# non parrallel 10 first"
   ]
  },
  {
   "cell_type": "code",
   "execution_count": 28,
   "metadata": {},
   "outputs": [
    {
     "name": "stderr",
     "output_type": "stream",
     "text": [
      "100%|██████████| 10/10 [00:27<00:00,  2.71s/it]"
     ]
    },
    {
     "name": "stdout",
     "output_type": "stream",
     "text": [
      "--- 27.07002902030945 seconds ---\n"
     ]
    },
    {
     "name": "stderr",
     "output_type": "stream",
     "text": [
      "\n"
     ]
    }
   ],
   "source": [
    "series = hist_list[:10] \n",
    "start_time = time.time()\n",
    "result = list(map(lambda timeserie: run_prophet(timeserie), tqdm(series)))\n",
    "print(\"--- %s seconds ---\" % (time.time() - start_time))"
   ]
  },
  {
   "cell_type": "markdown",
   "metadata": {},
   "source": [
    "# do parrallel predict 10 first"
   ]
  },
  {
   "cell_type": "code",
   "execution_count": 31,
   "metadata": {},
   "outputs": [],
   "source": [
    "# == Does not work == seems to hang indefintely\n",
    "\n",
    "# from multiprocessing import Pool, cpu_count\n",
    "# series = hist_list[:10] \n",
    "\n",
    "# p = Pool(cpu_count()-1)\n",
    "# print(p)\n",
    "# predictions = list(tqdm(p.imap(run_prophet, series), total=len(series)))\n",
    "# p.close()\n",
    "# p.join()\n",
    "# print(\"--- %s seconds ---\" % (time.time() - start_time))"
   ]
  },
  {
   "cell_type": "markdown",
   "metadata": {},
   "source": [
    "# Try exact toy example"
   ]
  },
  {
   "cell_type": "markdown",
   "metadata": {},
   "source": [
    "https://medium.com/spikelab/forecasting-multiples-time-series-using-prophet-in-parallel-2515abd1a245M\n",
    "    "
   ]
  },
  {
   "cell_type": "code",
   "execution_count": 35,
   "metadata": {},
   "outputs": [],
   "source": [
    "import pandas as pd\n",
    "import numpy as np\n",
    "def rnd_timeserie(min_date, max_date):\n",
    "    time_index = pd.date_range(min_date, max_date)\n",
    "    dates = (pd.DataFrame({'ds': pd.to_datetime(time_index.values)},\n",
    "                          index=range(len(time_index))))\n",
    "    y = np.random.random_sample(len(dates))*10\n",
    "    dates['y'] = y\n",
    "    return dates"
   ]
  },
  {
   "cell_type": "code",
   "execution_count": 34,
   "metadata": {},
   "outputs": [
    {
     "ename": "SyntaxError",
     "evalue": "invalid syntax (<ipython-input-34-3ce43f55e4fc>, line 1)",
     "output_type": "error",
     "traceback": [
      "\u001b[0;36m  File \u001b[0;32m\"<ipython-input-34-3ce43f55e4fc>\"\u001b[0;36m, line \u001b[0;32m1\u001b[0m\n\u001b[0;31m    https://medium.com/spikelab/forecasting-multiples-time-series-using-prophet-in-parallel-2515abd1a245\u001b[0m\n\u001b[0m          ^\u001b[0m\n\u001b[0;31mSyntaxError\u001b[0m\u001b[0;31m:\u001b[0m invalid syntax\n"
     ]
    }
   ],
   "source": []
  },
  {
   "cell_type": "code",
   "execution_count": null,
   "metadata": {},
   "outputs": [],
   "source": []
  },
  {
   "cell_type": "code",
   "execution_count": null,
   "metadata": {},
   "outputs": [],
   "source": []
  },
  {
   "cell_type": "code",
   "execution_count": null,
   "metadata": {},
   "outputs": [],
   "source": []
  },
  {
   "cell_type": "code",
   "execution_count": null,
   "metadata": {},
   "outputs": [],
   "source": []
  },
  {
   "cell_type": "code",
   "execution_count": null,
   "metadata": {},
   "outputs": [],
   "source": []
  },
  {
   "cell_type": "code",
   "execution_count": null,
   "metadata": {},
   "outputs": [],
   "source": []
  },
  {
   "cell_type": "code",
   "execution_count": null,
   "metadata": {},
   "outputs": [],
   "source": []
  }
 ],
 "metadata": {
  "kernelspec": {
   "display_name": "Python 3",
   "language": "python",
   "name": "python3"
  },
  "language_info": {
   "codemirror_mode": {
    "name": "ipython",
    "version": 3
   },
   "file_extension": ".py",
   "mimetype": "text/x-python",
   "name": "python",
   "nbconvert_exporter": "python",
   "pygments_lexer": "ipython3",
   "version": "3.9.0"
  }
 },
 "nbformat": 4,
 "nbformat_minor": 4
}
